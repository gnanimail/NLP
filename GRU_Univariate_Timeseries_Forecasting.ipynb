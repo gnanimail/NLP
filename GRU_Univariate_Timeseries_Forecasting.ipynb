{
 "cells": [
  {
   "cell_type": "code",
   "execution_count": null,
   "metadata": {},
   "outputs": [],
   "source": [
    "import math\n",
    "import numpy as np\n",
    "import pandas as pd\n",
    "\n",
    "import matplotlib.pyplot as plt\n",
    "from sklearn.preprocessing import MinMaxScaler\n",
    "from sklearn.metrics import mean_squared_error\n",
    "\n",
    "from keras.models import Sequential\n",
    "from keras.layers import GRU, Dense, Dropout"
   ]
  },
  {
   "cell_type": "code",
   "execution_count": 2,
   "metadata": {},
   "outputs": [],
   "source": [
    "air_data = pd.read_csv('AirPassengers.csv')"
   ]
  },
  {
   "cell_type": "code",
   "execution_count": 3,
   "metadata": {},
   "outputs": [
    {
     "data": {
      "text/html": [
       "<div>\n",
       "<style scoped>\n",
       "    .dataframe tbody tr th:only-of-type {\n",
       "        vertical-align: middle;\n",
       "    }\n",
       "\n",
       "    .dataframe tbody tr th {\n",
       "        vertical-align: top;\n",
       "    }\n",
       "\n",
       "    .dataframe thead th {\n",
       "        text-align: right;\n",
       "    }\n",
       "</style>\n",
       "<table border=\"1\" class=\"dataframe\">\n",
       "  <thead>\n",
       "    <tr style=\"text-align: right;\">\n",
       "      <th></th>\n",
       "      <th>Month</th>\n",
       "      <th>Passengers</th>\n",
       "    </tr>\n",
       "  </thead>\n",
       "  <tbody>\n",
       "    <tr>\n",
       "      <td>0</td>\n",
       "      <td>1949-01</td>\n",
       "      <td>112</td>\n",
       "    </tr>\n",
       "    <tr>\n",
       "      <td>1</td>\n",
       "      <td>1949-02</td>\n",
       "      <td>118</td>\n",
       "    </tr>\n",
       "    <tr>\n",
       "      <td>2</td>\n",
       "      <td>1949-03</td>\n",
       "      <td>132</td>\n",
       "    </tr>\n",
       "    <tr>\n",
       "      <td>3</td>\n",
       "      <td>1949-04</td>\n",
       "      <td>129</td>\n",
       "    </tr>\n",
       "    <tr>\n",
       "      <td>4</td>\n",
       "      <td>1949-05</td>\n",
       "      <td>121</td>\n",
       "    </tr>\n",
       "  </tbody>\n",
       "</table>\n",
       "</div>"
      ],
      "text/plain": [
       "     Month  Passengers\n",
       "0  1949-01         112\n",
       "1  1949-02         118\n",
       "2  1949-03         132\n",
       "3  1949-04         129\n",
       "4  1949-05         121"
      ]
     },
     "execution_count": 3,
     "metadata": {},
     "output_type": "execute_result"
    }
   ],
   "source": [
    "air_data.head()"
   ]
  },
  {
   "cell_type": "code",
   "execution_count": 4,
   "metadata": {},
   "outputs": [
    {
     "data": {
      "text/plain": [
       "[<matplotlib.lines.Line2D at 0x23cfe3e2518>]"
      ]
     },
     "execution_count": 4,
     "metadata": {},
     "output_type": "execute_result"
    },
    {
     "data": {
      "image/png": "[encoded data removed]",
      "text/plain": [
       "<Figure size 432x288 with 1 Axes>"
      ]
     },
     "metadata": {
      "needs_background": "light"
     },
     "output_type": "display_data"
    }
   ],
   "source": [
    "plt.plot(air_data.iloc[:,1])"
   ]
  },
  {
   "cell_type": "code",
   "execution_count": null,
   "metadata": {},
   "outputs": [],
   "source": [
    "#Scaling the data\n",
    "scaler = MinMaxScaler(feature_range=(0,1))\n",
    "air_data_scale = scaler.fit_transform(air_data.iloc[:,1:])"
   ]
  },
  {
   "cell_type": "code",
   "execution_count": 6,
   "metadata": {},
   "outputs": [
    {
     "data": {
      "text/plain": [
       "array([[0.02702703],\n",
       "       [0.05405405],\n",
       "       [0.04826255],\n",
       "       [0.03281853],\n",
       "       [0.05984556],\n",
       "       [0.08494208],\n",
       "       [0.08494208],\n",
       "       [0.06177606],\n",
       "       [0.02895753],\n",
       "       [0.        ],\n",
       "       [0.02702703],\n",
       "       [0.02123552],\n",
       "       [0.04247104],\n",
       "       [0.07142857]])"
      ]
     },
     "execution_count": 6,
     "metadata": {},
     "output_type": "execute_result"
    }
   ],
   "source": [
    "air_data_scale[1:15]"
   ]
  },
  {
   "cell_type": "code",
   "execution_count": 7,
   "metadata": {},
   "outputs": [],
   "source": [
    "train_data, test_data = np.split(air_data_scale, [int(.80*len(air_data_scale))])"
   ]
  },
  {
   "cell_type": "code",
   "execution_count": 8,
   "metadata": {},
   "outputs": [],
   "source": [
    "# convert an array of values into a dataset matrix\n",
    "def time_step_data(dataset, time_step_back):\n",
    "    dataX, dataY = [], []\n",
    "    for i in range(len(dataset)-time_step_back - 1):\n",
    "        a = dataset[i:(i + time_step_back), 0]   ###i=0, 0,1,2,3\n",
    "        dataX.append(a)\n",
    "        dataY.append(dataset[i + time_step_back, 0])\n",
    "        \n",
    "    return np.array(dataX), np.array(dataY)"
   ]
  },
  {
   "cell_type": "code",
   "execution_count": 9,
   "metadata": {},
   "outputs": [],
   "source": [
    "# reshape into X=t,t+1,t+2,t+3 and Y=t+4\n",
    "time_step_back = 4\n",
    "X_train, y_train = time_step_data(train_data, time_step_back)\n",
    "X_test, y_test = time_step_data(test_data, time_step_back)"
   ]
  },
  {
   "cell_type": "code",
   "execution_count": 10,
   "metadata": {},
   "outputs": [],
   "source": [
    "# reshape input to be [samples, time steps, features]\n",
    "train_X = X_train.reshape(X_train.shape[0], 4, 1)\n",
    "test_X = X_test.reshape(X_test.shape[0], 4, 1)"
   ]
  },
  {
   "cell_type": "code",
   "execution_count": 11,
   "metadata": {},
   "outputs": [
    {
     "name": "stdout",
     "output_type": "stream",
     "text": [
      "_________________________________________________________________\n",
      "Layer (type)                 Output Shape              Param #   \n",
      "=================================================================\n",
      "gru_1 (GRU)                  (None, 4, 50)             7800      \n",
      "_________________________________________________________________\n",
      "gru_2 (GRU)                  (None, 4, 30)             7290      \n",
      "_________________________________________________________________\n",
      "gru_3 (GRU)                  (None, 30)                5490      \n",
      "_________________________________________________________________\n",
      "dropout_1 (Dropout)          (None, 30)                0         \n",
      "_________________________________________________________________\n",
      "dense_1 (Dense)              (None, 1)                 31        \n",
      "=================================================================\n",
      "Total params: 20,611\n",
      "Trainable params: 20,611\n",
      "Non-trainable params: 0\n",
      "_________________________________________________________________\n"
     ]
    }
   ],
   "source": [
    "model = Sequential()\n",
    "model.add(GRU(50, return_sequences=True, input_shape=(train_X.shape[1], train_X.shape[2])))\n",
    "model.add(GRU(units=30, return_sequences=True))\n",
    "model.add(GRU(units=30))\n",
    "model.add(Dropout(0.2))\n",
    "model.add(Dense(units=1, activation = 'linear'))\n",
    "model.compile(loss='mean_squared_error', optimizer='adam')\n",
    "model.summary()"
   ]
  },
  {
   "cell_type": "code",
   "execution_count": 12,
   "metadata": {},
   "outputs": [
    {
     "name": "stdout",
     "output_type": "stream",
     "text": [
      "Train on 110 samples, validate on 24 samples\n",
      "Epoch 1/50\n",
      "110/110 [==============================] - 3s 29ms/step - loss: 0.0263 - val_loss: 0.0439\n",
      "Epoch 2/50\n",
      "110/110 [==============================] - 0s 3ms/step - loss: 0.0114 - val_loss: 0.0307\n",
      "Epoch 3/50\n",
      "110/110 [==============================] - 0s 3ms/step - loss: 0.0095 - val_loss: 0.0346\n",
      "Epoch 4/50\n",
      "110/110 [==============================] - 0s 3ms/step - loss: 0.0068 - val_loss: 0.0320\n",
      "Epoch 5/50\n",
      "110/110 [==============================] - 0s 3ms/step - loss: 0.0074 - val_loss: 0.0288\n",
      "Epoch 6/50\n",
      "110/110 [==============================] - 0s 3ms/step - loss: 0.0078 - val_loss: 0.0271\n",
      "Epoch 7/50\n",
      "110/110 [==============================] - 0s 3ms/step - loss: 0.0067 - val_loss: 0.0260\n",
      "Epoch 8/50\n",
      "110/110 [==============================] - 0s 3ms/step - loss: 0.0070 - val_loss: 0.0251\n",
      "Epoch 9/50\n",
      "110/110 [==============================] - 0s 3ms/step - loss: 0.0070 - val_loss: 0.0304\n",
      "Epoch 10/50\n",
      "110/110 [==============================] - 0s 3ms/step - loss: 0.0090 - val_loss: 0.0301\n",
      "Epoch 11/50\n",
      "110/110 [==============================] - 0s 3ms/step - loss: 0.0072 - val_loss: 0.0222\n",
      "Epoch 12/50\n",
      "110/110 [==============================] - 0s 3ms/step - loss: 0.0086 - val_loss: 0.0355\n",
      "Epoch 13/50\n",
      "110/110 [==============================] - 0s 3ms/step - loss: 0.0071 - val_loss: 0.0208\n",
      "Epoch 14/50\n",
      "110/110 [==============================] - 0s 3ms/step - loss: 0.0059 - val_loss: 0.0198\n",
      "Epoch 15/50\n",
      "110/110 [==============================] - 0s 3ms/step - loss: 0.0061 - val_loss: 0.0205\n",
      "Epoch 16/50\n",
      "110/110 [==============================] - 0s 3ms/step - loss: 0.0050 - val_loss: 0.0168\n",
      "Epoch 17/50\n",
      "110/110 [==============================] - 0s 3ms/step - loss: 0.0055 - val_loss: 0.0164\n",
      "Epoch 18/50\n",
      "110/110 [==============================] - 0s 3ms/step - loss: 0.0063 - val_loss: 0.0184\n",
      "Epoch 19/50\n",
      "110/110 [==============================] - 0s 3ms/step - loss: 0.0064 - val_loss: 0.0175\n",
      "Epoch 20/50\n",
      "110/110 [==============================] - 0s 4ms/step - loss: 0.0056 - val_loss: 0.0209\n",
      "Epoch 21/50\n",
      "110/110 [==============================] - 0s 3ms/step - loss: 0.0054 - val_loss: 0.0124\n",
      "Epoch 22/50\n",
      "110/110 [==============================] - 0s 3ms/step - loss: 0.0042 - val_loss: 0.0180\n",
      "Epoch 23/50\n",
      "110/110 [==============================] - 0s 3ms/step - loss: 0.0061 - val_loss: 0.0089\n",
      "Epoch 24/50\n",
      "110/110 [==============================] - 0s 3ms/step - loss: 0.0038 - val_loss: 0.0098\n",
      "Epoch 25/50\n",
      "110/110 [==============================] - 0s 3ms/step - loss: 0.0047 - val_loss: 0.0087\n",
      "Epoch 26/50\n",
      "110/110 [==============================] - 0s 3ms/step - loss: 0.0043 - val_loss: 0.0081\n",
      "Epoch 27/50\n",
      "110/110 [==============================] - 0s 3ms/step - loss: 0.0043 - val_loss: 0.0162\n",
      "Epoch 28/50\n",
      "110/110 [==============================] - 0s 3ms/step - loss: 0.0039 - val_loss: 0.0136\n",
      "Epoch 29/50\n",
      "110/110 [==============================] - 0s 3ms/step - loss: 0.0041 - val_loss: 0.0117\n",
      "Epoch 30/50\n",
      "110/110 [==============================] - 0s 3ms/step - loss: 0.0037 - val_loss: 0.0069\n",
      "Epoch 31/50\n",
      "110/110 [==============================] - 0s 3ms/step - loss: 0.0035 - val_loss: 0.0081\n",
      "Epoch 32/50\n",
      "110/110 [==============================] - 0s 3ms/step - loss: 0.0038 - val_loss: 0.0100\n",
      "Epoch 33/50\n",
      "110/110 [==============================] - 0s 3ms/step - loss: 0.0035 - val_loss: 0.0088\n",
      "Epoch 34/50\n",
      "110/110 [==============================] - 0s 3ms/step - loss: 0.0039 - val_loss: 0.0072\n",
      "Epoch 35/50\n",
      "110/110 [==============================] - 0s 3ms/step - loss: 0.0029 - val_loss: 0.0070\n",
      "Epoch 36/50\n",
      "110/110 [==============================] - 0s 3ms/step - loss: 0.0035 - val_loss: 0.0082\n",
      "Epoch 37/50\n",
      "110/110 [==============================] - 0s 3ms/step - loss: 0.0038 - val_loss: 0.0096\n",
      "Epoch 38/50\n",
      "110/110 [==============================] - 0s 3ms/step - loss: 0.0038 - val_loss: 0.0291\n",
      "Epoch 39/50\n",
      "110/110 [==============================] - 0s 3ms/step - loss: 0.0035 - val_loss: 0.0252\n",
      "Epoch 40/50\n",
      "110/110 [==============================] - 0s 3ms/step - loss: 0.0035 - val_loss: 0.0114\n",
      "Epoch 41/50\n",
      "110/110 [==============================] - 0s 3ms/step - loss: 0.0033 - val_loss: 0.0131\n",
      "Epoch 42/50\n",
      "110/110 [==============================] - 0s 3ms/step - loss: 0.0032 - val_loss: 0.0145\n",
      "Epoch 43/50\n",
      "110/110 [==============================] - 0s 4ms/step - loss: 0.0038 - val_loss: 0.0160\n",
      "Epoch 44/50\n",
      "110/110 [==============================] - 0s 3ms/step - loss: 0.0033 - val_loss: 0.0088\n",
      "Epoch 45/50\n",
      "110/110 [==============================] - 0s 3ms/step - loss: 0.0036 - val_loss: 0.0157\n",
      "Epoch 46/50\n",
      "110/110 [==============================] - 0s 3ms/step - loss: 0.0030 - val_loss: 0.0209\n",
      "Epoch 47/50\n",
      "110/110 [==============================] - 0s 3ms/step - loss: 0.0027 - val_loss: 0.0124\n",
      "Epoch 48/50\n",
      "110/110 [==============================] - 0s 3ms/step - loss: 0.0031 - val_loss: 0.0112\n",
      "Epoch 49/50\n",
      "110/110 [==============================] - 0s 4ms/step - loss: 0.0034 - val_loss: 0.0081\n",
      "Epoch 50/50\n",
      "110/110 [==============================] - 0s 3ms/step - loss: 0.0031 - val_loss: 0.0157\n"
     ]
    },
    {
     "data": {
      "text/plain": [
       "<keras.callbacks.History at 0x23cfe432588>"
      ]
     },
     "execution_count": 12,
     "metadata": {},
     "output_type": "execute_result"
    }
   ],
   "source": [
    "# fit gru\n",
    "model.fit(train_X, y_train, epochs=50, batch_size=3, validation_data=(test_X, y_test), verbose=1)"
   ]
  },
  {
   "cell_type": "code",
   "execution_count": 13,
   "metadata": {},
   "outputs": [
    {
     "name": "stdout",
     "output_type": "stream",
     "text": [
      "110/110 [==============================] - 0s 364us/step\n",
      "Train Score: 0.00 MSE (0.05 RMSE)\n",
      "24/24 [==============================] - 0s 104us/step\n",
      "Test Score: 0.02 MSE (0.13 RMSE)\n"
     ]
    }
   ],
   "source": [
    "# Estimate model performance\n",
    "trainScore = model.evaluate(train_X, y_train, verbose=1)\n",
    "print('Train Score: %.2f MSE (%.2f RMSE)' % (trainScore, np.sqrt(trainScore)))\n",
    "\n",
    "testScore = model.evaluate(test_X, y_test, verbose=1)\n",
    "print('Test Score: %.2f MSE (%.2f RMSE)' % (testScore, np.sqrt(testScore))) "
   ]
  },
  {
   "cell_type": "code",
   "execution_count": 14,
   "metadata": {},
   "outputs": [
    {
     "data": {
      "image/png": "[encoded data removed]",
      "text/plain": [
       "<Figure size 432x288 with 1 Axes>"
      ]
     },
     "metadata": {
      "needs_background": "light"
     },
     "output_type": "display_data"
    }
   ],
   "source": [
    "# plot the loss\n",
    "plt.plot(model.history.history['loss'], label='TRAIN', color='red')\n",
    "plt.plot(model.history.history['val_loss'], label='TEST', color='green')\n",
    "plt.legend()\n",
    "plt.show()"
   ]
  },
  {
   "cell_type": "code",
   "execution_count": 15,
   "metadata": {},
   "outputs": [],
   "source": [
    "#train and test prediction\n",
    "train_predict = model.predict(train_X)\n",
    "test_predict = model.predict(test_X)"
   ]
  },
  {
   "cell_type": "code",
   "execution_count": 16,
   "metadata": {},
   "outputs": [],
   "source": [
    "#invert predictions, transform back to original format\n",
    "train_predict = scaler.inverse_transform(train_predict)\n",
    "test_predict = scaler.inverse_transform(test_predict)"
   ]
  },
  {
   "cell_type": "code",
   "execution_count": 17,
   "metadata": {},
   "outputs": [
    {
     "data": {
      "text/plain": [
       "248.86838975308677"
      ]
     },
     "execution_count": 17,
     "metadata": {},
     "output_type": "execute_result"
    }
   ],
   "source": [
    "#Calculate performance metric - RMSE \n",
    "math.sqrt(mean_squared_error(y_train, train_predict))\n",
    "#264.46261189104933"
   ]
  },
  {
   "cell_type": "code",
   "execution_count": 18,
   "metadata": {},
   "outputs": [
    {
     "data": {
      "text/plain": [
       "406.79551395910886"
      ]
     },
     "execution_count": 18,
     "metadata": {},
     "output_type": "execute_result"
    }
   ],
   "source": [
    "math.sqrt(mean_squared_error(y_test, test_predict))\n",
    "#434.4435737357026"
   ]
  },
  {
   "cell_type": "code",
   "execution_count": 19,
   "metadata": {},
   "outputs": [
    {
     "data": {
      "image/png": "[encoded data removed]",
      "text/plain": [
       "<Figure size 432x288 with 1 Axes>"
      ]
     },
     "metadata": {
      "needs_background": "light"
     },
     "output_type": "display_data"
    }
   ],
   "source": [
    "# Plotting \n",
    "# shift train predictions for plotting\n",
    "look_back=4\n",
    "trainPredictPlot = np.empty_like(air_data_scale)\n",
    "trainPredictPlot[:, :] = np.nan\n",
    "trainPredictPlot[look_back:len(train_predict)+look_back, :] = train_predict\n",
    "\n",
    "# shift test predictions for plotting\n",
    "testPredictPlot = np.empty_like(air_data_scale)\n",
    "testPredictPlot[:, :] = np.nan\n",
    "testPredictPlot[len(train_predict)+(look_back*2)+1:len(air_data_scale)-1, :] = test_predict\n",
    "\n",
    "# plot baseline and predictions\n",
    "plt.plot(scaler.inverse_transform(air_data_scale), label='Original Data')\n",
    "plt.plot(trainPredictPlot ,label='y_train_pred')\n",
    "plt.plot(testPredictPlot ,label='y_test_pred')\n",
    "plt.legend()\n",
    "plt.xlabel('Timesteps')\n",
    "plt.ylabel('Total Passengers')\n",
    "plt.show()"
   ]
  },
  {
   "cell_type": "code",
   "execution_count": null,
   "metadata": {},
   "outputs": [],
   "source": []
  }
 ],
 "metadata": {
  "kernelspec": {
   "display_name": "Python [conda env:Anaconda3]",
   "language": "python",
   "name": "conda-env-Anaconda3-py"
  },
  "language_info": {
   "codemirror_mode": {
    "name": "ipython",
    "version": 3
   },
   "file_extension": ".py",
   "mimetype": "text/x-python",
   "name": "python",
   "nbconvert_exporter": "python",
   "pygments_lexer": "ipython3",
   "version": "3.5.6"
  }
 },
 "nbformat": 4,
 "nbformat_minor": 2
}
