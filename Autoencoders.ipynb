{
 "cells": [
  {
   "cell_type": "code",
   "execution_count": 1,
   "id": "649043e7",
   "metadata": {},
   "outputs": [],
   "source": [
    "import tensorflow as tf\n",
    "from tensorflow.keras.datasets import mnist\n",
    "import matplotlib.pyplot as plt"
   ]
  },
  {
   "cell_type": "markdown",
   "id": "4799393b",
   "metadata": {},
   "source": [
    "### Data Processing"
   ]
  },
  {
   "cell_type": "code",
   "execution_count": 2,
   "id": "9af3e399",
   "metadata": {},
   "outputs": [],
   "source": [
    "(x_train,_), (x_test,_)= mnist.load_data()"
   ]
  },
  {
   "cell_type": "code",
   "execution_count": 3,
   "id": "cc24a566",
   "metadata": {},
   "outputs": [],
   "source": [
    "x_train = x_train.astype('float32') / 255\n",
    "x_test = x_test.astype('float32') / 255"
   ]
  },
  {
   "cell_type": "code",
   "execution_count": 4,
   "id": "0d2a6092",
   "metadata": {},
   "outputs": [
    {
     "data": {
      "text/plain": [
       "(60000, 28, 28)"
      ]
     },
     "execution_count": 4,
     "metadata": {},
     "output_type": "execute_result"
    }
   ],
   "source": [
    "x_train.shape"
   ]
  },
  {
   "cell_type": "code",
   "execution_count": 5,
   "id": "5faefdd0",
   "metadata": {},
   "outputs": [
    {
     "data": {
      "text/plain": [
       "(10000, 28, 28)"
      ]
     },
     "execution_count": 5,
     "metadata": {},
     "output_type": "execute_result"
    }
   ],
   "source": [
    "x_test.shape"
   ]
  },
  {
   "cell_type": "code",
   "execution_count": 6,
   "id": "ae423dd1",
   "metadata": {},
   "outputs": [
    {
     "data": {
      "image/png": "[encoded data removed]",
      "text/plain": [
       "<Figure size 2000x1000 with 5 Axes>"
      ]
     },
     "metadata": {},
     "output_type": "display_data"
    }
   ],
   "source": [
    "count = 5\n",
    "plt.figure(figsize=(20,10))\n",
    "\n",
    "for image in range(count):\n",
    "    ax = plt.subplot(2, count, image + 1)\n",
    "    plt.imshow(x_train[image].reshape(28, 28))\n",
    "    plt.gray()\n",
    "    \n",
    "plt.show()"
   ]
  },
  {
   "cell_type": "code",
   "execution_count": 7,
   "id": "0d3c8efa",
   "metadata": {},
   "outputs": [],
   "source": [
    "from tensorflow.keras.models import Model\n",
    "from tensorflow.keras.layers import Dense, Input"
   ]
  },
  {
   "cell_type": "code",
   "execution_count": 8,
   "id": "9e28508a",
   "metadata": {},
   "outputs": [],
   "source": [
    "import numpy as np"
   ]
  },
  {
   "cell_type": "code",
   "execution_count": 9,
   "id": "db22d1d3",
   "metadata": {},
   "outputs": [],
   "source": [
    "x_train = x_train.reshape((len(x_train), np.prod(x_train.shape[1:])))\n",
    "x_test = x_test.reshape((len(x_test), np.prod(x_test.shape[1:])))"
   ]
  },
  {
   "cell_type": "code",
   "execution_count": 10,
   "id": "a086faa5",
   "metadata": {},
   "outputs": [
    {
     "data": {
      "text/plain": [
       "(60000, 784)"
      ]
     },
     "execution_count": 10,
     "metadata": {},
     "output_type": "execute_result"
    }
   ],
   "source": [
    "x_train.shape"
   ]
  },
  {
   "cell_type": "markdown",
   "id": "5f32b2f5",
   "metadata": {},
   "source": [
    "### Deep Encoder Modelling"
   ]
  },
  {
   "cell_type": "markdown",
   "id": "98ab6c6e",
   "metadata": {},
   "source": [
    "### Encoder"
   ]
  },
  {
   "cell_type": "code",
   "execution_count": 11,
   "id": "fa8a804e",
   "metadata": {},
   "outputs": [],
   "source": [
    "input_l=Input(shape=(784,))\n",
    "encoding_1=Dense(256, activation='relu')(input_l)\n",
    "encoding_2=Dense(128, activation='relu')(encoding_1)"
   ]
  },
  {
   "cell_type": "markdown",
   "id": "29dcc75e",
   "metadata": {},
   "source": [
    "### Bottleneck"
   ]
  },
  {
   "cell_type": "code",
   "execution_count": 12,
   "id": "090cbd67",
   "metadata": {},
   "outputs": [],
   "source": [
    "bottleneck=Dense(32, activation='relu')(encoding_2)"
   ]
  },
  {
   "cell_type": "markdown",
   "id": "9e280e6e",
   "metadata": {},
   "source": [
    "### Decoder"
   ]
  },
  {
   "cell_type": "code",
   "execution_count": 13,
   "id": "212950cb",
   "metadata": {},
   "outputs": [],
   "source": [
    "decoding_1=Dense(128, activation='relu')(bottleneck)\n",
    "decoding_2=Dense(256, activation='relu')(decoding_1)"
   ]
  },
  {
   "cell_type": "code",
   "execution_count": 14,
   "id": "f6ec9c84",
   "metadata": {},
   "outputs": [],
   "source": [
    "output_l=Dense(784, activation='sigmoid')(decoding_2)"
   ]
  },
  {
   "cell_type": "code",
   "execution_count": 15,
   "id": "73b60405",
   "metadata": {},
   "outputs": [],
   "source": [
    "autoencoder=Model(inputs=[input_l], outputs=[output_l])"
   ]
  },
  {
   "cell_type": "code",
   "execution_count": 16,
   "id": "97285ecc",
   "metadata": {},
   "outputs": [
    {
     "name": "stdout",
     "output_type": "stream",
     "text": [
      "Model: \"model\"\n",
      "_________________________________________________________________\n",
      " Layer (type)                Output Shape              Param #   \n",
      "=================================================================\n",
      " input_1 (InputLayer)        [(None, 784)]             0         \n",
      "                                                                 \n",
      " dense (Dense)               (None, 256)               200960    \n",
      "                                                                 \n",
      " dense_1 (Dense)             (None, 128)               32896     \n",
      "                                                                 \n",
      " dense_2 (Dense)             (None, 32)                4128      \n",
      "                                                                 \n",
      " dense_3 (Dense)             (None, 128)               4224      \n",
      "                                                                 \n",
      " dense_4 (Dense)             (None, 256)               33024     \n",
      "                                                                 \n",
      " dense_5 (Dense)             (None, 784)               201488    \n",
      "                                                                 \n",
      "=================================================================\n",
      "Total params: 476,720\n",
      "Trainable params: 476,720\n",
      "Non-trainable params: 0\n",
      "_________________________________________________________________\n"
     ]
    }
   ],
   "source": [
    "autoencoder.summary()"
   ]
  },
  {
   "cell_type": "code",
   "execution_count": 17,
   "id": "17d0e802",
   "metadata": {},
   "outputs": [],
   "source": [
    "from tensorflow.keras.utils import plot_model"
   ]
  },
  {
   "cell_type": "code",
   "execution_count": 18,
   "id": "bdb1c27f",
   "metadata": {},
   "outputs": [
    {
     "name": "stdout",
     "output_type": "stream",
     "text": [
      "You must install pydot (`pip install pydot`) and install graphviz (see instructions at https://graphviz.gitlab.io/download/) for plot_model to work.\n"
     ]
    }
   ],
   "source": [
    "plot_model(autoencoder, to_file='model_plot_autoencoder.png', show_shapes=True, show_layer_names=True)"
   ]
  },
  {
   "cell_type": "code",
   "execution_count": 19,
   "id": "f17db051",
   "metadata": {},
   "outputs": [],
   "source": [
    "encoder=Model(inputs=[input_l],outputs=[bottleneck])"
   ]
  },
  {
   "cell_type": "code",
   "execution_count": 20,
   "id": "39520159",
   "metadata": {},
   "outputs": [
    {
     "name": "stdout",
     "output_type": "stream",
     "text": [
      "Model: \"model_1\"\n",
      "_________________________________________________________________\n",
      " Layer (type)                Output Shape              Param #   \n",
      "=================================================================\n",
      " input_1 (InputLayer)        [(None, 784)]             0         \n",
      "                                                                 \n",
      " dense (Dense)               (None, 256)               200960    \n",
      "                                                                 \n",
      " dense_1 (Dense)             (None, 128)               32896     \n",
      "                                                                 \n",
      " dense_2 (Dense)             (None, 32)                4128      \n",
      "                                                                 \n",
      "=================================================================\n",
      "Total params: 237,984\n",
      "Trainable params: 237,984\n",
      "Non-trainable params: 0\n",
      "_________________________________________________________________\n"
     ]
    }
   ],
   "source": [
    "encoder.summary()"
   ]
  },
  {
   "cell_type": "code",
   "execution_count": 21,
   "id": "fe7e4b5f",
   "metadata": {
    "scrolled": true
   },
   "outputs": [
    {
     "name": "stdout",
     "output_type": "stream",
     "text": [
      "You must install pydot (`pip install pydot`) and install graphviz (see instructions at https://graphviz.gitlab.io/download/) for plot_model to work.\n"
     ]
    }
   ],
   "source": [
    "plot_model(encoder, to_file='model_plot_encoder.png', show_shapes=True, show_layer_names=True)"
   ]
  },
  {
   "cell_type": "code",
   "execution_count": 22,
   "id": "1cb225f0",
   "metadata": {},
   "outputs": [],
   "source": [
    "encoded_input=Input(shape=(32,))\n",
    "\n",
    "decoded_layer_1=autoencoder.layers[-3](encoded_input)\n",
    "decoded_layer_2=autoencoder.layers[-2](decoded_layer_1)\n",
    "\n",
    "decoded=autoencoder.layers[-1](decoded_layer_2)\n",
    "\n",
    "decoder=Model(inputs=[encoded_input],outputs=[decoded])"
   ]
  },
  {
   "cell_type": "code",
   "execution_count": 23,
   "id": "9cbcaf02",
   "metadata": {},
   "outputs": [
    {
     "name": "stdout",
     "output_type": "stream",
     "text": [
      "Model: \"model_2\"\n",
      "_________________________________________________________________\n",
      " Layer (type)                Output Shape              Param #   \n",
      "=================================================================\n",
      " input_2 (InputLayer)        [(None, 32)]              0         \n",
      "                                                                 \n",
      " dense_3 (Dense)             (None, 128)               4224      \n",
      "                                                                 \n",
      " dense_4 (Dense)             (None, 256)               33024     \n",
      "                                                                 \n",
      " dense_5 (Dense)             (None, 784)               201488    \n",
      "                                                                 \n",
      "=================================================================\n",
      "Total params: 238,736\n",
      "Trainable params: 238,736\n",
      "Non-trainable params: 0\n",
      "_________________________________________________________________\n"
     ]
    }
   ],
   "source": [
    "decoder.summary()"
   ]
  },
  {
   "cell_type": "code",
   "execution_count": 24,
   "id": "eea48c00",
   "metadata": {},
   "outputs": [
    {
     "name": "stdout",
     "output_type": "stream",
     "text": [
      "You must install pydot (`pip install pydot`) and install graphviz (see instructions at https://graphviz.gitlab.io/download/) for plot_model to work.\n"
     ]
    }
   ],
   "source": [
    "plot_model(decoder, to_file='model_plot_decoder.png', show_shapes=True, show_layer_names=True)"
   ]
  },
  {
   "cell_type": "code",
   "execution_count": 25,
   "id": "21262e12",
   "metadata": {},
   "outputs": [],
   "source": [
    "autoencoder.compile(optimizer='adam', loss='binary_crossentropy')"
   ]
  },
  {
   "cell_type": "code",
   "execution_count": 26,
   "id": "16a8e411",
   "metadata": {},
   "outputs": [
    {
     "name": "stdout",
     "output_type": "stream",
     "text": [
      "Epoch 1/50\n",
      "235/235 [==============================] - 9s 31ms/step - loss: 0.2200 - val_loss: 0.1445\n",
      "Epoch 2/50\n",
      "235/235 [==============================] - 7s 30ms/step - loss: 0.1312 - val_loss: 0.1188\n",
      "Epoch 3/50\n",
      "235/235 [==============================] - 8s 34ms/step - loss: 0.1148 - val_loss: 0.1092\n",
      "Epoch 4/50\n",
      "235/235 [==============================] - 7s 30ms/step - loss: 0.1078 - val_loss: 0.1051\n",
      "Epoch 5/50\n",
      "235/235 [==============================] - 8s 34ms/step - loss: 0.1037 - val_loss: 0.1009\n",
      "Epoch 6/50\n",
      "235/235 [==============================] - 7s 32ms/step - loss: 0.1006 - val_loss: 0.0986\n",
      "Epoch 7/50\n",
      "235/235 [==============================] - 7s 32ms/step - loss: 0.0982 - val_loss: 0.0962\n",
      "Epoch 8/50\n",
      "235/235 [==============================] - 7s 28ms/step - loss: 0.0962 - val_loss: 0.0942\n",
      "Epoch 9/50\n",
      "235/235 [==============================] - 7s 29ms/step - loss: 0.0945 - val_loss: 0.0930\n",
      "Epoch 10/50\n",
      "235/235 [==============================] - 8s 32ms/step - loss: 0.0930 - val_loss: 0.0918\n",
      "Epoch 11/50\n",
      "235/235 [==============================] - 7s 31ms/step - loss: 0.0919 - val_loss: 0.0906\n",
      "Epoch 12/50\n",
      "235/235 [==============================] - 7s 30ms/step - loss: 0.0910 - val_loss: 0.0897\n",
      "Epoch 13/50\n",
      "235/235 [==============================] - 7s 28ms/step - loss: 0.0902 - val_loss: 0.0894\n",
      "Epoch 14/50\n",
      "235/235 [==============================] - 7s 30ms/step - loss: 0.0895 - val_loss: 0.0887\n",
      "Epoch 15/50\n",
      "235/235 [==============================] - 7s 29ms/step - loss: 0.0891 - val_loss: 0.0881\n",
      "Epoch 16/50\n",
      "235/235 [==============================] - 7s 29ms/step - loss: 0.0884 - val_loss: 0.0878\n",
      "Epoch 17/50\n",
      "235/235 [==============================] - 8s 32ms/step - loss: 0.0880 - val_loss: 0.0872\n",
      "Epoch 18/50\n",
      "235/235 [==============================] - 7s 28ms/step - loss: 0.0876 - val_loss: 0.0870\n",
      "Epoch 19/50\n",
      "235/235 [==============================] - 7s 28ms/step - loss: 0.0872 - val_loss: 0.0868\n",
      "Epoch 20/50\n",
      "235/235 [==============================] - 7s 29ms/step - loss: 0.0869 - val_loss: 0.0869\n",
      "Epoch 21/50\n",
      "235/235 [==============================] - 7s 29ms/step - loss: 0.0866 - val_loss: 0.0861\n",
      "Epoch 22/50\n",
      "235/235 [==============================] - 8s 35ms/step - loss: 0.0863 - val_loss: 0.0860\n",
      "Epoch 23/50\n",
      "235/235 [==============================] - 7s 30ms/step - loss: 0.0860 - val_loss: 0.0857\n",
      "Epoch 24/50\n",
      "235/235 [==============================] - 7s 30ms/step - loss: 0.0858 - val_loss: 0.0856\n",
      "Epoch 25/50\n",
      "235/235 [==============================] - 7s 30ms/step - loss: 0.0855 - val_loss: 0.0851\n",
      "Epoch 26/50\n",
      "235/235 [==============================] - 7s 30ms/step - loss: 0.0853 - val_loss: 0.0855\n",
      "Epoch 27/50\n",
      "235/235 [==============================] - 7s 30ms/step - loss: 0.0851 - val_loss: 0.0856\n",
      "Epoch 28/50\n",
      "235/235 [==============================] - 7s 30ms/step - loss: 0.0849 - val_loss: 0.0847\n",
      "Epoch 29/50\n",
      "235/235 [==============================] - 7s 30ms/step - loss: 0.0847 - val_loss: 0.0845\n",
      "Epoch 30/50\n",
      "235/235 [==============================] - 7s 30ms/step - loss: 0.0845 - val_loss: 0.0844\n",
      "Epoch 31/50\n",
      "235/235 [==============================] - 7s 30ms/step - loss: 0.0844 - val_loss: 0.0844\n",
      "Epoch 32/50\n",
      "235/235 [==============================] - 7s 30ms/step - loss: 0.0843 - val_loss: 0.0843\n",
      "Epoch 33/50\n",
      "235/235 [==============================] - 7s 30ms/step - loss: 0.0842 - val_loss: 0.0840\n",
      "Epoch 34/50\n",
      "235/235 [==============================] - 7s 30ms/step - loss: 0.0840 - val_loss: 0.0840\n",
      "Epoch 35/50\n",
      "235/235 [==============================] - 7s 30ms/step - loss: 0.0839 - val_loss: 0.0840\n",
      "Epoch 36/50\n",
      "235/235 [==============================] - 7s 30ms/step - loss: 0.0837 - val_loss: 0.0838\n",
      "Epoch 37/50\n",
      "235/235 [==============================] - 7s 31ms/step - loss: 0.0836 - val_loss: 0.0837\n",
      "Epoch 38/50\n",
      "235/235 [==============================] - 7s 30ms/step - loss: 0.0835 - val_loss: 0.0836\n",
      "Epoch 39/50\n",
      "235/235 [==============================] - 7s 30ms/step - loss: 0.0834 - val_loss: 0.0836\n",
      "Epoch 40/50\n",
      "235/235 [==============================] - 7s 30ms/step - loss: 0.0833 - val_loss: 0.0834\n",
      "Epoch 41/50\n",
      "235/235 [==============================] - 7s 30ms/step - loss: 0.0832 - val_loss: 0.0835\n",
      "Epoch 42/50\n",
      "235/235 [==============================] - 7s 31ms/step - loss: 0.0831 - val_loss: 0.0836\n",
      "Epoch 43/50\n",
      "235/235 [==============================] - 7s 29ms/step - loss: 0.0830 - val_loss: 0.0832\n",
      "Epoch 44/50\n",
      "235/235 [==============================] - 7s 29ms/step - loss: 0.0829 - val_loss: 0.0835\n",
      "Epoch 45/50\n",
      "235/235 [==============================] - 7s 29ms/step - loss: 0.0828 - val_loss: 0.0834\n",
      "Epoch 46/50\n",
      "235/235 [==============================] - 7s 29ms/step - loss: 0.0827 - val_loss: 0.0830\n",
      "Epoch 47/50\n",
      "235/235 [==============================] - 7s 29ms/step - loss: 0.0827 - val_loss: 0.0829\n",
      "Epoch 48/50\n",
      "235/235 [==============================] - 7s 30ms/step - loss: 0.0826 - val_loss: 0.0829\n",
      "Epoch 49/50\n",
      "235/235 [==============================] - 7s 30ms/step - loss: 0.0825 - val_loss: 0.0828\n",
      "Epoch 50/50\n",
      "235/235 [==============================] - 7s 30ms/step - loss: 0.0825 - val_loss: 0.0830\n"
     ]
    },
    {
     "data": {
      "text/plain": [
       "<keras.callbacks.History at 0x1ced9b8da00>"
      ]
     },
     "execution_count": 26,
     "metadata": {},
     "output_type": "execute_result"
    }
   ],
   "source": [
    "autoencoder.fit(x_train, x_train,\n",
    "                epochs=50,\n",
    "                batch_size=256,\n",
    "                shuffle=True,\n",
    "                validation_data=(x_test, x_test))"
   ]
  },
  {
   "cell_type": "code",
   "execution_count": 27,
   "id": "e53c8c0e",
   "metadata": {},
   "outputs": [
    {
     "name": "stdout",
     "output_type": "stream",
     "text": [
      "313/313 [==============================] - 1s 3ms/step\n",
      "313/313 [==============================] - 1s 3ms/step\n"
     ]
    }
   ],
   "source": [
    "encoded= encoder.predict(x_test)\n",
    "decoded = decoder.predict(encoded)"
   ]
  },
  {
   "cell_type": "code",
   "execution_count": 28,
   "id": "b5e94de0",
   "metadata": {},
   "outputs": [
    {
     "name": "stdout",
     "output_type": "stream",
     "text": [
      "313/313 [==============================] - 1s 4ms/step\n"
     ]
    }
   ],
   "source": [
    "predicted_images=autoencoder.predict(x_test)"
   ]
  },
  {
   "cell_type": "code",
   "execution_count": 29,
   "id": "c65459f0",
   "metadata": {},
   "outputs": [
    {
     "data": {
      "image/png": "[encoded data removed]",
      "text/plain": [
       "<Figure size 2000x400 with 20 Axes>"
      ]
     },
     "metadata": {},
     "output_type": "display_data"
    }
   ],
   "source": [
    "n = 10 \n",
    "plt.figure(figsize=(20, 4))\n",
    "for i in range(n):\n",
    "    \n",
    "    # Original Images\n",
    "    ax = plt.subplot(2, n, i + 1)\n",
    "    plt.imshow(decoded[i].reshape(28, 28))\n",
    "    plt.gray()\n",
    "        \n",
    "    # Encoded Images\n",
    "    ax = plt.subplot(2, n, i + 1 + n)\n",
    "    plt.imshow(encoded[i].reshape(16, 2))\n",
    "    plt.gray()\n",
    "   \n",
    "    \n",
    "plt.show()"
   ]
  },
  {
   "cell_type": "code",
   "execution_count": 30,
   "id": "c7963d5b",
   "metadata": {},
   "outputs": [
    {
     "data": {
      "image/png": "[encoded data removed]",
      "text/plain": [
       "<Figure size 2000x400 with 20 Axes>"
      ]
     },
     "metadata": {},
     "output_type": "display_data"
    }
   ],
   "source": [
    "n = 10 \n",
    "plt.figure(figsize=(20, 4))\n",
    "for i in range(n):\n",
    "    \n",
    "    # Encoded Images\n",
    "    ax = plt.subplot(2, n, i + 1)\n",
    "    plt.imshow(encoded[i].reshape(16, 2))\n",
    "    plt.gray()\n",
    "   \n",
    "    # Display reconstruction\n",
    "    ax = plt.subplot(2, n, i + 1 + n)\n",
    "    plt.imshow(predicted_images[i].reshape(28, 28))\n",
    "    plt.gray()\n",
    "    \n",
    "plt.show()"
   ]
  },
  {
   "cell_type": "code",
   "execution_count": null,
   "id": "ba8b2a26",
   "metadata": {},
   "outputs": [],
   "source": []
  },
  {
   "cell_type": "code",
   "execution_count": null,
   "id": "ed183659",
   "metadata": {},
   "outputs": [],
   "source": []
  },
  {
   "cell_type": "code",
   "execution_count": null,
   "id": "d406d809",
   "metadata": {},
   "outputs": [],
   "source": []
  },
  {
   "cell_type": "markdown",
   "id": "d241c49e",
   "metadata": {},
   "source": [
    "# Autoencoder"
   ]
  },
  {
   "cell_type": "code",
   "execution_count": 31,
   "id": "1daf4524",
   "metadata": {},
   "outputs": [],
   "source": [
    "input_l=Input(shape=(784,))\n",
    "\n",
    "bottleneck=Dense(32, activation='relu')(input_l)\n",
    "\n",
    "output_l=Dense(784, activation='sigmoid')(bottleneck)\n",
    "\n",
    "autoencoder=Model(inputs=[input_l],outputs=[output_l])"
   ]
  },
  {
   "cell_type": "code",
   "execution_count": 32,
   "id": "d6cfd12c",
   "metadata": {},
   "outputs": [
    {
     "name": "stdout",
     "output_type": "stream",
     "text": [
      "Model: \"model_3\"\n",
      "_________________________________________________________________\n",
      " Layer (type)                Output Shape              Param #   \n",
      "=================================================================\n",
      " input_3 (InputLayer)        [(None, 784)]             0         \n",
      "                                                                 \n",
      " dense_6 (Dense)             (None, 32)                25120     \n",
      "                                                                 \n",
      " dense_7 (Dense)             (None, 784)               25872     \n",
      "                                                                 \n",
      "=================================================================\n",
      "Total params: 50,992\n",
      "Trainable params: 50,992\n",
      "Non-trainable params: 0\n",
      "_________________________________________________________________\n"
     ]
    }
   ],
   "source": [
    "autoencoder.summary()"
   ]
  },
  {
   "cell_type": "code",
   "execution_count": 33,
   "id": "6c326282",
   "metadata": {},
   "outputs": [
    {
     "name": "stdout",
     "output_type": "stream",
     "text": [
      "You must install pydot (`pip install pydot`) and install graphviz (see instructions at https://graphviz.gitlab.io/download/) for plot_model to work.\n"
     ]
    }
   ],
   "source": [
    "plot_model(autoencoder, to_file='model_plot_autoencoder_simple.png', show_shapes=True, show_layer_names=True)"
   ]
  },
  {
   "cell_type": "code",
   "execution_count": 34,
   "id": "33ee6530",
   "metadata": {},
   "outputs": [],
   "source": [
    "encoder=Model(inputs=[input_l],outputs=[bottleneck])"
   ]
  },
  {
   "cell_type": "code",
   "execution_count": 35,
   "id": "4f14bf4b",
   "metadata": {},
   "outputs": [
    {
     "name": "stdout",
     "output_type": "stream",
     "text": [
      "Model: \"model_4\"\n",
      "_________________________________________________________________\n",
      " Layer (type)                Output Shape              Param #   \n",
      "=================================================================\n",
      " input_3 (InputLayer)        [(None, 784)]             0         \n",
      "                                                                 \n",
      " dense_6 (Dense)             (None, 32)                25120     \n",
      "                                                                 \n",
      "=================================================================\n",
      "Total params: 25,120\n",
      "Trainable params: 25,120\n",
      "Non-trainable params: 0\n",
      "_________________________________________________________________\n"
     ]
    }
   ],
   "source": [
    "encoder.summary()"
   ]
  },
  {
   "cell_type": "code",
   "execution_count": 36,
   "id": "601f0d6c",
   "metadata": {},
   "outputs": [
    {
     "name": "stdout",
     "output_type": "stream",
     "text": [
      "You must install pydot (`pip install pydot`) and install graphviz (see instructions at https://graphviz.gitlab.io/download/) for plot_model to work.\n"
     ]
    }
   ],
   "source": [
    "plot_model(encoder, to_file='model_plot_encoder_simple.png', show_shapes=True, show_layer_names=True)"
   ]
  },
  {
   "cell_type": "code",
   "execution_count": 37,
   "id": "c5681158",
   "metadata": {},
   "outputs": [],
   "source": [
    "encoded_input=Input(shape=(32,))\n",
    "\n",
    "decoded=autoencoder.layers[-1](encoded_input)\n",
    "\n",
    "decoder=Model(inputs=[encoded_input],outputs=[decoded])"
   ]
  },
  {
   "cell_type": "code",
   "execution_count": 38,
   "id": "ab0e13f3",
   "metadata": {},
   "outputs": [
    {
     "name": "stdout",
     "output_type": "stream",
     "text": [
      "Model: \"model_5\"\n",
      "_________________________________________________________________\n",
      " Layer (type)                Output Shape              Param #   \n",
      "=================================================================\n",
      " input_4 (InputLayer)        [(None, 32)]              0         \n",
      "                                                                 \n",
      " dense_7 (Dense)             (None, 784)               25872     \n",
      "                                                                 \n",
      "=================================================================\n",
      "Total params: 25,872\n",
      "Trainable params: 25,872\n",
      "Non-trainable params: 0\n",
      "_________________________________________________________________\n"
     ]
    }
   ],
   "source": [
    "decoder.summary()"
   ]
  },
  {
   "cell_type": "code",
   "execution_count": 39,
   "id": "aed78ff8",
   "metadata": {},
   "outputs": [
    {
     "name": "stdout",
     "output_type": "stream",
     "text": [
      "You must install pydot (`pip install pydot`) and install graphviz (see instructions at https://graphviz.gitlab.io/download/) for plot_model to work.\n"
     ]
    }
   ],
   "source": [
    "plot_model(decoder, to_file='model_plot_decoder_simple.png', show_shapes=True, show_layer_names=True)"
   ]
  },
  {
   "cell_type": "code",
   "execution_count": 40,
   "id": "b0b641e8",
   "metadata": {},
   "outputs": [],
   "source": [
    "autoencoder.compile(optimizer='adam', loss='binary_crossentropy')"
   ]
  },
  {
   "cell_type": "code",
   "execution_count": 41,
   "id": "5a9a08f2",
   "metadata": {
    "scrolled": true
   },
   "outputs": [
    {
     "name": "stdout",
     "output_type": "stream",
     "text": [
      "Epoch 1/50\n",
      "235/235 [==============================] - 3s 12ms/step - loss: 0.2734 - val_loss: 0.1904\n",
      "Epoch 2/50\n",
      "235/235 [==============================] - 2s 9ms/step - loss: 0.1713 - val_loss: 0.1532\n",
      "Epoch 3/50\n",
      "235/235 [==============================] - 2s 9ms/step - loss: 0.1435 - val_loss: 0.1330\n",
      "Epoch 4/50\n",
      "235/235 [==============================] - 2s 10ms/step - loss: 0.1281 - val_loss: 0.1211\n",
      "Epoch 5/50\n",
      "235/235 [==============================] - 2s 10ms/step - loss: 0.1182 - val_loss: 0.1129\n",
      "Epoch 6/50\n",
      "235/235 [==============================] - 2s 10ms/step - loss: 0.1115 - val_loss: 0.1075\n",
      "Epoch 7/50\n",
      "235/235 [==============================] - 2s 10ms/step - loss: 0.1066 - val_loss: 0.1033\n",
      "Epoch 8/50\n",
      "235/235 [==============================] - 2s 9ms/step - loss: 0.1029 - val_loss: 0.1004\n",
      "Epoch 9/50\n",
      "235/235 [==============================] - 2s 10ms/step - loss: 0.1001 - val_loss: 0.0977\n",
      "Epoch 10/50\n",
      "235/235 [==============================] - 2s 10ms/step - loss: 0.0980 - val_loss: 0.0959\n",
      "Epoch 11/50\n",
      "235/235 [==============================] - 2s 10ms/step - loss: 0.0966 - val_loss: 0.0948\n",
      "Epoch 12/50\n",
      "235/235 [==============================] - 3s 11ms/step - loss: 0.0957 - val_loss: 0.0941\n",
      "Epoch 13/50\n",
      "235/235 [==============================] - 3s 11ms/step - loss: 0.0950 - val_loss: 0.0936\n",
      "Epoch 14/50\n",
      "235/235 [==============================] - 3s 11ms/step - loss: 0.0946 - val_loss: 0.0933\n",
      "Epoch 15/50\n",
      "235/235 [==============================] - 2s 10ms/step - loss: 0.0943 - val_loss: 0.0930\n",
      "Epoch 16/50\n",
      "235/235 [==============================] - 3s 12ms/step - loss: 0.0941 - val_loss: 0.0928\n",
      "Epoch 17/50\n",
      "235/235 [==============================] - 3s 11ms/step - loss: 0.0939 - val_loss: 0.0927\n",
      "Epoch 18/50\n",
      "235/235 [==============================] - 3s 11ms/step - loss: 0.0938 - val_loss: 0.0926\n",
      "Epoch 19/50\n",
      "235/235 [==============================] - 2s 10ms/step - loss: 0.0937 - val_loss: 0.0924\n",
      "Epoch 20/50\n",
      "235/235 [==============================] - 3s 11ms/step - loss: 0.0936 - val_loss: 0.0923\n",
      "Epoch 21/50\n",
      "235/235 [==============================] - 3s 11ms/step - loss: 0.0935 - val_loss: 0.0924\n",
      "Epoch 22/50\n",
      "235/235 [==============================] - 2s 10ms/step - loss: 0.0934 - val_loss: 0.0923\n",
      "Epoch 23/50\n",
      "235/235 [==============================] - 2s 10ms/step - loss: 0.0934 - val_loss: 0.0922\n",
      "Epoch 24/50\n",
      "235/235 [==============================] - 2s 11ms/step - loss: 0.0933 - val_loss: 0.0921\n",
      "Epoch 25/50\n",
      "235/235 [==============================] - 2s 10ms/step - loss: 0.0933 - val_loss: 0.0921\n",
      "Epoch 26/50\n",
      "235/235 [==============================] - 2s 9ms/step - loss: 0.0932 - val_loss: 0.0920\n",
      "Epoch 27/50\n",
      "235/235 [==============================] - 2s 9ms/step - loss: 0.0932 - val_loss: 0.0920\n",
      "Epoch 28/50\n",
      "235/235 [==============================] - 2s 9ms/step - loss: 0.0931 - val_loss: 0.0920\n",
      "Epoch 29/50\n",
      "235/235 [==============================] - 2s 9ms/step - loss: 0.0931 - val_loss: 0.0919\n",
      "Epoch 30/50\n",
      "235/235 [==============================] - 2s 10ms/step - loss: 0.0930 - val_loss: 0.0919\n",
      "Epoch 31/50\n",
      "235/235 [==============================] - 2s 9ms/step - loss: 0.0930 - val_loss: 0.0918\n",
      "Epoch 32/50\n",
      "235/235 [==============================] - 2s 9ms/step - loss: 0.0930 - val_loss: 0.0918\n",
      "Epoch 33/50\n",
      "235/235 [==============================] - 2s 10ms/step - loss: 0.0930 - val_loss: 0.0918\n",
      "Epoch 34/50\n",
      "235/235 [==============================] - 2s 9ms/step - loss: 0.0929 - val_loss: 0.0918\n",
      "Epoch 35/50\n",
      "235/235 [==============================] - 2s 9ms/step - loss: 0.0929 - val_loss: 0.0917\n",
      "Epoch 36/50\n",
      "235/235 [==============================] - 2s 9ms/step - loss: 0.0929 - val_loss: 0.0917\n",
      "Epoch 37/50\n",
      "235/235 [==============================] - 2s 10ms/step - loss: 0.0929 - val_loss: 0.0917\n",
      "Epoch 38/50\n",
      "235/235 [==============================] - 2s 9ms/step - loss: 0.0928 - val_loss: 0.0917\n",
      "Epoch 39/50\n",
      "235/235 [==============================] - 2s 9ms/step - loss: 0.0928 - val_loss: 0.0917\n",
      "Epoch 40/50\n",
      "235/235 [==============================] - 2s 9ms/step - loss: 0.0928 - val_loss: 0.0917\n",
      "Epoch 41/50\n",
      "235/235 [==============================] - 2s 9ms/step - loss: 0.0928 - val_loss: 0.0916\n",
      "Epoch 42/50\n",
      "235/235 [==============================] - 2s 9ms/step - loss: 0.0928 - val_loss: 0.0916\n",
      "Epoch 43/50\n",
      "235/235 [==============================] - 2s 9ms/step - loss: 0.0928 - val_loss: 0.0917\n",
      "Epoch 44/50\n",
      "235/235 [==============================] - 2s 9ms/step - loss: 0.0927 - val_loss: 0.0916\n",
      "Epoch 45/50\n",
      "235/235 [==============================] - 2s 9ms/step - loss: 0.0927 - val_loss: 0.0916\n",
      "Epoch 46/50\n",
      "235/235 [==============================] - 2s 9ms/step - loss: 0.0927 - val_loss: 0.0916\n",
      "Epoch 47/50\n",
      "235/235 [==============================] - 2s 9ms/step - loss: 0.0927 - val_loss: 0.0916\n",
      "Epoch 48/50\n",
      "235/235 [==============================] - 2s 9ms/step - loss: 0.0927 - val_loss: 0.0915\n",
      "Epoch 49/50\n",
      "235/235 [==============================] - 2s 9ms/step - loss: 0.0927 - val_loss: 0.0916\n",
      "Epoch 50/50\n",
      "235/235 [==============================] - 2s 9ms/step - loss: 0.0927 - val_loss: 0.0915\n"
     ]
    },
    {
     "data": {
      "text/plain": [
       "<keras.callbacks.History at 0x1cee2d00610>"
      ]
     },
     "execution_count": 41,
     "metadata": {},
     "output_type": "execute_result"
    }
   ],
   "source": [
    "autoencoder.fit(x_train, x_train,\n",
    "                epochs=50,\n",
    "                batch_size=256,\n",
    "                shuffle=True,\n",
    "                validation_data=(x_test, x_test))"
   ]
  },
  {
   "cell_type": "code",
   "execution_count": 42,
   "id": "14e37402",
   "metadata": {},
   "outputs": [
    {
     "name": "stdout",
     "output_type": "stream",
     "text": [
      "313/313 [==============================] - 1s 2ms/step\n"
     ]
    }
   ],
   "source": [
    "predicted_images=autoencoder.predict(x_test)"
   ]
  },
  {
   "cell_type": "code",
   "execution_count": 43,
   "id": "c7bbe1fb",
   "metadata": {},
   "outputs": [
    {
     "name": "stdout",
     "output_type": "stream",
     "text": [
      "313/313 [==============================] - 0s 1ms/step\n",
      "313/313 [==============================] - 1s 2ms/step\n"
     ]
    }
   ],
   "source": [
    "encoded= encoder.predict(x_test)\n",
    "decoded = decoder.predict(encoded)"
   ]
  },
  {
   "cell_type": "code",
   "execution_count": 44,
   "id": "936113a8",
   "metadata": {},
   "outputs": [
    {
     "data": {
      "image/png": "[encoded data removed]",
      "text/plain": [
       "<Figure size 2000x400 with 20 Axes>"
      ]
     },
     "metadata": {},
     "output_type": "display_data"
    }
   ],
   "source": [
    "n = 10 \n",
    "plt.figure(figsize=(20, 4))\n",
    "for i in range(n):\n",
    "    \n",
    "    # Display original\n",
    "    ax = plt.subplot(2, n, i + 1)\n",
    "    plt.imshow(x_test[i].reshape(28, 28))\n",
    "    plt.gray()\n",
    "    \n",
    "    # Encoded Images\n",
    "    ax = plt.subplot(2, n, i + 1 + n)\n",
    "    plt.imshow(encoded[i].reshape(16, 2))\n",
    "    plt.gray()\n",
    "\n",
    "plt.show()"
   ]
  },
  {
   "cell_type": "code",
   "execution_count": 45,
   "id": "7a60d2ba",
   "metadata": {},
   "outputs": [
    {
     "data": {
      "image/png": "[encoded data removed]",
      "text/plain": [
       "<Figure size 2000x400 with 20 Axes>"
      ]
     },
     "metadata": {},
     "output_type": "display_data"
    }
   ],
   "source": [
    "n = 10 \n",
    "plt.figure(figsize=(20, 4))\n",
    "for i in range(n):\n",
    "    \n",
    "     # Encoded Images\n",
    "    ax = plt.subplot(2, n, i + 1)\n",
    "    plt.imshow(encoded[i].reshape(16, 2))\n",
    "    plt.gray()\n",
    "\n",
    "    # Display reconstruction\n",
    "    ax = plt.subplot(2, n, i + 1 + n)\n",
    "    plt.imshow(predicted_images[i].reshape(28, 28))\n",
    "    plt.gray()\n",
    "plt.show()"
   ]
  },
  {
   "cell_type": "code",
   "execution_count": null,
   "id": "db32e516",
   "metadata": {},
   "outputs": [],
   "source": []
  },
  {
   "cell_type": "code",
   "execution_count": null,
   "id": "f904f852",
   "metadata": {},
   "outputs": [],
   "source": []
  },
  {
   "cell_type": "code",
   "execution_count": null,
   "id": "cb4237cf",
   "metadata": {},
   "outputs": [],
   "source": []
  },
  {
   "cell_type": "markdown",
   "id": "03546afe",
   "metadata": {},
   "source": [
    "# Sparse Autoencoder"
   ]
  },
  {
   "cell_type": "code",
   "execution_count": 46,
   "id": "5ba9177e",
   "metadata": {},
   "outputs": [],
   "source": [
    "from tensorflow.keras.regularizers import l1"
   ]
  },
  {
   "cell_type": "code",
   "execution_count": 47,
   "id": "314c5390",
   "metadata": {},
   "outputs": [],
   "source": [
    "input_l=Input(shape=(784,))\n",
    "\n",
    "sp_encoding_1=Dense(256, activation='relu', activity_regularizer=l1(0.001))(input_l)\n",
    "\n",
    "sp_bottleneck=Dense(32, activation='relu', activity_regularizer=l1(0.001))(sp_encoding_1)\n",
    "\n",
    "sp_decoding_1=Dense(256, activation='relu', activity_regularizer=l1(0.001))(sp_bottleneck)\n",
    "\n",
    "sp_output_l=Dense(784, activation='sigmoid')(sp_decoding_1)\n",
    "\n",
    "sp_autoencoder=Model(inputs=[input_l],outputs=[sp_output_l])"
   ]
  },
  {
   "cell_type": "code",
   "execution_count": 48,
   "id": "fe0e84f5",
   "metadata": {},
   "outputs": [
    {
     "name": "stdout",
     "output_type": "stream",
     "text": [
      "Model: \"model_6\"\n",
      "_________________________________________________________________\n",
      " Layer (type)                Output Shape              Param #   \n",
      "=================================================================\n",
      " input_5 (InputLayer)        [(None, 784)]             0         \n",
      "                                                                 \n",
      " dense_8 (Dense)             (None, 256)               200960    \n",
      "                                                                 \n",
      " dense_9 (Dense)             (None, 32)                8224      \n",
      "                                                                 \n",
      " dense_10 (Dense)            (None, 256)               8448      \n",
      "                                                                 \n",
      " dense_11 (Dense)            (None, 784)               201488    \n",
      "                                                                 \n",
      "=================================================================\n",
      "Total params: 419,120\n",
      "Trainable params: 419,120\n",
      "Non-trainable params: 0\n",
      "_________________________________________________________________\n"
     ]
    }
   ],
   "source": [
    "sp_autoencoder.summary()"
   ]
  },
  {
   "cell_type": "code",
   "execution_count": 49,
   "id": "1834ce5b",
   "metadata": {},
   "outputs": [
    {
     "name": "stdout",
     "output_type": "stream",
     "text": [
      "You must install pydot (`pip install pydot`) and install graphviz (see instructions at https://graphviz.gitlab.io/download/) for plot_model to work.\n"
     ]
    }
   ],
   "source": [
    "plot_model(sp_autoencoder, to_file='model_plot_autoencoder_sparse.png', show_shapes=True, show_layer_names=True)"
   ]
  },
  {
   "cell_type": "code",
   "execution_count": 50,
   "id": "d3af74bf",
   "metadata": {},
   "outputs": [],
   "source": [
    "sp_encoder=Model(inputs=[input_l],outputs=[sp_bottleneck])"
   ]
  },
  {
   "cell_type": "code",
   "execution_count": 51,
   "id": "41961973",
   "metadata": {},
   "outputs": [
    {
     "name": "stdout",
     "output_type": "stream",
     "text": [
      "Model: \"model_7\"\n",
      "_________________________________________________________________\n",
      " Layer (type)                Output Shape              Param #   \n",
      "=================================================================\n",
      " input_5 (InputLayer)        [(None, 784)]             0         \n",
      "                                                                 \n",
      " dense_8 (Dense)             (None, 256)               200960    \n",
      "                                                                 \n",
      " dense_9 (Dense)             (None, 32)                8224      \n",
      "                                                                 \n",
      "=================================================================\n",
      "Total params: 209,184\n",
      "Trainable params: 209,184\n",
      "Non-trainable params: 0\n",
      "_________________________________________________________________\n"
     ]
    }
   ],
   "source": [
    "sp_encoder.summary()"
   ]
  },
  {
   "cell_type": "code",
   "execution_count": 52,
   "id": "243abb87",
   "metadata": {},
   "outputs": [
    {
     "name": "stdout",
     "output_type": "stream",
     "text": [
      "You must install pydot (`pip install pydot`) and install graphviz (see instructions at https://graphviz.gitlab.io/download/) for plot_model to work.\n"
     ]
    }
   ],
   "source": [
    "plot_model(sp_encoder, to_file='model_plot_encoder_sparse.png', show_shapes=True, show_layer_names=True)"
   ]
  },
  {
   "cell_type": "code",
   "execution_count": 54,
   "id": "01fc605b",
   "metadata": {},
   "outputs": [],
   "source": [
    "sp_encoded_input=Input(shape=(32,))\n",
    "\n",
    "sp_decoded_layer_2=sp_autoencoder.layers[-2](sp_encoded_input)\n",
    "\n",
    "sp_decoded=sp_autoencoder.layers[-1](sp_decoded_layer_2)\n",
    "\n",
    "sp_decoder=Model(inputs=[sp_encoded_input],outputs=[sp_decoded])"
   ]
  },
  {
   "cell_type": "code",
   "execution_count": 55,
   "id": "849a812f",
   "metadata": {},
   "outputs": [
    {
     "name": "stdout",
     "output_type": "stream",
     "text": [
      "Model: \"model_8\"\n",
      "_________________________________________________________________\n",
      " Layer (type)                Output Shape              Param #   \n",
      "=================================================================\n",
      " input_7 (InputLayer)        [(None, 32)]              0         \n",
      "                                                                 \n",
      " dense_10 (Dense)            (None, 256)               8448      \n",
      "                                                                 \n",
      " dense_11 (Dense)            (None, 784)               201488    \n",
      "                                                                 \n",
      "=================================================================\n",
      "Total params: 209,936\n",
      "Trainable params: 209,936\n",
      "Non-trainable params: 0\n",
      "_________________________________________________________________\n"
     ]
    }
   ],
   "source": [
    "sp_decoder.summary()"
   ]
  },
  {
   "cell_type": "code",
   "execution_count": 56,
   "id": "8a7901c4",
   "metadata": {},
   "outputs": [
    {
     "name": "stdout",
     "output_type": "stream",
     "text": [
      "You must install pydot (`pip install pydot`) and install graphviz (see instructions at https://graphviz.gitlab.io/download/) for plot_model to work.\n"
     ]
    }
   ],
   "source": [
    "plot_model(sp_decoder, to_file='model_plot_decoder_sparse.png', show_shapes=True, show_layer_names=True)"
   ]
  },
  {
   "cell_type": "code",
   "execution_count": 57,
   "id": "55751e18",
   "metadata": {},
   "outputs": [],
   "source": [
    "sp_autoencoder.compile(optimizer='adam', loss='binary_crossentropy')"
   ]
  },
  {
   "cell_type": "code",
   "execution_count": 58,
   "id": "4cf07ab9",
   "metadata": {
    "scrolled": true
   },
   "outputs": [
    {
     "name": "stdout",
     "output_type": "stream",
     "text": [
      "Epoch 1/50\n",
      "235/235 [==============================] - 8s 29ms/step - loss: 0.3755 - val_loss: 0.2743\n",
      "Epoch 2/50\n",
      "235/235 [==============================] - 7s 28ms/step - loss: 0.2476 - val_loss: 0.2267\n",
      "Epoch 3/50\n",
      "235/235 [==============================] - 6s 28ms/step - loss: 0.2151 - val_loss: 0.2031\n",
      "Epoch 4/50\n",
      "235/235 [==============================] - 6s 27ms/step - loss: 0.1962 - val_loss: 0.1891\n",
      "Epoch 5/50\n",
      "235/235 [==============================] - 7s 28ms/step - loss: 0.1850 - val_loss: 0.1794\n",
      "Epoch 6/50\n",
      "235/235 [==============================] - 7s 30ms/step - loss: 0.1770 - val_loss: 0.1727\n",
      "Epoch 7/50\n",
      "235/235 [==============================] - 7s 31ms/step - loss: 0.1713 - val_loss: 0.1677\n",
      "Epoch 8/50\n",
      "235/235 [==============================] - 6s 27ms/step - loss: 0.1665 - val_loss: 0.1632\n",
      "Epoch 9/50\n",
      "235/235 [==============================] - 6s 27ms/step - loss: 0.1623 - val_loss: 0.1591\n",
      "Epoch 10/50\n",
      "235/235 [==============================] - 6s 26ms/step - loss: 0.1586 - val_loss: 0.1558\n",
      "Epoch 11/50\n",
      "235/235 [==============================] - 7s 28ms/step - loss: 0.1554 - val_loss: 0.1526\n",
      "Epoch 12/50\n",
      "235/235 [==============================] - 7s 28ms/step - loss: 0.1524 - val_loss: 0.1502\n",
      "Epoch 13/50\n",
      "235/235 [==============================] - 7s 28ms/step - loss: 0.1500 - val_loss: 0.1478\n",
      "Epoch 14/50\n",
      "235/235 [==============================] - 6s 27ms/step - loss: 0.1477 - val_loss: 0.1456\n",
      "Epoch 15/50\n",
      "235/235 [==============================] - 7s 28ms/step - loss: 0.1458 - val_loss: 0.1438\n",
      "Epoch 16/50\n",
      "235/235 [==============================] - 7s 28ms/step - loss: 0.1440 - val_loss: 0.1425\n",
      "Epoch 17/50\n",
      "235/235 [==============================] - 7s 28ms/step - loss: 0.1425 - val_loss: 0.1406\n",
      "Epoch 18/50\n",
      "235/235 [==============================] - 6s 27ms/step - loss: 0.1409 - val_loss: 0.1393\n",
      "Epoch 19/50\n",
      "235/235 [==============================] - 6s 26ms/step - loss: 0.1395 - val_loss: 0.1381\n",
      "Epoch 20/50\n",
      "235/235 [==============================] - 6s 27ms/step - loss: 0.1382 - val_loss: 0.1365\n",
      "Epoch 21/50\n",
      "235/235 [==============================] - 7s 28ms/step - loss: 0.1368 - val_loss: 0.1354\n",
      "Epoch 22/50\n",
      "235/235 [==============================] - 7s 29ms/step - loss: 0.1356 - val_loss: 0.1342\n",
      "Epoch 23/50\n",
      "235/235 [==============================] - 6s 26ms/step - loss: 0.1344 - val_loss: 0.1330\n",
      "Epoch 24/50\n",
      "235/235 [==============================] - 6s 28ms/step - loss: 0.1332 - val_loss: 0.1319\n",
      "Epoch 25/50\n",
      "235/235 [==============================] - 6s 27ms/step - loss: 0.1323 - val_loss: 0.1311\n",
      "Epoch 26/50\n",
      "235/235 [==============================] - 7s 28ms/step - loss: 0.1313 - val_loss: 0.1300\n",
      "Epoch 27/50\n",
      "235/235 [==============================] - 7s 29ms/step - loss: 0.1303 - val_loss: 0.1290\n",
      "Epoch 28/50\n",
      "235/235 [==============================] - 6s 27ms/step - loss: 0.1294 - val_loss: 0.1280\n",
      "Epoch 29/50\n",
      "235/235 [==============================] - 6s 27ms/step - loss: 0.1284 - val_loss: 0.1274\n",
      "Epoch 30/50\n",
      "235/235 [==============================] - 7s 29ms/step - loss: 0.1275 - val_loss: 0.1266\n",
      "Epoch 31/50\n",
      "235/235 [==============================] - 7s 29ms/step - loss: 0.1267 - val_loss: 0.1251\n",
      "Epoch 32/50\n",
      "235/235 [==============================] - 7s 28ms/step - loss: 0.1258 - val_loss: 0.1247\n",
      "Epoch 33/50\n",
      "235/235 [==============================] - 6s 27ms/step - loss: 0.1253 - val_loss: 0.1240\n",
      "Epoch 34/50\n",
      "235/235 [==============================] - 6s 28ms/step - loss: 0.1245 - val_loss: 0.1233\n",
      "Epoch 35/50\n",
      "235/235 [==============================] - 6s 27ms/step - loss: 0.1239 - val_loss: 0.1226\n",
      "Epoch 36/50\n",
      "235/235 [==============================] - 7s 28ms/step - loss: 0.1233 - val_loss: 0.1224\n",
      "Epoch 37/50\n",
      "235/235 [==============================] - 6s 26ms/step - loss: 0.1229 - val_loss: 0.1219\n",
      "Epoch 38/50\n",
      "235/235 [==============================] - 6s 25ms/step - loss: 0.1222 - val_loss: 0.1212\n",
      "Epoch 39/50\n",
      "235/235 [==============================] - 6s 26ms/step - loss: 0.1217 - val_loss: 0.1205\n",
      "Epoch 40/50\n",
      "235/235 [==============================] - 6s 26ms/step - loss: 0.1211 - val_loss: 0.1202\n",
      "Epoch 41/50\n",
      "235/235 [==============================] - 6s 26ms/step - loss: 0.1208 - val_loss: 0.1197\n",
      "Epoch 42/50\n",
      "235/235 [==============================] - 6s 26ms/step - loss: 0.1203 - val_loss: 0.1190\n",
      "Epoch 43/50\n",
      "235/235 [==============================] - 6s 26ms/step - loss: 0.1200 - val_loss: 0.1190\n",
      "Epoch 44/50\n",
      "235/235 [==============================] - 6s 25ms/step - loss: 0.1195 - val_loss: 0.1189\n",
      "Epoch 45/50\n",
      "235/235 [==============================] - 6s 25ms/step - loss: 0.1190 - val_loss: 0.1185\n",
      "Epoch 46/50\n",
      "235/235 [==============================] - 6s 26ms/step - loss: 0.1187 - val_loss: 0.1181\n",
      "Epoch 47/50\n",
      "235/235 [==============================] - 6s 25ms/step - loss: 0.1184 - val_loss: 0.1178\n",
      "Epoch 48/50\n",
      "235/235 [==============================] - 6s 25ms/step - loss: 0.1180 - val_loss: 0.1170\n",
      "Epoch 49/50\n",
      "235/235 [==============================] - 6s 26ms/step - loss: 0.1176 - val_loss: 0.1170\n",
      "Epoch 50/50\n",
      "235/235 [==============================] - 6s 26ms/step - loss: 0.1174 - val_loss: 0.1168\n"
     ]
    },
    {
     "data": {
      "text/plain": [
       "<keras.callbacks.History at 0x1cee42a0790>"
      ]
     },
     "execution_count": 58,
     "metadata": {},
     "output_type": "execute_result"
    }
   ],
   "source": [
    "sp_autoencoder.fit(x_train, x_train,\n",
    "                epochs=50,\n",
    "                batch_size=256,\n",
    "                shuffle=True,\n",
    "                validation_data=(x_test, x_test))"
   ]
  },
  {
   "cell_type": "code",
   "execution_count": 59,
   "id": "fbfac178",
   "metadata": {},
   "outputs": [
    {
     "name": "stdout",
     "output_type": "stream",
     "text": [
      "313/313 [==============================] - 1s 3ms/step\n"
     ]
    }
   ],
   "source": [
    "sp_predicted_images=sp_autoencoder.predict(x_test)"
   ]
  },
  {
   "cell_type": "code",
   "execution_count": 60,
   "id": "3cad0277",
   "metadata": {},
   "outputs": [
    {
     "name": "stdout",
     "output_type": "stream",
     "text": [
      "313/313 [==============================] - 1s 2ms/step\n",
      "313/313 [==============================] - 1s 3ms/step\n"
     ]
    }
   ],
   "source": [
    "sp_encoded= sp_encoder.predict(x_test)\n",
    "sp_decoded = sp_decoder.predict(sp_encoded)"
   ]
  },
  {
   "cell_type": "code",
   "execution_count": 61,
   "id": "51c05336",
   "metadata": {},
   "outputs": [
    {
     "data": {
      "image/png": "[encoded data removed]",
      "text/plain": [
       "<Figure size 2000x400 with 20 Axes>"
      ]
     },
     "metadata": {},
     "output_type": "display_data"
    }
   ],
   "source": [
    "n = 10 \n",
    "plt.figure(figsize=(20, 4))\n",
    "for i in range(n):\n",
    "    \n",
    "    # Display original\n",
    "    ax = plt.subplot(2, n, i + 1)\n",
    "    plt.imshow(x_test[i].reshape(28, 28))\n",
    "    plt.gray()\n",
    "\n",
    "    # Display reconstruction\n",
    "    ax = plt.subplot(2, n, i + 1 + n)\n",
    "    plt.imshow(sp_predicted_images[i].reshape(28, 28))\n",
    "    plt.gray()\n",
    "    \n",
    "plt.show()"
   ]
  },
  {
   "cell_type": "code",
   "execution_count": 62,
   "id": "230a0ee0",
   "metadata": {
    "scrolled": true
   },
   "outputs": [
    {
     "data": {
      "image/png": "[encoded data removed]",
      "text/plain": [
       "<Figure size 2000x400 with 20 Axes>"
      ]
     },
     "metadata": {},
     "output_type": "display_data"
    }
   ],
   "source": [
    "n = 10 \n",
    "plt.figure(figsize=(20, 4))\n",
    "for i in range(n):\n",
    "    \n",
    "    # Original imaged\n",
    "    ax = plt.subplot(2, n, i + 1)\n",
    "    plt.imshow(x_test[i].reshape(28, 28))\n",
    "    plt.gray()     \n",
    "    \n",
    "    \n",
    "    # Encoded Images\n",
    "    ax = plt.subplot(2, n, i + 1 + n)\n",
    "    plt.imshow(sp_encoded[i].reshape(16, 2))\n",
    "    plt.gray()\n",
    "    \n",
    "plt.show()"
   ]
  },
  {
   "cell_type": "code",
   "execution_count": 63,
   "id": "ea823f50",
   "metadata": {
    "scrolled": true
   },
   "outputs": [
    {
     "data": {
      "image/png": "[encoded data removed]",
      "text/plain": [
       "<Figure size 2000x400 with 20 Axes>"
      ]
     },
     "metadata": {},
     "output_type": "display_data"
    }
   ],
   "source": [
    "n = 10 \n",
    "plt.figure(figsize=(20, 4))\n",
    "for i in range(n):\n",
    "    \n",
    "    # Original imaged\n",
    "    ax = plt.subplot(2, n, i + 1)\n",
    "    plt.imshow(sp_encoded[i].reshape(16, 2))\n",
    "    plt.gray()     \n",
    "    \n",
    "    \n",
    "    # Encoded Images\n",
    "    ax = plt.subplot(2, n, i + 1 + n)\n",
    "    plt.imshow(sp_decoded[i].reshape(28, 28))\n",
    "    plt.gray()\n",
    "    \n",
    "plt.show()"
   ]
  },
  {
   "cell_type": "code",
   "execution_count": 64,
   "id": "1670652d",
   "metadata": {},
   "outputs": [
    {
     "data": {
      "image/png": "[encoded data removed]",
      "text/plain": [
       "<Figure size 2000x400 with 20 Axes>"
      ]
     },
     "metadata": {},
     "output_type": "display_data"
    }
   ],
   "source": [
    "n = 10 \n",
    "plt.figure(figsize=(20, 4))\n",
    "for i in range(n):\n",
    "    \n",
    "    # Original imaged\n",
    "    ax = plt.subplot(2, n, i + 1)\n",
    "    plt.imshow(sp_decoded[i].reshape(28, 28))\n",
    "    plt.gray()     \n",
    "    \n",
    "    \n",
    "    # Encoded Images\n",
    "    ax = plt.subplot(2, n, i + 1 + n)\n",
    "    plt.imshow(sp_predicted_images[i].reshape(28, 28))\n",
    "    plt.gray()\n",
    "    \n",
    "plt.show()"
   ]
  },
  {
   "cell_type": "code",
   "execution_count": null,
   "id": "d7c1aa0a",
   "metadata": {},
   "outputs": [],
   "source": []
  },
  {
   "cell_type": "code",
   "execution_count": null,
   "id": "4df0078e",
   "metadata": {},
   "outputs": [],
   "source": []
  }
 ],
 "metadata": {
  "kernelspec": {
   "display_name": "Python 3 (ipykernel)",
   "language": "python",
   "name": "python3"
  },
  "language_info": {
   "codemirror_mode": {
    "name": "ipython",
    "version": 3
   },
   "file_extension": ".py",
   "mimetype": "text/x-python",
   "name": "python",
   "nbconvert_exporter": "python",
   "pygments_lexer": "ipython3",
   "version": "3.8.8rc1"
  }
 },
 "nbformat": 4,
 "nbformat_minor": 5
}
