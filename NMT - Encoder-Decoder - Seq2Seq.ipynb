{
 "cells": [
  {
   "cell_type": "code",
   "execution_count": 1,
   "metadata": {
    "scrolled": false
   },
   "outputs": [],
   "source": [
    "import numpy as np\n",
    "import pandas as pd\n",
    "import re\n",
    "import string\n",
    "from string import digits\n",
    "from sklearn.utils import shuffle\n",
    "from sklearn.model_selection import train_test_split\n",
    "from keras_preprocessing import sequence\n",
    "\n",
    "#from keras.layers import Input, LSTM, Embedding, Dense\n",
    "#from keras.models import Model\n",
    "\n",
    "import tensorflow as tf\n",
    "from tensorflow import keras\n",
    "from tensorflow.keras.layers import Dense, Input, LSTM, Embedding, Dropout, Activation, Bidirectional\n",
    "from tensorflow.keras.models import Model, Sequential\n",
    "from tensorflow.keras import initializers, regularizers, constraints, optimizers, layers"
   ]
  },
  {
   "cell_type": "code",
   "execution_count": 2,
   "metadata": {
    "scrolled": false
   },
   "outputs": [
    {
     "data": {
      "text/plain": [
       "(25000, 2)"
      ]
     },
     "execution_count": 2,
     "metadata": {},
     "output_type": "execute_result"
    }
   ],
   "source": [
    "data = pd.read_table('C:/Projects/NLP/Data/english-french.txt', names=['English','French'])\n",
    "\n",
    "# insufficent memory when we use the entire data.\n",
    "data = data[0:25000]\n",
    "data.shape"
   ]
  },
  {
   "cell_type": "code",
   "execution_count": 3,
   "metadata": {
    "scrolled": false
   },
   "outputs": [
    {
     "data": {
      "text/html": [
       "<div>\n",
       "<style scoped>\n",
       "    .dataframe tbody tr th:only-of-type {\n",
       "        vertical-align: middle;\n",
       "    }\n",
       "\n",
       "    .dataframe tbody tr th {\n",
       "        vertical-align: top;\n",
       "    }\n",
       "\n",
       "    .dataframe thead th {\n",
       "        text-align: right;\n",
       "    }\n",
       "</style>\n",
       "<table border=\"1\" class=\"dataframe\">\n",
       "  <thead>\n",
       "    <tr style=\"text-align: right;\">\n",
       "      <th></th>\n",
       "      <th>English</th>\n",
       "      <th>French</th>\n",
       "    </tr>\n",
       "  </thead>\n",
       "  <tbody>\n",
       "    <tr>\n",
       "      <th>13336</th>\n",
       "      <td>I know the drill.</td>\n",
       "      <td>Je connais la chanson.</td>\n",
       "    </tr>\n",
       "    <tr>\n",
       "      <th>13992</th>\n",
       "      <td>It just came out.</td>\n",
       "      <td>Ça vient de paraître.</td>\n",
       "    </tr>\n",
       "    <tr>\n",
       "      <th>17203</th>\n",
       "      <td>I just remembered.</td>\n",
       "      <td>Je viens de me le rappeler.</td>\n",
       "    </tr>\n",
       "    <tr>\n",
       "      <th>24617</th>\n",
       "      <td>You're very lonely.</td>\n",
       "      <td>Vous êtes très solitaire.</td>\n",
       "    </tr>\n",
       "    <tr>\n",
       "      <th>13608</th>\n",
       "      <td>I wanted to come.</td>\n",
       "      <td>Je voulais venir.</td>\n",
       "    </tr>\n",
       "    <tr>\n",
       "      <th>23778</th>\n",
       "      <td>We were very tired.</td>\n",
       "      <td>Nous étions très fatiguées.</td>\n",
       "    </tr>\n",
       "    <tr>\n",
       "      <th>22483</th>\n",
       "      <td>Lesson Two is easy.</td>\n",
       "      <td>La leçon deux est facile.</td>\n",
       "    </tr>\n",
       "    <tr>\n",
       "      <th>20070</th>\n",
       "      <td>You're too skinny.</td>\n",
       "      <td>Vous êtes trop maigrichonnes.</td>\n",
       "    </tr>\n",
       "    <tr>\n",
       "      <th>6595</th>\n",
       "      <td>Come back home.</td>\n",
       "      <td>Rentre à la maison.</td>\n",
       "    </tr>\n",
       "    <tr>\n",
       "      <th>1935</th>\n",
       "      <td>I am a cook.</td>\n",
       "      <td>Je suis cuisinier.</td>\n",
       "    </tr>\n",
       "  </tbody>\n",
       "</table>\n",
       "</div>"
      ],
      "text/plain": [
       "                   English                         French\n",
       "13336    I know the drill.         Je connais la chanson.\n",
       "13992    It just came out.          Ça vient de paraître.\n",
       "17203   I just remembered.    Je viens de me le rappeler.\n",
       "24617  You're very lonely.      Vous êtes très solitaire.\n",
       "13608    I wanted to come.              Je voulais venir.\n",
       "23778  We were very tired.    Nous étions très fatiguées.\n",
       "22483  Lesson Two is easy.      La leçon deux est facile.\n",
       "20070   You're too skinny.  Vous êtes trop maigrichonnes.\n",
       "6595       Come back home.            Rentre à la maison.\n",
       "1935          I am a cook.             Je suis cuisinier."
      ]
     },
     "execution_count": 3,
     "metadata": {},
     "output_type": "execute_result"
    }
   ],
   "source": [
    "data.sample(10)"
   ]
  },
  {
   "cell_type": "markdown",
   "metadata": {},
   "source": [
    "# Preprocessing"
   ]
  },
  {
   "cell_type": "code",
   "execution_count": 4,
   "metadata": {
    "scrolled": false
   },
   "outputs": [],
   "source": [
    "data.English = data.English.apply(lambda e: e.lower())\n",
    "data.French = data.French.apply(lambda f: f.lower())"
   ]
  },
  {
   "cell_type": "code",
   "execution_count": 5,
   "metadata": {
    "scrolled": false
   },
   "outputs": [],
   "source": [
    "data.English = data.English.apply(lambda e: re.sub(\"'\", '', e)).apply(lambda e: re.sub(\",\", ' COMMA', e))\n",
    "data.French = data.French.apply(lambda f: re.sub(\"'\", '', f)).apply(lambda f: re.sub(\",\", ' COMMA', f))"
   ]
  },
  {
   "cell_type": "code",
   "execution_count": 6,
   "metadata": {
    "scrolled": false
   },
   "outputs": [],
   "source": [
    "# Remove all the special characters punctuation\n",
    "remove = set(string.punctuation)\n",
    "\n",
    "data.English = data.English.apply(lambda e: ''.join(ch for ch in e if ch not in remove))\n",
    "data.French = data.French.apply(lambda f: ''.join(ch for ch in f if ch not in remove))"
   ]
  },
  {
   "cell_type": "code",
   "execution_count": 7,
   "metadata": {
    "scrolled": false
   },
   "outputs": [],
   "source": [
    "# Remove digits\n",
    "delete_digits = str.maketrans('', '', digits)\n",
    "\n",
    "data.English = data.English.apply(lambda e: e.translate(delete_digits))\n",
    "data.French = data.French.apply(lambda f: f.translate(delete_digits))"
   ]
  },
  {
   "cell_type": "code",
   "execution_count": 8,
   "metadata": {
    "scrolled": false
   },
   "outputs": [
    {
     "data": {
      "text/html": [
       "<div>\n",
       "<style scoped>\n",
       "    .dataframe tbody tr th:only-of-type {\n",
       "        vertical-align: middle;\n",
       "    }\n",
       "\n",
       "    .dataframe tbody tr th {\n",
       "        vertical-align: top;\n",
       "    }\n",
       "\n",
       "    .dataframe thead th {\n",
       "        text-align: right;\n",
       "    }\n",
       "</style>\n",
       "<table border=\"1\" class=\"dataframe\">\n",
       "  <thead>\n",
       "    <tr style=\"text-align: right;\">\n",
       "      <th></th>\n",
       "      <th>English</th>\n",
       "      <th>French</th>\n",
       "    </tr>\n",
       "  </thead>\n",
       "  <tbody>\n",
       "    <tr>\n",
       "      <th>24309</th>\n",
       "      <td>you look satisfied</td>\n",
       "      <td>vous avez lair satisfait</td>\n",
       "    </tr>\n",
       "    <tr>\n",
       "      <th>16224</th>\n",
       "      <td>do you ever sleep</td>\n",
       "      <td>vous arrivetil de dormir</td>\n",
       "    </tr>\n",
       "    <tr>\n",
       "      <th>12866</th>\n",
       "      <td>hes a grown man</td>\n",
       "      <td>cest un adulte</td>\n",
       "    </tr>\n",
       "    <tr>\n",
       "      <th>12510</th>\n",
       "      <td>dont pick it up</td>\n",
       "      <td>ne le ramasse pas</td>\n",
       "    </tr>\n",
       "    <tr>\n",
       "      <th>1340</th>\n",
       "      <td>its a fad</td>\n",
       "      <td>cest une passade</td>\n",
       "    </tr>\n",
       "    <tr>\n",
       "      <th>4125</th>\n",
       "      <td>try to sleep</td>\n",
       "      <td>essayez de dormir</td>\n",
       "    </tr>\n",
       "    <tr>\n",
       "      <th>9119</th>\n",
       "      <td>call the police</td>\n",
       "      <td>appelez la police</td>\n",
       "    </tr>\n",
       "    <tr>\n",
       "      <th>21973</th>\n",
       "      <td>im about to leave</td>\n",
       "      <td>je suis sur le point de partir</td>\n",
       "    </tr>\n",
       "    <tr>\n",
       "      <th>12106</th>\n",
       "      <td>youre so wrong</td>\n",
       "      <td>tu as tellement tort</td>\n",
       "    </tr>\n",
       "    <tr>\n",
       "      <th>12483</th>\n",
       "      <td>dont be alarmed</td>\n",
       "      <td>ne soyez pas alarmées</td>\n",
       "    </tr>\n",
       "  </tbody>\n",
       "</table>\n",
       "</div>"
      ],
      "text/plain": [
       "                  English                          French\n",
       "24309  you look satisfied        vous avez lair satisfait\n",
       "16224   do you ever sleep       vous arrivetil de dormir \n",
       "12866     hes a grown man                  cest un adulte\n",
       "12510     dont pick it up               ne le ramasse pas\n",
       "1340            its a fad                cest une passade\n",
       "4125         try to sleep               essayez de dormir\n",
       "9119      call the police              appelez la police \n",
       "21973   im about to leave  je suis sur le point de partir\n",
       "12106      youre so wrong            tu as tellement tort\n",
       "12483     dont be alarmed           ne soyez pas alarmées"
      ]
     },
     "execution_count": 8,
     "metadata": {},
     "output_type": "execute_result"
    }
   ],
   "source": [
    "data.sample(10)"
   ]
  },
  {
   "cell_type": "code",
   "execution_count": 9,
   "metadata": {
    "scrolled": false
   },
   "outputs": [],
   "source": [
    "# add START and END tokens to target sequences\n",
    "data.French = data.French.apply(lambda f: \"START_ \"+ f + \" _END\")"
   ]
  },
  {
   "cell_type": "code",
   "execution_count": 10,
   "metadata": {
    "scrolled": false
   },
   "outputs": [
    {
     "data": {
      "text/html": [
       "<div>\n",
       "<style scoped>\n",
       "    .dataframe tbody tr th:only-of-type {\n",
       "        vertical-align: middle;\n",
       "    }\n",
       "\n",
       "    .dataframe tbody tr th {\n",
       "        vertical-align: top;\n",
       "    }\n",
       "\n",
       "    .dataframe thead th {\n",
       "        text-align: right;\n",
       "    }\n",
       "</style>\n",
       "<table border=\"1\" class=\"dataframe\">\n",
       "  <thead>\n",
       "    <tr style=\"text-align: right;\">\n",
       "      <th></th>\n",
       "      <th>English</th>\n",
       "      <th>French</th>\n",
       "    </tr>\n",
       "  </thead>\n",
       "  <tbody>\n",
       "    <tr>\n",
       "      <th>17621</th>\n",
       "      <td>i wont sign this</td>\n",
       "      <td>START_ je ne signerai pas ceci _END</td>\n",
       "    </tr>\n",
       "    <tr>\n",
       "      <th>20079</th>\n",
       "      <td>youre very brave</td>\n",
       "      <td>START_ tu es très courageux _END</td>\n",
       "    </tr>\n",
       "    <tr>\n",
       "      <th>17436</th>\n",
       "      <td>i remember it now</td>\n",
       "      <td>START_ je me le rappelle COMMA maintenant _END</td>\n",
       "    </tr>\n",
       "    <tr>\n",
       "      <th>8358</th>\n",
       "      <td>theyre coming</td>\n",
       "      <td>START_ ils sont en train darriver _END</td>\n",
       "    </tr>\n",
       "    <tr>\n",
       "      <th>14983</th>\n",
       "      <td>tom is a monster</td>\n",
       "      <td>START_ tom est un monstre _END</td>\n",
       "    </tr>\n",
       "    <tr>\n",
       "      <th>21598</th>\n",
       "      <td>i made a few calls</td>\n",
       "      <td>START_ jai passé quelques appels _END</td>\n",
       "    </tr>\n",
       "    <tr>\n",
       "      <th>2265</th>\n",
       "      <td>im jealous</td>\n",
       "      <td>START_ je suis jalouse _END</td>\n",
       "    </tr>\n",
       "    <tr>\n",
       "      <th>11400</th>\n",
       "      <td>this is rubbish</td>\n",
       "      <td>START_ cest du déchet _END</td>\n",
       "    </tr>\n",
       "    <tr>\n",
       "      <th>15667</th>\n",
       "      <td>you have no idea</td>\n",
       "      <td>START_ vous nen avez aucune idée _END</td>\n",
       "    </tr>\n",
       "    <tr>\n",
       "      <th>15858</th>\n",
       "      <td>youre resilient</td>\n",
       "      <td>START_ tu es endurant _END</td>\n",
       "    </tr>\n",
       "  </tbody>\n",
       "</table>\n",
       "</div>"
      ],
      "text/plain": [
       "                  English                                          French\n",
       "17621    i wont sign this             START_ je ne signerai pas ceci _END\n",
       "20079    youre very brave                START_ tu es très courageux _END\n",
       "17436   i remember it now  START_ je me le rappelle COMMA maintenant _END\n",
       "8358        theyre coming          START_ ils sont en train darriver _END\n",
       "14983    tom is a monster                  START_ tom est un monstre _END\n",
       "21598  i made a few calls           START_ jai passé quelques appels _END\n",
       "2265           im jealous                     START_ je suis jalouse _END\n",
       "11400     this is rubbish                      START_ cest du déchet _END\n",
       "15667    you have no idea           START_ vous nen avez aucune idée _END\n",
       "15858     youre resilient                      START_ tu es endurant _END"
      ]
     },
     "execution_count": 10,
     "metadata": {},
     "output_type": "execute_result"
    }
   ],
   "source": [
    "data.sample(10)"
   ]
  },
  {
   "cell_type": "code",
   "execution_count": 11,
   "metadata": {
    "scrolled": false
   },
   "outputs": [],
   "source": [
    "# Vocabulary of English\n",
    "all_eng_words=set()\n",
    "for e in data.English:\n",
    "    for word in e.split():\n",
    "        if word not in all_eng_words:\n",
    "            all_eng_words.add(word)\n",
    "            \n",
    "# Vocabulary of French \n",
    "all_french_words=set()\n",
    "for f in data.French:\n",
    "    for word in f.split():\n",
    "        if word not in all_french_words:\n",
    "            all_french_words.add(word)"
   ]
  },
  {
   "cell_type": "code",
   "execution_count": 12,
   "metadata": {
    "scrolled": false
   },
   "outputs": [
    {
     "data": {
      "text/plain": [
       "(3969, 8355)"
      ]
     },
     "execution_count": 12,
     "metadata": {},
     "output_type": "execute_result"
    }
   ],
   "source": [
    "len(all_eng_words), len(all_french_words)"
   ]
  },
  {
   "cell_type": "code",
   "execution_count": 13,
   "metadata": {
    "scrolled": false
   },
   "outputs": [
    {
     "data": {
      "text/plain": [
       "6"
      ]
     },
     "execution_count": 13,
     "metadata": {},
     "output_type": "execute_result"
    }
   ],
   "source": [
    "#max length of source sequences\n",
    "\n",
    "eng_max_length=[]\n",
    "\n",
    "for e in data.English:\n",
    "    eng_max_length.append(len(e.split(' ')))\n",
    "\n",
    "np.max(eng_max_length)"
   ]
  },
  {
   "cell_type": "code",
   "execution_count": 14,
   "metadata": {
    "scrolled": false
   },
   "outputs": [
    {
     "data": {
      "text/plain": [
       "14"
      ]
     },
     "execution_count": 14,
     "metadata": {},
     "output_type": "execute_result"
    }
   ],
   "source": [
    "# max length of target sequence\n",
    "\n",
    "fr_max_length = []\n",
    "\n",
    "for f in data.French:\n",
    "    fr_max_length.append(len(f.split(' ')))\n",
    "    \n",
    "np.max(fr_max_length)"
   ]
  },
  {
   "cell_type": "code",
   "execution_count": 15,
   "metadata": {
    "scrolled": false
   },
   "outputs": [
    {
     "data": {
      "text/plain": [
       "(3969, 8355)"
      ]
     },
     "execution_count": 15,
     "metadata": {},
     "output_type": "execute_result"
    }
   ],
   "source": [
    "input_words = sorted(list(all_eng_words))\n",
    "output_words = sorted(list(all_french_words))\n",
    "\n",
    "encoder_tokens = len(all_eng_words)\n",
    "decoder_tokens = len(all_french_words)\n",
    "\n",
    "encoder_tokens, decoder_tokens"
   ]
  },
  {
   "cell_type": "code",
   "execution_count": 16,
   "metadata": {
    "scrolled": false
   },
   "outputs": [],
   "source": [
    "input_token_index = dict([(word, i) for i, word in enumerate(input_words)])\n",
    "target_token_index = dict([(word, i) for i, word in enumerate(output_words)])"
   ]
  },
  {
   "cell_type": "code",
   "execution_count": 17,
   "metadata": {
    "scrolled": false
   },
   "outputs": [],
   "source": [
    "encoder_input_data = np.zeros((len(data.English), np.max(eng_max_length)), dtype='float32')\n",
    "\n",
    "decoder_input_data = np.zeros((len(data.French), np.max(fr_max_length)), dtype='float32')\n",
    "decoder_target_data = np.zeros((len(data.French), np.max(fr_max_length), decoder_tokens), dtype='float32')"
   ]
  },
  {
   "cell_type": "code",
   "execution_count": 18,
   "metadata": {
    "scrolled": false
   },
   "outputs": [],
   "source": [
    "for i, (input_text, output_text) in enumerate (zip(data.English, data.French)):\n",
    "    for t, word in enumerate(input_text.split()):\n",
    "        encoder_input_data[i, t] = input_token_index[word]\n",
    "        \n",
    "    for t, word in enumerate(output_text.split()):\n",
    "        decoder_input_data[i, t] = target_token_index[word]\n",
    "        \n",
    "        if t>0:\n",
    "            # decoder_target_data will be ahead by one timestep and will not include the start character.\n",
    "            decoder_target_data[i, t - 1, target_token_index[word]] = 1"
   ]
  },
  {
   "cell_type": "markdown",
   "metadata": {},
   "source": [
    "# Encoder-Decoder Model"
   ]
  },
  {
   "cell_type": "code",
   "execution_count": 19,
   "metadata": {
    "scrolled": false
   },
   "outputs": [],
   "source": [
    "embedding_size = 50"
   ]
  },
  {
   "cell_type": "markdown",
   "metadata": {},
   "source": [
    "Encoder model"
   ]
  },
  {
   "cell_type": "code",
   "execution_count": 20,
   "metadata": {
    "scrolled": false
   },
   "outputs": [],
   "source": [
    "encoder_inputs = Input(shape=(None,))\n",
    "en_x =  Embedding(encoder_tokens, embedding_size)(encoder_inputs)\n",
    "\n",
    "encoder = LSTM(50, return_state=True)\n",
    "encoder_outputs, state_h, state_c = encoder(en_x)\n",
    "\n",
    "# We discard `encoder_outputs` and only keep hidden and cell states.\n",
    "encoder_states = [state_h, state_c]"
   ]
  },
  {
   "cell_type": "markdown",
   "metadata": {},
   "source": [
    "Decoder model"
   ]
  },
  {
   "cell_type": "code",
   "execution_count": 21,
   "metadata": {
    "scrolled": false
   },
   "outputs": [
    {
     "name": "stdout",
     "output_type": "stream",
     "text": [
      "Model: \"model\"\n",
      "__________________________________________________________________________________________________\n",
      "Layer (type)                    Output Shape         Param #     Connected to                     \n",
      "==================================================================================================\n",
      "input_1 (InputLayer)            [(None, None)]       0                                            \n",
      "__________________________________________________________________________________________________\n",
      "input_2 (InputLayer)            [(None, None)]       0                                            \n",
      "__________________________________________________________________________________________________\n",
      "embedding (Embedding)           (None, None, 50)     198450      input_1[0][0]                    \n",
      "__________________________________________________________________________________________________\n",
      "embedding_1 (Embedding)         (None, None, 50)     417750      input_2[0][0]                    \n",
      "__________________________________________________________________________________________________\n",
      "lstm (LSTM)                     [(None, 50), (None,  20200       embedding[0][0]                  \n",
      "__________________________________________________________________________________________________\n",
      "lstm_1 (LSTM)                   [(None, None, 50), ( 20200       embedding_1[0][0]                \n",
      "                                                                 lstm[0][1]                       \n",
      "                                                                 lstm[0][2]                       \n",
      "__________________________________________________________________________________________________\n",
      "dense (Dense)                   (None, None, 8355)   426105      lstm_1[0][0]                     \n",
      "==================================================================================================\n",
      "Total params: 1,082,705\n",
      "Trainable params: 1,082,705\n",
      "Non-trainable params: 0\n",
      "__________________________________________________________________________________________________\n"
     ]
    }
   ],
   "source": [
    "# Set up the decoder, using `encoder_states` as initial state.\n",
    "\n",
    "decoder_inputs = Input(shape=(None,))\n",
    "dex =  Embedding(decoder_tokens, embedding_size)\n",
    "final_dex = dex(decoder_inputs)\n",
    "\n",
    "decoder_lstm = LSTM(50, return_sequences=True, return_state=True)\n",
    "decoder_outputs, _, _ = decoder_lstm(final_dex, initial_state=encoder_states)\n",
    "\n",
    "decoder_dense = Dense(decoder_tokens, activation='softmax')\n",
    "\n",
    "decoder_outputs = decoder_dense(decoder_outputs)\n",
    "\n",
    "model = Model([encoder_inputs, decoder_inputs], decoder_outputs)\n",
    "model.summary()"
   ]
  },
  {
   "cell_type": "markdown",
   "metadata": {},
   "source": [
    "# Plot Model"
   ]
  },
  {
   "cell_type": "code",
   "execution_count": 22,
   "metadata": {
    "scrolled": false
   },
   "outputs": [
    {
     "data": {
      "image/png": "[encoded data removed]",
      "text/plain": [
       "<IPython.core.display.Image object>"
      ]
     },
     "execution_count": 22,
     "metadata": {},
     "output_type": "execute_result"
    }
   ],
   "source": [
    "keras.utils.plot_model(model, show_shapes=True, dpi=90)"
   ]
  },
  {
   "cell_type": "markdown",
   "metadata": {},
   "source": [
    "# Compile Model"
   ]
  },
  {
   "cell_type": "code",
   "execution_count": 23,
   "metadata": {
    "scrolled": false
   },
   "outputs": [],
   "source": [
    "METRICS = [keras.metrics.TruePositives(name='tp'),\n",
    "           keras.metrics.FalsePositives(name='fp'),\n",
    "           keras.metrics.TrueNegatives(name='tn'),\n",
    "           keras.metrics.FalseNegatives(name='fn'), \n",
    "           keras.metrics.BinaryAccuracy(name='accuracy'),\n",
    "           keras.metrics.Precision(name='precision'),\n",
    "           keras.metrics.Recall(name='recall'),\n",
    "           keras.metrics.AUC(name='auc')]\n",
    "\n",
    "model.compile(optimizer='rmsprop', loss='categorical_crossentropy', metrics=METRICS)"
   ]
  },
  {
   "cell_type": "markdown",
   "metadata": {},
   "source": [
    "# Train Model"
   ]
  },
  {
   "cell_type": "code",
   "execution_count": 24,
   "metadata": {
    "scrolled": false
   },
   "outputs": [
    {
     "name": "stdout",
     "output_type": "stream",
     "text": [
      "Train on 12500 samples, validate on 12500 samples\n",
      "Epoch 1/15\n",
      "12500/12500 [==============================] - 5416s 433ms/sample - loss: 1.5917 - tp: 8710.0000 - fp: 70269.0000 - tn: 1461986048.0000 - fn: 45742.0000 - accuracy: 0.9999 - precision: 0.1103 - recall: 0.1600 - auc: 0.7656 - val_loss: 1.9134 - val_tp: 12793.0000 - val_fp: 17656.0000 - val_tn: 1462027008.0000 - val_fn: 51543.0000 - val_accuracy: 1.0000 - val_precision: 0.4201 - val_recall: 0.1988 - val_auc: 0.7575\n",
      "Epoch 2/15\n",
      "12500/12500 [==============================] - 5883s 471ms/sample - loss: 1.3909 - tp: 13501.0000 - fp: 22814.0000 - tn: 1462032256.0000 - fn: 40951.0000 - accuracy: 1.0000 - precision: 0.3718 - recall: 0.2479 - auc: 0.7947 - val_loss: 1.8284 - val_tp: 14208.0000 - val_fp: 28038.0000 - val_tn: 1462016512.0000 - val_fn: 50128.0000 - val_accuracy: 1.0000 - val_precision: 0.3363 - val_recall: 0.2208 - val_auc: 0.7731\n",
      "Epoch 3/15\n",
      "12500/12500 [==============================] - 5793s 463ms/sample - loss: 1.3169 - tp: 16102.0000 - fp: 26232.0000 - tn: 1462024192.0000 - fn: 38350.0000 - accuracy: 1.0000 - precision: 0.3804 - recall: 0.2957 - auc: 0.8033 - val_loss: 1.7705 - val_tp: 16740.0000 - val_fp: 28497.0000 - val_tn: 1462016512.0000 - val_fn: 47596.0000 - val_accuracy: 1.0000 - val_precision: 0.3701 - val_recall: 0.2602 - val_auc: 0.7763\n",
      "Epoch 4/15\n",
      "12500/12500 [==============================] - 5671s 454ms/sample - loss: 1.2583 - tp: 18239.0000 - fp: 22393.0000 - tn: 1462033408.0000 - fn: 36213.0000 - accuracy: 1.0000 - precision: 0.4489 - recall: 0.3350 - auc: 0.8111 - val_loss: 1.7090 - val_tp: 17425.0000 - val_fp: 24364.0000 - val_tn: 1462020224.0000 - val_fn: 46911.0000 - val_accuracy: 1.0000 - val_precision: 0.4170 - val_recall: 0.2708 - val_auc: 0.7869\n",
      "Epoch 5/15\n",
      "12500/12500 [==============================] - 5591s 447ms/sample - loss: 1.2134 - tp: 19375.0000 - fp: 24544.0000 - tn: 1462029568.0000 - fn: 35077.0000 - accuracy: 1.0000 - precision: 0.4412 - recall: 0.3558 - auc: 0.8178 - val_loss: 1.6805 - val_tp: 17775.0000 - val_fp: 20194.0000 - val_tn: 1462024192.0000 - val_fn: 46561.0000 - val_accuracy: 1.0000 - val_precision: 0.4681 - val_recall: 0.2763 - val_auc: 0.7915\n",
      "Epoch 6/15\n",
      "12500/12500 [==============================] - 5370s 430ms/sample - loss: 1.1870 - tp: 20095.0000 - fp: 19745.0000 - tn: 1462039680.0000 - fn: 34357.0000 - accuracy: 1.0000 - precision: 0.5044 - recall: 0.3690 - auc: 0.8243 - val_loss: 1.6765 - val_tp: 18506.0000 - val_fp: 20403.0000 - val_tn: 1462024320.0000 - val_fn: 45830.0000 - val_accuracy: 1.0000 - val_precision: 0.4756 - val_recall: 0.2876 - val_auc: 0.7970\n",
      "Epoch 7/15\n",
      "12500/12500 [==============================] - 5440s 435ms/sample - loss: 1.1796 - tp: 20550.0000 - fp: 18409.0000 - tn: 1462041728.0000 - fn: 33902.0000 - accuracy: 1.0000 - precision: 0.5275 - recall: 0.3774 - auc: 0.8293 - val_loss: 1.6915 - val_tp: 18410.0000 - val_fp: 20822.0000 - val_tn: 1462022784.0000 - val_fn: 45926.0000 - val_accuracy: 1.0000 - val_precision: 0.4693 - val_recall: 0.2862 - val_auc: 0.7995\n",
      "Epoch 8/15\n",
      "12500/12500 [==============================] - 5185s 415ms/sample - loss: 1.1799 - tp: 21264.0000 - fp: 19053.0000 - tn: 1462041728.0000 - fn: 33188.0000 - accuracy: 1.0000 - precision: 0.5274 - recall: 0.3905 - auc: 0.8327 - val_loss: 1.7175 - val_tp: 18806.0000 - val_fp: 17468.0000 - val_tn: 1462026368.0000 - val_fn: 45530.0000 - val_accuracy: 1.0000 - val_precision: 0.5184 - val_recall: 0.2923 - val_auc: 0.8052\n",
      "Epoch 9/15\n",
      "12500/12500 [==============================] - 5279s 422ms/sample - loss: 1.1980 - tp: 21771.0000 - fp: 20404.0000 - tn: 1462044416.0000 - fn: 32681.0000 - accuracy: 1.0000 - precision: 0.5162 - recall: 0.3998 - auc: 0.8370 - val_loss: 1.7554 - val_tp: 20276.0000 - val_fp: 29942.0000 - val_tn: 1462013952.0000 - val_fn: 44060.0000 - val_accuracy: 1.0000 - val_precision: 0.4038 - val_recall: 0.3152 - val_auc: 0.8065\n",
      "Epoch 00009: early stopping\n"
     ]
    },
    {
     "data": {
      "text/plain": [
       "<tensorflow.python.keras.callbacks.History at 0x16ef9f1c358>"
      ]
     },
     "execution_count": 24,
     "metadata": {},
     "output_type": "execute_result"
    }
   ],
   "source": [
    "early_stopping_callback = keras.callbacks.EarlyStopping(monitor='val_loss', min_delta=0, \n",
    "                                                        patience=3, verbose=1, mode='auto')\n",
    "\n",
    "BATCH_SIZE = 8\n",
    "EPOCHS = 15\n",
    "\n",
    "model.fit([encoder_input_data, decoder_input_data], decoder_target_data, \n",
    "                                                    batch_size=BATCH_SIZE, epochs=EPOCHS, \n",
    "                                                    validation_split=0.5,\n",
    "                                                    callbacks=[early_stopping_callback])"
   ]
  },
  {
   "cell_type": "code",
   "execution_count": 25,
   "metadata": {
    "scrolled": false
   },
   "outputs": [],
   "source": [
    "model.save('C:/Projects/NLP/Data/Seq2Seq.h5')"
   ]
  },
  {
   "cell_type": "markdown",
   "metadata": {},
   "source": [
    "# Inference Model"
   ]
  },
  {
   "cell_type": "code",
   "execution_count": 32,
   "metadata": {
    "scrolled": false
   },
   "outputs": [],
   "source": [
    "# Encoder inference model\n",
    "encoder_model_inf = Model(encoder_inputs, encoder_states)\n",
    "\n",
    "# Decoder inference model\n",
    "decoder_state_input_h = Input(shape=(None,))\n",
    "decoder_state_input_c = Input(shape=(None,))\n",
    "decoder_input_states = [decoder_state_input_h, decoder_state_input_c]\n",
    "\n",
    "decoder_out, decoder_h, decoder_c = decoder_lstm(final_dex, initial_state=decoder_input_states)\n",
    "\n",
    "decoder_states = [decoder_h , decoder_c]\n",
    "\n",
    "decoder_out = decoder_dense(decoder_out)\n",
    "\n",
    "decoder_model_inf = Model(inputs=[decoder_inputs] + decoder_input_states,\n",
    "                          outputs=[decoder_out] + decoder_states )"
   ]
  },
  {
   "cell_type": "code",
   "execution_count": 34,
   "metadata": {
    "scrolled": false
   },
   "outputs": [
    {
     "name": "stdout",
     "output_type": "stream",
     "text": [
      "Model: \"model_5\"\n",
      "__________________________________________________________________________________________________\n",
      "Layer (type)                    Output Shape         Param #     Connected to                     \n",
      "==================================================================================================\n",
      "input_2 (InputLayer)            [(None, None)]       0                                            \n",
      "__________________________________________________________________________________________________\n",
      "embedding_1 (Embedding)         (None, None, 50)     417750      input_2[0][0]                    \n",
      "__________________________________________________________________________________________________\n",
      "input_7 (InputLayer)            [(None, None)]       0                                            \n",
      "__________________________________________________________________________________________________\n",
      "input_8 (InputLayer)            [(None, None)]       0                                            \n",
      "__________________________________________________________________________________________________\n",
      "lstm_1 (LSTM)                   multiple             20200       embedding_1[0][0]                \n",
      "                                                                 input_7[0][0]                    \n",
      "                                                                 input_8[0][0]                    \n",
      "__________________________________________________________________________________________________\n",
      "dense (Dense)                   (None, None, 8355)   426105      lstm_1[1][0]                     \n",
      "==================================================================================================\n",
      "Total params: 864,055\n",
      "Trainable params: 864,055\n",
      "Non-trainable params: 0\n",
      "__________________________________________________________________________________________________\n"
     ]
    }
   ],
   "source": [
    "decoder_model_inf.summary()"
   ]
  },
  {
   "cell_type": "code",
   "execution_count": 91,
   "metadata": {
    "scrolled": false
   },
   "outputs": [],
   "source": [
    "# maximum english sentence length\n",
    "eng_sentence_length = max([len(sample.split()) for sample in data.English])\n",
    "# maximum french sentence length\n",
    "frn_sentence_length = max([len(sample.split()) for sample in data.French])"
   ]
  },
  {
   "cell_type": "code",
   "execution_count": 180,
   "metadata": {
    "scrolled": false
   },
   "outputs": [],
   "source": [
    "def decode_seq(inp_seq):\n",
    "    \n",
    "    encoder_states = encoder_model_inf.predict(inp_seq)\n",
    " \n",
    "    target_seq = np.zeros(( 1, 1))\n",
    "    target_seq[0,0] = target_token_index['START_']\n",
    "    \n",
    "    stop = False\n",
    "  \n",
    "    sentence = \"\"\n",
    "  \n",
    "    while(not stop):\n",
    "        decoder_out, decoder_h, decoder_c = decoder_model_inf.predict([target_seq] + encoder_states)\n",
    "        val_index  = np.argmax(decoder_out[0,-1,:])\n",
    "\n",
    "        #sampled_word = target_token_index[op_id]\n",
    "        sampled_word = [x for x in target_token_index if target_token_index[x] == val_index][0]\n",
    "        sentence+=\" \"+sampled_word    \n",
    "    \n",
    "        if (sampled_word == \"_END\" or len(sentence.split()) >= frn_sentence_length):\n",
    "            stop = True\n",
    "        target_seq = np.zeros(( 1, 1))\n",
    "        target_seq[0,0] =  val_index    \n",
    "        encoder_states = [decoder_h, decoder_c]\n",
    "    \n",
    "    return sentence"
   ]
  },
  {
   "cell_type": "code",
   "execution_count": 184,
   "metadata": {
    "scrolled": true
   },
   "outputs": [
    {
     "name": "stdout",
     "output_type": "stream",
     "text": [
      "--------------------------------------------------\n",
      "Input sentence: go\n",
      "Decoded sentence:  me _END\n",
      "--------------------------------------------------\n",
      "Input sentence: run\n",
      "Decoded sentence:  ai as de moi _END\n",
      "--------------------------------------------------\n",
      "Input sentence: run\n",
      "Decoded sentence:  ai as de moi _END\n",
      "--------------------------------------------------\n",
      "Input sentence: wow\n",
      "Decoded sentence:  me suis _END\n",
      "--------------------------------------------------\n",
      "Input sentence: fire\n",
      "Decoded sentence:  soyez en train de été maison _END\n"
     ]
    }
   ],
   "source": [
    "for seq_index in range(5):\n",
    "    inp_seq = encoder_input_data[seq_index : seq_index+1]\n",
    "    translated_sent = decode_seq(inp_seq)\n",
    "    \n",
    "    print('-'*50)\n",
    "    print('Input sentence:', data.English[seq_index])\n",
    "    print('Decoded sentence:', translated_sent)"
   ]
  },
  {
   "cell_type": "code",
   "execution_count": null,
   "metadata": {
    "scrolled": true
   },
   "outputs": [],
   "source": []
  }
 ],
 "metadata": {
  "kernelspec": {
   "display_name": "alert",
   "language": "python",
   "name": "alert"
  },
  "language_info": {
   "codemirror_mode": {
    "name": "ipython",
    "version": 3
   },
   "file_extension": ".py",
   "mimetype": "text/x-python",
   "name": "python",
   "nbconvert_exporter": "python",
   "pygments_lexer": "ipython3",
   "version": "3.7.1"
  }
 },
 "nbformat": 4,
 "nbformat_minor": 2
}
