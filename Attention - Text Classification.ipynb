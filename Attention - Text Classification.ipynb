{
 "cells": [
  {
   "cell_type": "code",
   "execution_count": 1,
   "metadata": {},
   "outputs": [],
   "source": [
    "import os\n",
    "import numpy as np\n",
    "import pandas as pd\n",
    "import re\n",
    "import string\n",
    "from bs4 import BeautifulSoup\n",
    "from nltk.corpus import stopwords\n",
    "from nltk.tokenize import RegexpTokenizer\n",
    "from nltk.stem import WordNetLemmatizer\n",
    "from sklearn.feature_extraction.text import TfidfVectorizer\n",
    "from sklearn.preprocessing import LabelEncoder\n",
    "from datetime import datetime\n",
    "from sklearn.model_selection import train_test_split"
   ]
  },
  {
   "cell_type": "code",
   "execution_count": 2,
   "metadata": {},
   "outputs": [],
   "source": [
    "import tensorflow as tf\n",
    "from tensorflow import keras\n",
    "from keras_preprocessing import sequence\n",
    "from tensorflow.keras.layers import Concatenate, Dense, Input, LSTM, Embedding, Dropout, Activation, Bidirectional\n",
    "from tensorflow.keras.models import Model, Sequential\n",
    "from tensorflow.keras import initializers, regularizers, constraints, optimizers, layers"
   ]
  },
  {
   "cell_type": "code",
   "execution_count": 3,
   "metadata": {},
   "outputs": [],
   "source": [
    "os.chdir('NLP/Data')"
   ]
  },
  {
   "cell_type": "code",
   "execution_count": 4,
   "metadata": {},
   "outputs": [],
   "source": [
    "imdb_data = pd.read_csv('IMDB_Dataset.csv')"
   ]
  },
  {
   "cell_type": "code",
   "execution_count": 5,
   "metadata": {},
   "outputs": [],
   "source": [
    "le = LabelEncoder()\n",
    "imdb_data['target'] = le.fit_transform(imdb_data.sentiment)\n",
    "imdb_data.drop('sentiment', axis=1, inplace=True)"
   ]
  },
  {
   "cell_type": "code",
   "execution_count": 6,
   "metadata": {},
   "outputs": [],
   "source": [
    "lemmatizer = WordNetLemmatizer()\n",
    "en_stop = set(stopwords.words('english'))\n",
    "              \n",
    "def cleaning_text(document):\n",
    "        \n",
    "        # Remove all the special characters\n",
    "        document = re.sub(r'\\W', ' ', str(document))\n",
    "\n",
    "        # remove all single characters\n",
    "        document = re.sub(r'\\s+[a-zA-Z]\\s+', ' ', document)\n",
    "        \n",
    "        # remove numbers\n",
    "        #document = re.sub(r'\\d+', '', document)\n",
    "\n",
    "        # Remove single characters from the start\n",
    "        document = re.sub(r'\\^[a-zA-Z]\\s+', ' ', document)\n",
    "\n",
    "        # Substituting multiple spaces with single space\n",
    "        document = re.sub(r'\\s+', ' ', document, flags=re.I)\n",
    "\n",
    "        # Removing prefixed 'b'\n",
    "        document = re.sub(r'^b\\s+', '', document)\n",
    "\n",
    "        # Converting to Lowercase\n",
    "        document = document.lower()\n",
    "\n",
    "        # Lemmatization\n",
    "        tokens = document.split()\n",
    "        tokens = [lemmatizer.lemmatize(word) for word in tokens]\n",
    "        tokens = [word for word in tokens if word not in en_stop]\n",
    "        #tokens = [word for word in tokens if len(word) > 3]\n",
    "\n",
    "        preprocessed_text = ' '.join(tokens)\n",
    "\n",
    "        return preprocessed_text"
   ]
  },
  {
   "cell_type": "code",
   "execution_count": 7,
   "metadata": {},
   "outputs": [
    {
     "name": "stdout",
     "output_type": "stream",
     "text": [
      "Time Start :  2020-09-25 11:16:46.421002\n",
      "Time End :  2020-09-25 11:17:54.842694\n"
     ]
    }
   ],
   "source": [
    "print('Time Start : ',datetime.now())\n",
    "imdb_data['review'] = imdb_data['review'].apply(cleaning_text)\n",
    "print('Time End : ',datetime.now())"
   ]
  },
  {
   "cell_type": "code",
   "execution_count": 8,
   "metadata": {},
   "outputs": [
    {
     "data": {
      "text/plain": [
       "0    one reviewer ha mentioned watching 1 oz episod...\n",
       "1    wonderful little production br br filming tech...\n",
       "2    thought wa wonderful way spend time hot summer...\n",
       "3    basically family little boy jake think zombie ...\n",
       "4    petter mattei love time money visually stunnin...\n",
       "Name: review, dtype: object"
      ]
     },
     "execution_count": 8,
     "metadata": {},
     "output_type": "execute_result"
    }
   ],
   "source": [
    "imdb_data['review'].head(5)"
   ]
  },
  {
   "cell_type": "code",
   "execution_count": 9,
   "metadata": {},
   "outputs": [],
   "source": [
    "vectorizer_X = TfidfVectorizer(analyzer='word', max_df=0.5, min_df=2,\n",
    "                                   strip_accents = None, encoding = 'utf-8',\n",
    "                                   preprocessor=None)\n",
    "\n",
    "# TF-IDF matrices\n",
    "imdb_vect = vectorizer_X.fit_transform(imdb_data['review'].values)"
   ]
  },
  {
   "cell_type": "code",
   "execution_count": 10,
   "metadata": {},
   "outputs": [
    {
     "data": {
      "text/plain": [
       "(50000, 52904)"
      ]
     },
     "execution_count": 10,
     "metadata": {},
     "output_type": "execute_result"
    }
   ],
   "source": [
    "imdb_vect.shape"
   ]
  },
  {
   "cell_type": "code",
   "execution_count": 11,
   "metadata": {},
   "outputs": [],
   "source": [
    "vectorizer = TfidfVectorizer(min_df=13)\n",
    "imdb_vect = vectorizer.fit_transform(imdb_data['review'].values)"
   ]
  },
  {
   "cell_type": "code",
   "execution_count": 12,
   "metadata": {},
   "outputs": [
    {
     "data": {
      "text/plain": [
       "(50000, 20258)"
      ]
     },
     "execution_count": 12,
     "metadata": {},
     "output_type": "execute_result"
    }
   ],
   "source": [
    "imdb_vect.shape"
   ]
  },
  {
   "cell_type": "code",
   "execution_count": 13,
   "metadata": {},
   "outputs": [],
   "source": [
    "X = imdb_vect.toarray()\n",
    "y = (np.array(imdb_data['target']))\n",
    "\n",
    "X_train, X_test, y_train, y_test = train_test_split(X, y, test_size=0.2, random_state=20)"
   ]
  },
  {
   "cell_type": "code",
   "execution_count": 14,
   "metadata": {},
   "outputs": [
    {
     "name": "stdout",
     "output_type": "stream",
     "text": [
      "X Train dataset shape:  (40000, 20258)\n",
      "X Test dataset shape:  (10000, 20258)\n",
      "Y Train dataset shape:  (40000,)\n",
      "Y Test dataset shape:  (10000,)\n"
     ]
    }
   ],
   "source": [
    "print(\"X Train dataset shape: \", X_train.shape)\n",
    "print(\"X Test dataset shape: \", X_test.shape)\n",
    "print(\"Y Train dataset shape: \", y_train.shape)\n",
    "print(\"Y Test dataset shape: \", y_test.shape)"
   ]
  },
  {
   "cell_type": "code",
   "execution_count": 15,
   "metadata": {},
   "outputs": [],
   "source": [
    "MAX_LEN = 200\n",
    "RNN_CELL_SIZE = 128\n",
    "VOCAB_SIZE = 10000\n",
    "EMBED_SIZE = 128\n",
    "\n",
    "pad_id = 0\n",
    "start_id = 1\n",
    "oov_id = 2\n",
    "index_offset = 2"
   ]
  },
  {
   "cell_type": "code",
   "execution_count": 16,
   "metadata": {},
   "outputs": [],
   "source": [
    "X_train = sequence.pad_sequences(X_train, maxlen=MAX_LEN, truncating='post', padding='post', value=pad_id)\n",
    "X_test = sequence.pad_sequences(X_test, maxlen=MAX_LEN, truncating='post', padding='post', value=pad_id)"
   ]
  },
  {
   "cell_type": "markdown",
   "metadata": {},
   "source": [
    "# Attention Layer"
   ]
  },
  {
   "cell_type": "code",
   "execution_count": 17,
   "metadata": {},
   "outputs": [],
   "source": [
    "class Attention(tf.keras.Model):\n",
    "    def __init__(self, units):\n",
    "        super(Attention, self).__init__()\n",
    "        self.W1 = tf.keras.layers.Dense(units)\n",
    "        self.W2 = tf.keras.layers.Dense(units)\n",
    "        self.V = tf.keras.layers.Dense(1)\n",
    " \n",
    "    def call(self, features, hidden):\n",
    "        # we are doing this to perform addition to calculate the score\n",
    "        hidden_with_time_axis = tf.expand_dims(hidden, 1)\n",
    "\n",
    "        # we get 1 at the last axis because we are applying score to self.V\n",
    "        # the shape of the tensor before applying self.V is (batch_size, max_length, units)\n",
    "        score = tf.nn.tanh(self.W1(features) + self.W2(hidden_with_time_axis))\n",
    "        \n",
    "        # attention_weights shape == (batch_size, max_length, 1)\n",
    "        attention_weights = tf.nn.softmax(self.V(score), axis=1)\n",
    "\n",
    "        # context_vector shape after sum == (batch_size, hidden_size)\n",
    "        context_vector = attention_weights * features\n",
    "        context_vector = tf.reduce_sum(context_vector, axis=1)\n",
    " \n",
    "        return context_vector, attention_weights"
   ]
  },
  {
   "cell_type": "markdown",
   "metadata": {},
   "source": [
    "# Embed Layer"
   ]
  },
  {
   "cell_type": "code",
   "execution_count": 18,
   "metadata": {},
   "outputs": [],
   "source": [
    "sequence_input = Input(shape=(MAX_LEN,), dtype=\"int32\")\n",
    "embedded_sequences = Embedding(VOCAB_SIZE, EMBED_SIZE, input_length=MAX_LEN)(sequence_input)"
   ]
  },
  {
   "cell_type": "markdown",
   "metadata": {},
   "source": [
    "# Bi-directional LSTM"
   ]
  },
  {
   "cell_type": "code",
   "execution_count": 19,
   "metadata": {},
   "outputs": [],
   "source": [
    "lstm = Bidirectional(LSTM(RNN_CELL_SIZE, \n",
    "                          dropout=0.3,\n",
    "                          return_sequences = True, \n",
    "                          return_state=True,\n",
    "                          recurrent_activation='relu',\n",
    "                          recurrent_initializer='glorot_uniform'), name=\"bi_lstm_0\")(embedded_sequences)\n",
    "\n",
    "\n",
    "# Getting our LSTM outputs\n",
    "(lstm, forward_h, forward_c, backward_h, backward_c) = Bidirectional(LSTM(RNN_CELL_SIZE,\n",
    "                                                                          dropout=0.2,\n",
    "                                                                          return_sequences=True, \n",
    "                                                                          return_state=True,\n",
    "                                                                          recurrent_activation='relu',\n",
    "                                                                          recurrent_initializer='glorot_uniform'), \n",
    "                                                                          name=\"bi_lstm_1\")(lstm)"
   ]
  },
  {
   "cell_type": "code",
   "execution_count": 20,
   "metadata": {},
   "outputs": [
    {
     "name": "stdout",
     "output_type": "stream",
     "text": [
      "Model: \"model\"\n",
      "__________________________________________________________________________________________________\n",
      "Layer (type)                    Output Shape         Param #     Connected to                     \n",
      "==================================================================================================\n",
      "input_1 (InputLayer)            [(None, 200)]        0                                            \n",
      "__________________________________________________________________________________________________\n",
      "embedding (Embedding)           (None, 200, 128)     1280000     input_1[0][0]                    \n",
      "__________________________________________________________________________________________________\n",
      "bi_lstm_0 (Bidirectional)       [(None, 200, 256), ( 263168      embedding[0][0]                  \n",
      "__________________________________________________________________________________________________\n",
      "bi_lstm_1 (Bidirectional)       [(None, 200, 256), ( 394240      bi_lstm_0[0][0]                  \n",
      "                                                                 bi_lstm_0[0][1]                  \n",
      "                                                                 bi_lstm_0[0][2]                  \n",
      "                                                                 bi_lstm_0[0][3]                  \n",
      "                                                                 bi_lstm_0[0][4]                  \n",
      "__________________________________________________________________________________________________\n",
      "concatenate (Concatenate)       (None, 256)          0           bi_lstm_1[0][1]                  \n",
      "                                                                 bi_lstm_1[0][3]                  \n",
      "__________________________________________________________________________________________________\n",
      "attention (Attention)           ((None, 256), (None, 5151        bi_lstm_1[0][0]                  \n",
      "__________________________________________________________________________________________________\n",
      "dense_3 (Dense)                 (None, 20)           5140        attention[0][0]                  \n",
      "__________________________________________________________________________________________________\n",
      "dropout (Dropout)               (None, 20)           0           dense_3[0][0]                    \n",
      "__________________________________________________________________________________________________\n",
      "dense_4 (Dense)                 (None, 1)            21          dropout[0][0]                    \n",
      "==================================================================================================\n",
      "Total params: 1,947,720\n",
      "Trainable params: 1,947,720\n",
      "Non-trainable params: 0\n",
      "__________________________________________________________________________________________________\n",
      "None\n"
     ]
    }
   ],
   "source": [
    "state_h = Concatenate()([forward_h, backward_h])\n",
    "state_c = Concatenate()([forward_c, backward_c])\n",
    "\n",
    "context_vector, attention_weights = Attention(10)(lstm, state_h)\n",
    "\n",
    "dense_ = Dense(20, activation=\"relu\")(context_vector)\n",
    "dropout = Dropout(0.05)(dense_)\n",
    "output = Dense(1, activation=\"sigmoid\")(dropout)\n",
    "\n",
    "model = keras.Model(inputs=sequence_input, outputs=output)\n",
    "\n",
    "# summarize layers\n",
    "print(model.summary())"
   ]
  },
  {
   "cell_type": "markdown",
   "metadata": {},
   "source": [
    "# Plot Model"
   ]
  },
  {
   "cell_type": "code",
   "execution_count": 21,
   "metadata": {},
   "outputs": [
    {
     "data": {
      "image/png": "[encoded data removed]",
      "text/plain": [
       "<IPython.core.display.Image object>"
      ]
     },
     "execution_count": 21,
     "metadata": {},
     "output_type": "execute_result"
    }
   ],
   "source": [
    "keras.utils.plot_model(model, show_shapes=True, dpi=90)"
   ]
  },
  {
   "cell_type": "markdown",
   "metadata": {},
   "source": [
    "# Compile Model"
   ]
  },
  {
   "cell_type": "code",
   "execution_count": 22,
   "metadata": {},
   "outputs": [],
   "source": [
    "METRICS = [keras.metrics.TruePositives(name='tp'),\n",
    "           keras.metrics.FalsePositives(name='fp'),\n",
    "           keras.metrics.TrueNegatives(name='tn'),\n",
    "           keras.metrics.FalseNegatives(name='fn'), \n",
    "           keras.metrics.BinaryAccuracy(name='accuracy'),\n",
    "           keras.metrics.Precision(name='precision'),\n",
    "           keras.metrics.Recall(name='recall'),\n",
    "           keras.metrics.AUC(name='auc')]\n",
    "\n",
    "model.compile(loss='binary_crossentropy', optimizer='adam', metrics=METRICS)"
   ]
  },
  {
   "cell_type": "markdown",
   "metadata": {},
   "source": [
    "# Train Model"
   ]
  },
  {
   "cell_type": "code",
   "execution_count": 23,
   "metadata": {},
   "outputs": [
    {
     "name": "stdout",
     "output_type": "stream",
     "text": [
      "Train on 28000 samples, validate on 12000 samples\n",
      "Epoch 1/10\n",
      "28000/28000 [==============================] - 6132s 219ms/sample - loss: 0.6932 - tp: 9229.0000 - fp: 9064.0000 - tn: 4857.0000 - fn: 4850.0000 - accuracy: 0.5031 - precision: 0.5045 - recall: 0.6555 - auc: 0.5007 - val_loss: 0.6932 - val_tp: 5992.0000 - val_fp: 6008.0000 - val_tn: 0.0000e+00 - val_fn: 0.0000e+00 - val_accuracy: 0.4993 - val_precision: 0.4993 - val_recall: 1.0000 - val_auc: 0.5000\n",
      "Epoch 2/10\n",
      "28000/28000 [==============================] - 10525s 376ms/sample - loss: 0.6932 - tp: 14079.0000 - fp: 13921.0000 - tn: 0.0000e+00 - fn: 0.0000e+00 - accuracy: 0.5028 - precision: 0.5028 - recall: 1.0000 - auc: 0.4980 - val_loss: 0.6932 - val_tp: 5992.0000 - val_fp: 6008.0000 - val_tn: 0.0000e+00 - val_fn: 0.0000e+00 - val_accuracy: 0.4993 - val_precision: 0.4993 - val_recall: 1.0000 - val_auc: 0.5000\n",
      "Epoch 3/10\n",
      "28000/28000 [==============================] - 8478s 303ms/sample - loss: 0.6932 - tp: 12019.0000 - fp: 11895.0000 - tn: 2026.0000 - fn: 2060.0000 - accuracy: 0.5016 - precision: 0.5026 - recall: 0.8537 - auc: 0.4978 - val_loss: 0.6932 - val_tp: 5992.0000 - val_fp: 6008.0000 - val_tn: 0.0000e+00 - val_fn: 0.0000e+00 - val_accuracy: 0.4993 - val_precision: 0.4993 - val_recall: 1.0000 - val_auc: 0.5000\n",
      "Epoch 4/10\n",
      "28000/28000 [==============================] - 12499s 446ms/sample - loss: 0.6931 - tp: 14079.0000 - fp: 13921.0000 - tn: 0.0000e+00 - fn: 0.0000e+00 - accuracy: 0.5028 - precision: 0.5028 - recall: 1.0000 - auc: 0.4983 - val_loss: 0.6932 - val_tp: 5992.0000 - val_fp: 6008.0000 - val_tn: 0.0000e+00 - val_fn: 0.0000e+00 - val_accuracy: 0.4993 - val_precision: 0.4993 - val_recall: 1.0000 - val_auc: 0.5000\n",
      "Epoch 5/10\n",
      "28000/28000 [==============================] - 7854s 280ms/sample - loss: 0.6932 - tp: 14079.0000 - fp: 13921.0000 - tn: 0.0000e+00 - fn: 0.0000e+00 - accuracy: 0.5028 - precision: 0.5028 - recall: 1.0000 - auc: 0.4918 - val_loss: 0.6932 - val_tp: 5992.0000 - val_fp: 6008.0000 - val_tn: 0.0000e+00 - val_fn: 0.0000e+00 - val_accuracy: 0.4993 - val_precision: 0.4993 - val_recall: 1.0000 - val_auc: 0.5000\n",
      "Epoch 6/10\n",
      "28000/28000 [==============================] - 8877s 317ms/sample - loss: 0.6931 - tp: 14079.0000 - fp: 13921.0000 - tn: 0.0000e+00 - fn: 0.0000e+00 - accuracy: 0.5028 - precision: 0.5028 - recall: 1.0000 - auc: 0.4981 - val_loss: 0.6932 - val_tp: 5992.0000 - val_fp: 6008.0000 - val_tn: 0.0000e+00 - val_fn: 0.0000e+00 - val_accuracy: 0.4993 - val_precision: 0.4993 - val_recall: 1.0000 - val_auc: 0.5000\n",
      "Epoch 7/10\n",
      "28000/28000 [==============================] - 8797s 314ms/sample - loss: 0.6932 - tp: 14079.0000 - fp: 13921.0000 - tn: 0.0000e+00 - fn: 0.0000e+00 - accuracy: 0.5028 - precision: 0.5028 - recall: 1.0000 - auc: 0.4990 - val_loss: 0.6932 - val_tp: 5992.0000 - val_fp: 6008.0000 - val_tn: 0.0000e+00 - val_fn: 0.0000e+00 - val_accuracy: 0.4993 - val_precision: 0.4993 - val_recall: 1.0000 - val_auc: 0.5000\n",
      "Epoch 00007: early stopping\n"
     ]
    }
   ],
   "source": [
    "early_stopping_callback = keras.callbacks.EarlyStopping(monitor='val_loss', min_delta=0, patience=3, verbose=1, \n",
    "                                                        mode='auto')\n",
    "\n",
    "BATCH_SIZE = 200\n",
    "EPOCHS = 10\n",
    "\n",
    "history = model.fit(X_train, y_train, epochs=EPOCHS, batch_size=BATCH_SIZE, validation_split=0.3, \n",
    "                    verbose=1, callbacks=[early_stopping_callback])"
   ]
  },
  {
   "cell_type": "markdown",
   "metadata": {},
   "source": [
    "# Evaluating the Model"
   ]
  },
  {
   "cell_type": "code",
   "execution_count": 32,
   "metadata": {
    "scrolled": false
   },
   "outputs": [
    {
     "name": "stdout",
     "output_type": "stream",
     "text": [
      "Test loss: 0.6932357566833496\n",
      "Test accuracy: 4929.0\n"
     ]
    }
   ],
   "source": [
    "score = model.evaluate(X_test, y_test, verbose=0)\n",
    "print('Test loss:', score[0])\n",
    "print('Test accuracy:', score[1])"
   ]
  },
  {
   "cell_type": "code",
   "execution_count": 33,
   "metadata": {},
   "outputs": [],
   "source": [
    "prediction = model.predict(X_test)\n",
    "y_pred = (prediction > 0.5)"
   ]
  },
  {
   "cell_type": "code",
   "execution_count": 36,
   "metadata": {},
   "outputs": [
    {
     "name": "stdout",
     "output_type": "stream",
     "text": [
      "              precision    recall  f1-score   support\n",
      "\n",
      "           0       0.00      0.00      0.00      5071\n",
      "           1       0.49      1.00      0.66      4929\n",
      "\n",
      "    accuracy                           0.49     10000\n",
      "   macro avg       0.25      0.50      0.33     10000\n",
      "weighted avg       0.24      0.49      0.33     10000\n",
      "\n"
     ]
    }
   ],
   "source": [
    "import warnings\n",
    "warnings.filterwarnings('ignore')\n",
    "\n",
    "import matplotlib.pyplot as plt\n",
    "import seaborn as sns\n",
    "from sklearn.metrics import (classification_report, confusion_matrix, roc_auc_score)\n",
    "%matplotlib inline\n",
    "%config InlineBackend.figure_format = 'retina'\n",
    "\n",
    "report = classification_report(y_test, y_pred)\n",
    "print(report)"
   ]
  },
  {
   "cell_type": "code",
   "execution_count": 37,
   "metadata": {},
   "outputs": [
    {
     "data": {
      "image/png": "[encoded data removed]",
      "text/plain": [
       "<Figure size 360x360 with 2 Axes>"
      ]
     },
     "metadata": {
      "image/png": {
       "height": 331,
       "width": 327
      },
      "needs_background": "light"
     },
     "output_type": "display_data"
    }
   ],
   "source": [
    "def plot_cm(labels, predictions, p=0.5):\n",
    "    cm = confusion_matrix(labels, predictions)\n",
    "    plt.figure(figsize=(5, 5))\n",
    "    sns.heatmap(cm, annot=True, fmt=\"d\")\n",
    "    plt.title(\"Confusion matrix (non-normalized))\")\n",
    "    plt.ylabel(\"Actual label\")\n",
    "    plt.xlabel(\"Predicted label\")\n",
    "\n",
    "plot_cm(y_test, y_pred)"
   ]
  },
  {
   "cell_type": "code",
   "execution_count": null,
   "metadata": {},
   "outputs": [],
   "source": []
  }
 ],
 "metadata": {
  "kernelspec": {
   "display_name": "alert",
   "language": "python",
   "name": "alert"
  },
  "language_info": {
   "codemirror_mode": {
    "name": "ipython",
    "version": 3
   },
   "file_extension": ".py",
   "mimetype": "text/x-python",
   "name": "python",
   "nbconvert_exporter": "python",
   "pygments_lexer": "ipython3",
   "version": "3.7.1"
  }
 },
 "nbformat": 4,
 "nbformat_minor": 2
}
