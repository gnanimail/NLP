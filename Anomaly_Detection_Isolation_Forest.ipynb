{
 "cells": [
  {
   "cell_type": "code",
   "execution_count": 1,
   "id": "f33979e7",
   "metadata": {},
   "outputs": [],
   "source": [
    "import math \n",
    "import numpy as np \n",
    "import pandas as pd \n",
    "import matplotlib.pyplot as plt\n",
    "import seaborn as sns\n",
    "from sklearn.ensemble import IsolationForest\n",
    "from sklearn.model_selection import train_test_split, GridSearchCV\n",
    "from sklearn.neighbors import LocalOutlierFactor, KNeighborsClassifier\n",
    "from sklearn.metrics import make_scorer, f1_score, confusion_matrix, classification_report, accuracy_score\n",
    "from sklearn.metrics import precision_recall_fscore_support as score\n",
    "\n",
    "import warnings\n",
    "warnings.filterwarnings(\"ignore\")"
   ]
  },
  {
   "cell_type": "code",
   "execution_count": 2,
   "id": "53968ba7",
   "metadata": {},
   "outputs": [],
   "source": [
    "# load credit card transation data\n",
    "path = 'C:/Projects/NLP/Data/'\n",
    "credit_card = pd.read_csv(f'{path}creditcard.csv')"
   ]
  },
  {
   "cell_type": "code",
   "execution_count": 3,
   "id": "ab876adb",
   "metadata": {},
   "outputs": [
    {
     "data": {
      "text/html": [
       "<div>\n",
       "<style scoped>\n",
       "    .dataframe tbody tr th:only-of-type {\n",
       "        vertical-align: middle;\n",
       "    }\n",
       "\n",
       "    .dataframe tbody tr th {\n",
       "        vertical-align: top;\n",
       "    }\n",
       "\n",
       "    .dataframe thead th {\n",
       "        text-align: right;\n",
       "    }\n",
       "</style>\n",
       "<table border=\"1\" class=\"dataframe\">\n",
       "  <thead>\n",
       "    <tr style=\"text-align: right;\">\n",
       "      <th></th>\n",
       "      <th>Time</th>\n",
       "      <th>V1</th>\n",
       "      <th>V2</th>\n",
       "      <th>V3</th>\n",
       "      <th>V4</th>\n",
       "      <th>V5</th>\n",
       "      <th>V6</th>\n",
       "      <th>V7</th>\n",
       "      <th>V8</th>\n",
       "      <th>V9</th>\n",
       "      <th>...</th>\n",
       "      <th>V21</th>\n",
       "      <th>V22</th>\n",
       "      <th>V23</th>\n",
       "      <th>V24</th>\n",
       "      <th>V25</th>\n",
       "      <th>V26</th>\n",
       "      <th>V27</th>\n",
       "      <th>V28</th>\n",
       "      <th>Amount</th>\n",
       "      <th>Class</th>\n",
       "    </tr>\n",
       "  </thead>\n",
       "  <tbody>\n",
       "    <tr>\n",
       "      <th>0</th>\n",
       "      <td>0.0</td>\n",
       "      <td>-1.359807</td>\n",
       "      <td>-0.072781</td>\n",
       "      <td>2.536347</td>\n",
       "      <td>1.378155</td>\n",
       "      <td>-0.338321</td>\n",
       "      <td>0.462388</td>\n",
       "      <td>0.239599</td>\n",
       "      <td>0.098698</td>\n",
       "      <td>0.363787</td>\n",
       "      <td>...</td>\n",
       "      <td>-0.018307</td>\n",
       "      <td>0.277838</td>\n",
       "      <td>-0.110474</td>\n",
       "      <td>0.066928</td>\n",
       "      <td>0.128539</td>\n",
       "      <td>-0.189115</td>\n",
       "      <td>0.133558</td>\n",
       "      <td>-0.021053</td>\n",
       "      <td>149.62</td>\n",
       "      <td>0</td>\n",
       "    </tr>\n",
       "    <tr>\n",
       "      <th>1</th>\n",
       "      <td>0.0</td>\n",
       "      <td>1.191857</td>\n",
       "      <td>0.266151</td>\n",
       "      <td>0.166480</td>\n",
       "      <td>0.448154</td>\n",
       "      <td>0.060018</td>\n",
       "      <td>-0.082361</td>\n",
       "      <td>-0.078803</td>\n",
       "      <td>0.085102</td>\n",
       "      <td>-0.255425</td>\n",
       "      <td>...</td>\n",
       "      <td>-0.225775</td>\n",
       "      <td>-0.638672</td>\n",
       "      <td>0.101288</td>\n",
       "      <td>-0.339846</td>\n",
       "      <td>0.167170</td>\n",
       "      <td>0.125895</td>\n",
       "      <td>-0.008983</td>\n",
       "      <td>0.014724</td>\n",
       "      <td>2.69</td>\n",
       "      <td>0</td>\n",
       "    </tr>\n",
       "    <tr>\n",
       "      <th>2</th>\n",
       "      <td>1.0</td>\n",
       "      <td>-1.358354</td>\n",
       "      <td>-1.340163</td>\n",
       "      <td>1.773209</td>\n",
       "      <td>0.379780</td>\n",
       "      <td>-0.503198</td>\n",
       "      <td>1.800499</td>\n",
       "      <td>0.791461</td>\n",
       "      <td>0.247676</td>\n",
       "      <td>-1.514654</td>\n",
       "      <td>...</td>\n",
       "      <td>0.247998</td>\n",
       "      <td>0.771679</td>\n",
       "      <td>0.909412</td>\n",
       "      <td>-0.689281</td>\n",
       "      <td>-0.327642</td>\n",
       "      <td>-0.139097</td>\n",
       "      <td>-0.055353</td>\n",
       "      <td>-0.059752</td>\n",
       "      <td>378.66</td>\n",
       "      <td>0</td>\n",
       "    </tr>\n",
       "    <tr>\n",
       "      <th>3</th>\n",
       "      <td>1.0</td>\n",
       "      <td>-0.966272</td>\n",
       "      <td>-0.185226</td>\n",
       "      <td>1.792993</td>\n",
       "      <td>-0.863291</td>\n",
       "      <td>-0.010309</td>\n",
       "      <td>1.247203</td>\n",
       "      <td>0.237609</td>\n",
       "      <td>0.377436</td>\n",
       "      <td>-1.387024</td>\n",
       "      <td>...</td>\n",
       "      <td>-0.108300</td>\n",
       "      <td>0.005274</td>\n",
       "      <td>-0.190321</td>\n",
       "      <td>-1.175575</td>\n",
       "      <td>0.647376</td>\n",
       "      <td>-0.221929</td>\n",
       "      <td>0.062723</td>\n",
       "      <td>0.061458</td>\n",
       "      <td>123.50</td>\n",
       "      <td>0</td>\n",
       "    </tr>\n",
       "    <tr>\n",
       "      <th>4</th>\n",
       "      <td>2.0</td>\n",
       "      <td>-1.158233</td>\n",
       "      <td>0.877737</td>\n",
       "      <td>1.548718</td>\n",
       "      <td>0.403034</td>\n",
       "      <td>-0.407193</td>\n",
       "      <td>0.095921</td>\n",
       "      <td>0.592941</td>\n",
       "      <td>-0.270533</td>\n",
       "      <td>0.817739</td>\n",
       "      <td>...</td>\n",
       "      <td>-0.009431</td>\n",
       "      <td>0.798278</td>\n",
       "      <td>-0.137458</td>\n",
       "      <td>0.141267</td>\n",
       "      <td>-0.206010</td>\n",
       "      <td>0.502292</td>\n",
       "      <td>0.219422</td>\n",
       "      <td>0.215153</td>\n",
       "      <td>69.99</td>\n",
       "      <td>0</td>\n",
       "    </tr>\n",
       "  </tbody>\n",
       "</table>\n",
       "<p>5 rows × 31 columns</p>\n",
       "</div>"
      ],
      "text/plain": [
       "   Time        V1        V2        V3        V4        V5        V6        V7  \\\n",
       "0   0.0 -1.359807 -0.072781  2.536347  1.378155 -0.338321  0.462388  0.239599   \n",
       "1   0.0  1.191857  0.266151  0.166480  0.448154  0.060018 -0.082361 -0.078803   \n",
       "2   1.0 -1.358354 -1.340163  1.773209  0.379780 -0.503198  1.800499  0.791461   \n",
       "3   1.0 -0.966272 -0.185226  1.792993 -0.863291 -0.010309  1.247203  0.237609   \n",
       "4   2.0 -1.158233  0.877737  1.548718  0.403034 -0.407193  0.095921  0.592941   \n",
       "\n",
       "         V8        V9  ...       V21       V22       V23       V24       V25  \\\n",
       "0  0.098698  0.363787  ... -0.018307  0.277838 -0.110474  0.066928  0.128539   \n",
       "1  0.085102 -0.255425  ... -0.225775 -0.638672  0.101288 -0.339846  0.167170   \n",
       "2  0.247676 -1.514654  ...  0.247998  0.771679  0.909412 -0.689281 -0.327642   \n",
       "3  0.377436 -1.387024  ... -0.108300  0.005274 -0.190321 -1.175575  0.647376   \n",
       "4 -0.270533  0.817739  ... -0.009431  0.798278 -0.137458  0.141267 -0.206010   \n",
       "\n",
       "        V26       V27       V28  Amount  Class  \n",
       "0 -0.189115  0.133558 -0.021053  149.62      0  \n",
       "1  0.125895 -0.008983  0.014724    2.69      0  \n",
       "2 -0.139097 -0.055353 -0.059752  378.66      0  \n",
       "3 -0.221929  0.062723  0.061458  123.50      0  \n",
       "4  0.502292  0.219422  0.215153   69.99      0  \n",
       "\n",
       "[5 rows x 31 columns]"
      ]
     },
     "execution_count": 3,
     "metadata": {},
     "output_type": "execute_result"
    }
   ],
   "source": [
    "credit_card.head(5)"
   ]
  },
  {
   "cell_type": "code",
   "execution_count": 4,
   "id": "6aaee359",
   "metadata": {},
   "outputs": [],
   "source": [
    "# Plot the balance of class labels\n",
    "credit_card_base = credit_card.copy()"
   ]
  },
  {
   "cell_type": "code",
   "execution_count": 5,
   "id": "ccf45512",
   "metadata": {},
   "outputs": [
    {
     "name": "stdout",
     "output_type": "stream",
     "text": [
      "0 = nominal transactions, 1 = fraud\n"
     ]
    },
    {
     "data": {
      "image/png": "[encoded data removed]",
      "text/plain": [
       "<Figure size 432x288 with 1 Axes>"
      ]
     },
     "metadata": {
      "needs_background": "light"
     },
     "output_type": "display_data"
    }
   ],
   "source": [
    "print('0 = nominal transactions, 1 = fraud')\n",
    "value_counts = credit_card_base['Class'].value_counts()\n",
    "ax = sns.countplot(x=\"Class\", data=credit_card_base, palette='muted')\n",
    "for p in ax.patches:\n",
    "       ax.annotate('{:.0f}'.format(p.get_height()), (p.get_x()+0.25, p.get_height()+0.01))\n",
    "\n",
    "plt.show()"
   ]
  },
  {
   "cell_type": "code",
   "execution_count": 6,
   "id": "46e10abe",
   "metadata": {},
   "outputs": [
    {
     "data": {
      "image/png": "[encoded data removed]",
      "text/plain": [
       "<Figure size 1440x288 with 2 Axes>"
      ]
     },
     "metadata": {
      "needs_background": "light"
     },
     "output_type": "display_data"
    }
   ],
   "source": [
    "# Plot istribution of the Time variable, which contains transaction data for two days\n",
    "plt.figure(figsize=(20,4))\n",
    "ax1 = sns.histplot(data=credit_card_base[credit_card_base['Class'] == 0], x='Time', kde=True)\n",
    "ax2 = plt.twinx()\n",
    "ax2 = sns.histplot(data=credit_card_base[credit_card_base['Class'] == 1], x='Time', kde=True, ax=ax2, color='r')\n",
    "\n",
    "plt.show()\n"
   ]
  },
  {
   "cell_type": "code",
   "execution_count": 7,
   "id": "1b4fad1b",
   "metadata": {},
   "outputs": [
    {
     "data": {
      "text/plain": [
       "Text(0.5, 0.98, 'Transaction Amount over Time split by Class')"
      ]
     },
     "execution_count": 7,
     "metadata": {},
     "output_type": "execute_result"
    },
    {
     "data": {
      "image/png": "[encoded data removed]",
      "text/plain": [
       "<Figure size 762.375x360 with 2 Axes>"
      ]
     },
     "metadata": {
      "needs_background": "light"
     },
     "output_type": "display_data"
    }
   ],
   "source": [
    "# Plot time against amount\n",
    "x = credit_card_base['Time']\n",
    "y = credit_card_base['Amount']\n",
    "rp = sns.relplot(data=credit_card_base, x=x, y=y, col=\"Class\", kind=\"scatter\", hue=\"Class\")\n",
    "rp.fig.subplots_adjust(top=0.9)\n",
    "rp.fig.suptitle('Transaction Amount over Time split by Class')"
   ]
  },
  {
   "cell_type": "code",
   "execution_count": 8,
   "id": "2c228a46",
   "metadata": {},
   "outputs": [],
   "source": [
    "# Separate the classes from the train set\n",
    "df_classes = credit_card_base['Class']\n",
    "df_train = credit_card_base.drop(['Class'], axis=1)\n",
    "\n",
    "# split the data into train and test \n",
    "X_train, X_test, y_train, y_test = train_test_split(df_train, df_classes, test_size=0.30, random_state=42)"
   ]
  },
  {
   "cell_type": "markdown",
   "id": "d7805122",
   "metadata": {},
   "source": [
    "### Isolation Forest"
   ]
  },
  {
   "cell_type": "code",
   "execution_count": 9,
   "id": "97552019",
   "metadata": {},
   "outputs": [],
   "source": [
    "# Define the parameter grid\n",
    "n_estimators=[50, 100]\n",
    "max_features=[1.0, 5, 10]\n",
    "bootstrap=[True]\n",
    "\n",
    "param_grid = dict(n_estimators=n_estimators, max_features=max_features, bootstrap=bootstrap)"
   ]
  },
  {
   "cell_type": "code",
   "execution_count": 10,
   "id": "ac2500b8",
   "metadata": {},
   "outputs": [
    {
     "data": {
      "text/plain": [
       "{'n_estimators': [50, 100], 'max_features': [1.0, 5, 10], 'bootstrap': [True]}"
      ]
     },
     "execution_count": 10,
     "metadata": {},
     "output_type": "execute_result"
    }
   ],
   "source": [
    "param_grid"
   ]
  },
  {
   "cell_type": "code",
   "execution_count": 11,
   "id": "5c0c8e68",
   "metadata": {},
   "outputs": [],
   "source": [
    "value_counts = credit_card_base['Class'].value_counts()\n",
    "contamination_rate = value_counts[1]/value_counts[0]"
   ]
  },
  {
   "cell_type": "code",
   "execution_count": 12,
   "id": "aa5776ef",
   "metadata": {},
   "outputs": [
    {
     "data": {
      "text/plain": [
       "0.0017304750013189597"
      ]
     },
     "execution_count": 12,
     "metadata": {},
     "output_type": "execute_result"
    }
   ],
   "source": [
    "contamination_rate"
   ]
  },
  {
   "cell_type": "code",
   "execution_count": 13,
   "id": "f6c9bc00",
   "metadata": {},
   "outputs": [],
   "source": [
    "# Build the gridsearch\n",
    "model_isf = IsolationForest(n_estimators=n_estimators, \n",
    "                            max_features=max_features, \n",
    "                            contamination=contamination_rate, \n",
    "                            bootstrap=False, \n",
    "                            n_jobs=-1)"
   ]
  },
  {
   "cell_type": "code",
   "execution_count": 14,
   "id": "a9101656",
   "metadata": {},
   "outputs": [],
   "source": [
    "# Define an f1_scorer\n",
    "f1sc = make_scorer(f1_score, average='macro')"
   ]
  },
  {
   "cell_type": "code",
   "execution_count": 15,
   "id": "c7ae1f78",
   "metadata": {},
   "outputs": [],
   "source": [
    "grid = GridSearchCV(estimator=model_isf, param_grid=param_grid, cv = 3, scoring=f1sc)\n",
    "\n",
    "grid_results = grid.fit(X=X_train, y=y_train)"
   ]
  },
  {
   "cell_type": "code",
   "execution_count": 16,
   "id": "ec61b09b",
   "metadata": {},
   "outputs": [
    {
     "name": "stdout",
     "output_type": "stream",
     "text": [
      "Best: [0.00089946 0.00090953 0.000846   0.00090273 0.00088277 0.00091956], using {'bootstrap': True, 'max_features': 10, 'n_estimators': 100}\n"
     ]
    }
   ],
   "source": [
    "# Summarize the results in a readable format\n",
    "print(\"Best: {0}, using {1}\".format(grid_results.cv_results_['mean_test_score'], grid_results.best_params_))"
   ]
  },
  {
   "cell_type": "code",
   "execution_count": 17,
   "id": "af6df127",
   "metadata": {},
   "outputs": [
    {
     "data": {
      "text/html": [
       "<div>\n",
       "<style scoped>\n",
       "    .dataframe tbody tr th:only-of-type {\n",
       "        vertical-align: middle;\n",
       "    }\n",
       "\n",
       "    .dataframe tbody tr th {\n",
       "        vertical-align: top;\n",
       "    }\n",
       "\n",
       "    .dataframe thead th {\n",
       "        text-align: right;\n",
       "    }\n",
       "</style>\n",
       "<table border=\"1\" class=\"dataframe\">\n",
       "  <thead>\n",
       "    <tr style=\"text-align: right;\">\n",
       "      <th></th>\n",
       "      <th>mean_fit_time</th>\n",
       "      <th>std_fit_time</th>\n",
       "      <th>mean_score_time</th>\n",
       "      <th>std_score_time</th>\n",
       "      <th>param_bootstrap</th>\n",
       "      <th>param_max_features</th>\n",
       "      <th>param_n_estimators</th>\n",
       "      <th>params</th>\n",
       "      <th>split0_test_score</th>\n",
       "      <th>split1_test_score</th>\n",
       "      <th>split2_test_score</th>\n",
       "      <th>mean_test_score</th>\n",
       "      <th>std_test_score</th>\n",
       "      <th>rank_test_score</th>\n",
       "    </tr>\n",
       "  </thead>\n",
       "  <tbody>\n",
       "    <tr>\n",
       "      <th>0</th>\n",
       "      <td>7.317015</td>\n",
       "      <td>5.061244</td>\n",
       "      <td>1.476974</td>\n",
       "      <td>0.034365</td>\n",
       "      <td>True</td>\n",
       "      <td>1.0</td>\n",
       "      <td>50</td>\n",
       "      <td>{'bootstrap': True, 'max_features': 1.0, 'n_es...</td>\n",
       "      <td>0.000893</td>\n",
       "      <td>0.000933</td>\n",
       "      <td>0.000873</td>\n",
       "      <td>0.000899</td>\n",
       "      <td>0.000025</td>\n",
       "      <td>4</td>\n",
       "    </tr>\n",
       "    <tr>\n",
       "      <th>1</th>\n",
       "      <td>6.967961</td>\n",
       "      <td>0.063783</td>\n",
       "      <td>2.910349</td>\n",
       "      <td>0.018661</td>\n",
       "      <td>True</td>\n",
       "      <td>1.0</td>\n",
       "      <td>100</td>\n",
       "      <td>{'bootstrap': True, 'max_features': 1.0, 'n_es...</td>\n",
       "      <td>0.000853</td>\n",
       "      <td>0.000953</td>\n",
       "      <td>0.000923</td>\n",
       "      <td>0.000910</td>\n",
       "      <td>0.000042</td>\n",
       "      <td>2</td>\n",
       "    </tr>\n",
       "    <tr>\n",
       "      <th>2</th>\n",
       "      <td>2.638333</td>\n",
       "      <td>0.070275</td>\n",
       "      <td>1.019865</td>\n",
       "      <td>0.002418</td>\n",
       "      <td>True</td>\n",
       "      <td>5</td>\n",
       "      <td>50</td>\n",
       "      <td>{'bootstrap': True, 'max_features': 5, 'n_esti...</td>\n",
       "      <td>0.000813</td>\n",
       "      <td>0.000843</td>\n",
       "      <td>0.000883</td>\n",
       "      <td>0.000846</td>\n",
       "      <td>0.000029</td>\n",
       "      <td>6</td>\n",
       "    </tr>\n",
       "    <tr>\n",
       "      <th>3</th>\n",
       "      <td>4.864497</td>\n",
       "      <td>0.073191</td>\n",
       "      <td>2.020131</td>\n",
       "      <td>0.043469</td>\n",
       "      <td>True</td>\n",
       "      <td>5</td>\n",
       "      <td>100</td>\n",
       "      <td>{'bootstrap': True, 'max_features': 5, 'n_esti...</td>\n",
       "      <td>0.000823</td>\n",
       "      <td>0.000903</td>\n",
       "      <td>0.000983</td>\n",
       "      <td>0.000903</td>\n",
       "      <td>0.000065</td>\n",
       "      <td>3</td>\n",
       "    </tr>\n",
       "    <tr>\n",
       "      <th>4</th>\n",
       "      <td>2.958886</td>\n",
       "      <td>0.114521</td>\n",
       "      <td>1.154352</td>\n",
       "      <td>0.010400</td>\n",
       "      <td>True</td>\n",
       "      <td>10</td>\n",
       "      <td>50</td>\n",
       "      <td>{'bootstrap': True, 'max_features': 10, 'n_est...</td>\n",
       "      <td>0.000833</td>\n",
       "      <td>0.000963</td>\n",
       "      <td>0.000853</td>\n",
       "      <td>0.000883</td>\n",
       "      <td>0.000057</td>\n",
       "      <td>5</td>\n",
       "    </tr>\n",
       "    <tr>\n",
       "      <th>5</th>\n",
       "      <td>5.315652</td>\n",
       "      <td>0.037648</td>\n",
       "      <td>2.273563</td>\n",
       "      <td>0.034348</td>\n",
       "      <td>True</td>\n",
       "      <td>10</td>\n",
       "      <td>100</td>\n",
       "      <td>{'bootstrap': True, 'max_features': 10, 'n_est...</td>\n",
       "      <td>0.000863</td>\n",
       "      <td>0.000923</td>\n",
       "      <td>0.000973</td>\n",
       "      <td>0.000920</td>\n",
       "      <td>0.000045</td>\n",
       "      <td>1</td>\n",
       "    </tr>\n",
       "  </tbody>\n",
       "</table>\n",
       "</div>"
      ],
      "text/plain": [
       "   mean_fit_time  std_fit_time  mean_score_time  std_score_time  \\\n",
       "0       7.317015      5.061244         1.476974        0.034365   \n",
       "1       6.967961      0.063783         2.910349        0.018661   \n",
       "2       2.638333      0.070275         1.019865        0.002418   \n",
       "3       4.864497      0.073191         2.020131        0.043469   \n",
       "4       2.958886      0.114521         1.154352        0.010400   \n",
       "5       5.315652      0.037648         2.273563        0.034348   \n",
       "\n",
       "  param_bootstrap param_max_features param_n_estimators  \\\n",
       "0            True                1.0                 50   \n",
       "1            True                1.0                100   \n",
       "2            True                  5                 50   \n",
       "3            True                  5                100   \n",
       "4            True                 10                 50   \n",
       "5            True                 10                100   \n",
       "\n",
       "                                              params  split0_test_score  \\\n",
       "0  {'bootstrap': True, 'max_features': 1.0, 'n_es...           0.000893   \n",
       "1  {'bootstrap': True, 'max_features': 1.0, 'n_es...           0.000853   \n",
       "2  {'bootstrap': True, 'max_features': 5, 'n_esti...           0.000813   \n",
       "3  {'bootstrap': True, 'max_features': 5, 'n_esti...           0.000823   \n",
       "4  {'bootstrap': True, 'max_features': 10, 'n_est...           0.000833   \n",
       "5  {'bootstrap': True, 'max_features': 10, 'n_est...           0.000863   \n",
       "\n",
       "   split1_test_score  split2_test_score  mean_test_score  std_test_score  \\\n",
       "0           0.000933           0.000873         0.000899        0.000025   \n",
       "1           0.000953           0.000923         0.000910        0.000042   \n",
       "2           0.000843           0.000883         0.000846        0.000029   \n",
       "3           0.000903           0.000983         0.000903        0.000065   \n",
       "4           0.000963           0.000853         0.000883        0.000057   \n",
       "5           0.000923           0.000973         0.000920        0.000045   \n",
       "\n",
       "   rank_test_score  \n",
       "0                4  \n",
       "1                2  \n",
       "2                6  \n",
       "3                3  \n",
       "4                5  \n",
       "5                1  "
      ]
     },
     "execution_count": 17,
     "metadata": {},
     "output_type": "execute_result"
    }
   ],
   "source": [
    "results_df = pd.DataFrame(grid_results.cv_results_)\n",
    "\n",
    "results_df"
   ]
  },
  {
   "cell_type": "code",
   "execution_count": 18,
   "id": "f225577e",
   "metadata": {
    "scrolled": true
   },
   "outputs": [
    {
     "data": {
      "text/plain": [
       "IsolationForest(bootstrap=True, contamination=0.0017304750013189597,\n",
       "                max_features=10, n_jobs=-1)"
      ]
     },
     "execution_count": 18,
     "metadata": {},
     "output_type": "execute_result"
    }
   ],
   "source": [
    "# Evaluate model performance\n",
    "model_name = 'Isolation Forest (tuned)'\n",
    "# get the bet model parameters\n",
    "best_model = grid_results.best_estimator_\n",
    "best_model"
   ]
  },
  {
   "cell_type": "code",
   "execution_count": 19,
   "id": "1b3082ea",
   "metadata": {},
   "outputs": [],
   "source": [
    "def measure_performance(model, X_test, y_true, map_labels):\n",
    "    # predict on testset\n",
    "    df_pred_test = X_test.copy()\n",
    "    df_pred_test['Pred'] = model.predict(X_test)\n",
    "\n",
    "    if map_labels:\n",
    "        df_pred_test['Pred'] = df_pred_test['Pred'].map({1: 0, -1: 1})\n",
    "\n",
    "    # measure performance\n",
    "    y_pred = df_pred_test['Pred'] \n",
    "    matrix = confusion_matrix(y_pred, y_true)\n",
    "\n",
    "    sns.heatmap(pd.DataFrame(matrix, columns = ['Actual', 'Predicted']),\n",
    "                                     xticklabels=['Regular [0]', 'Fraud [1]'], \n",
    "                                     yticklabels=['Regular [0]', 'Fraud [1]'], \n",
    "                                     annot=True, fmt=\"d\", linewidths=.5, cmap=\"YlGnBu\")\n",
    "    plt.ylabel('Predicted')\n",
    "    plt.xlabel('Actual')\n",
    "    \n",
    "    print(classification_report(y_pred, y_true))\n",
    "    \n",
    "    model_score = score(y_pred, y_true, average='macro')\n",
    "    print(f'f1_score: {np.round(model_score[2]*100, 2)}%')\n",
    "\n",
    "    return model_score"
   ]
  },
  {
   "cell_type": "code",
   "execution_count": 20,
   "id": "cbc17364",
   "metadata": {},
   "outputs": [
    {
     "name": "stdout",
     "output_type": "stream",
     "text": [
      "              precision    recall  f1-score   support\n",
      "\n",
      "           0       1.00      1.00      1.00     85294\n",
      "           1       0.36      0.33      0.34       149\n",
      "\n",
      "    accuracy                           1.00     85443\n",
      "   macro avg       0.68      0.66      0.67     85443\n",
      "weighted avg       1.00      1.00      1.00     85443\n",
      "\n",
      "f1_score: 67.14%\n"
     ]
    },
    {
     "data": {
      "image/png": "[encoded data removed]",
      "text/plain": [
       "<Figure size 432x288 with 2 Axes>"
      ]
     },
     "metadata": {
      "needs_background": "light"
     },
     "output_type": "display_data"
    }
   ],
   "source": [
    "map_labels = True # if True - maps 1 to 0 and -1 to 1 - not required for scikit-learn knn models\n",
    "model_score = measure_performance(best_model, X_test, y_test, map_labels)"
   ]
  },
  {
   "cell_type": "code",
   "execution_count": 21,
   "id": "f28ea0c9",
   "metadata": {},
   "outputs": [
    {
     "data": {
      "text/plain": [
       "(0.6795609404510629, 0.663919529497893, 0.671381762123317, None)"
      ]
     },
     "execution_count": 21,
     "metadata": {},
     "output_type": "execute_result"
    }
   ],
   "source": [
    "model_score"
   ]
  },
  {
   "cell_type": "code",
   "execution_count": 22,
   "id": "528134bc",
   "metadata": {},
   "outputs": [],
   "source": [
    "performance_df = pd.DataFrame().append({'model_name':model_name, \n",
    "                                        'f1_score': model_score[0], \n",
    "                                        'precision': model_score[1], \n",
    "                                        'recall': model_score[2]}, ignore_index=True)"
   ]
  },
  {
   "cell_type": "code",
   "execution_count": null,
   "id": "0f50f87b",
   "metadata": {},
   "outputs": [],
   "source": []
  },
  {
   "cell_type": "markdown",
   "id": "ff61b500",
   "metadata": {},
   "source": [
    "### KNN"
   ]
  },
  {
   "cell_type": "code",
   "execution_count": 23,
   "id": "374ad07e",
   "metadata": {},
   "outputs": [],
   "source": [
    "# Define hypertuning parameters\n",
    "n_neighbors=[1, 2, 3, 4, 5]\n",
    "param_grid = dict(n_neighbors=n_neighbors)"
   ]
  },
  {
   "cell_type": "code",
   "execution_count": 24,
   "id": "da6ed052",
   "metadata": {},
   "outputs": [],
   "source": [
    "# Build the gridsearch\n",
    "model_knn = KNeighborsClassifier(n_neighbors=n_neighbors)\n",
    "grid = GridSearchCV(estimator=model_knn, param_grid=param_grid, cv = 5, scoring=f1sc)\n",
    "grid_results = grid.fit(X=X_train, y=y_train)"
   ]
  },
  {
   "cell_type": "code",
   "execution_count": 25,
   "id": "f53ab76d",
   "metadata": {},
   "outputs": [
    {
     "name": "stdout",
     "output_type": "stream",
     "text": [
      "Best: [0.61083219 0.55718259 0.55912644 0.52670328 0.5317127 ], using {'n_neighbors': 1}\n"
     ]
    },
    {
     "data": {
      "text/html": [
       "<div>\n",
       "<style scoped>\n",
       "    .dataframe tbody tr th:only-of-type {\n",
       "        vertical-align: middle;\n",
       "    }\n",
       "\n",
       "    .dataframe tbody tr th {\n",
       "        vertical-align: top;\n",
       "    }\n",
       "\n",
       "    .dataframe thead th {\n",
       "        text-align: right;\n",
       "    }\n",
       "</style>\n",
       "<table border=\"1\" class=\"dataframe\">\n",
       "  <thead>\n",
       "    <tr style=\"text-align: right;\">\n",
       "      <th></th>\n",
       "      <th>mean_fit_time</th>\n",
       "      <th>std_fit_time</th>\n",
       "      <th>mean_score_time</th>\n",
       "      <th>std_score_time</th>\n",
       "      <th>param_n_neighbors</th>\n",
       "      <th>params</th>\n",
       "      <th>split0_test_score</th>\n",
       "      <th>split1_test_score</th>\n",
       "      <th>split2_test_score</th>\n",
       "      <th>split3_test_score</th>\n",
       "      <th>split4_test_score</th>\n",
       "      <th>mean_test_score</th>\n",
       "      <th>std_test_score</th>\n",
       "      <th>rank_test_score</th>\n",
       "    </tr>\n",
       "  </thead>\n",
       "  <tbody>\n",
       "    <tr>\n",
       "      <th>0</th>\n",
       "      <td>0.041118</td>\n",
       "      <td>0.008080</td>\n",
       "      <td>81.319043</td>\n",
       "      <td>0.531133</td>\n",
       "      <td>1</td>\n",
       "      <td>{'n_neighbors': 1}</td>\n",
       "      <td>0.629535</td>\n",
       "      <td>0.611768</td>\n",
       "      <td>0.583553</td>\n",
       "      <td>0.585538</td>\n",
       "      <td>0.643766</td>\n",
       "      <td>0.610832</td>\n",
       "      <td>0.023746</td>\n",
       "      <td>1</td>\n",
       "    </tr>\n",
       "    <tr>\n",
       "      <th>1</th>\n",
       "      <td>0.047889</td>\n",
       "      <td>0.004651</td>\n",
       "      <td>92.046819</td>\n",
       "      <td>1.002642</td>\n",
       "      <td>2</td>\n",
       "      <td>{'n_neighbors': 2}</td>\n",
       "      <td>0.589342</td>\n",
       "      <td>0.540114</td>\n",
       "      <td>0.565375</td>\n",
       "      <td>0.539567</td>\n",
       "      <td>0.551515</td>\n",
       "      <td>0.557183</td>\n",
       "      <td>0.018629</td>\n",
       "      <td>3</td>\n",
       "    </tr>\n",
       "    <tr>\n",
       "      <th>2</th>\n",
       "      <td>0.047619</td>\n",
       "      <td>0.003681</td>\n",
       "      <td>99.287034</td>\n",
       "      <td>0.571852</td>\n",
       "      <td>3</td>\n",
       "      <td>{'n_neighbors': 3}</td>\n",
       "      <td>0.589342</td>\n",
       "      <td>0.552205</td>\n",
       "      <td>0.563676</td>\n",
       "      <td>0.539567</td>\n",
       "      <td>0.550843</td>\n",
       "      <td>0.559126</td>\n",
       "      <td>0.016928</td>\n",
       "      <td>2</td>\n",
       "    </tr>\n",
       "    <tr>\n",
       "      <th>3</th>\n",
       "      <td>0.045292</td>\n",
       "      <td>0.002809</td>\n",
       "      <td>146.999125</td>\n",
       "      <td>7.520004</td>\n",
       "      <td>4</td>\n",
       "      <td>{'n_neighbors': 4}</td>\n",
       "      <td>0.526964</td>\n",
       "      <td>0.526964</td>\n",
       "      <td>0.540114</td>\n",
       "      <td>0.513253</td>\n",
       "      <td>0.526221</td>\n",
       "      <td>0.526703</td>\n",
       "      <td>0.008498</td>\n",
       "      <td>5</td>\n",
       "    </tr>\n",
       "    <tr>\n",
       "      <th>4</th>\n",
       "      <td>0.047248</td>\n",
       "      <td>0.000746</td>\n",
       "      <td>146.828243</td>\n",
       "      <td>7.930471</td>\n",
       "      <td>5</td>\n",
       "      <td>{'n_neighbors': 5}</td>\n",
       "      <td>0.539567</td>\n",
       "      <td>0.540114</td>\n",
       "      <td>0.540114</td>\n",
       "      <td>0.513253</td>\n",
       "      <td>0.525516</td>\n",
       "      <td>0.531713</td>\n",
       "      <td>0.010789</td>\n",
       "      <td>4</td>\n",
       "    </tr>\n",
       "  </tbody>\n",
       "</table>\n",
       "</div>"
      ],
      "text/plain": [
       "   mean_fit_time  std_fit_time  mean_score_time  std_score_time  \\\n",
       "0       0.041118      0.008080        81.319043        0.531133   \n",
       "1       0.047889      0.004651        92.046819        1.002642   \n",
       "2       0.047619      0.003681        99.287034        0.571852   \n",
       "3       0.045292      0.002809       146.999125        7.520004   \n",
       "4       0.047248      0.000746       146.828243        7.930471   \n",
       "\n",
       "  param_n_neighbors              params  split0_test_score  split1_test_score  \\\n",
       "0                 1  {'n_neighbors': 1}           0.629535           0.611768   \n",
       "1                 2  {'n_neighbors': 2}           0.589342           0.540114   \n",
       "2                 3  {'n_neighbors': 3}           0.589342           0.552205   \n",
       "3                 4  {'n_neighbors': 4}           0.526964           0.526964   \n",
       "4                 5  {'n_neighbors': 5}           0.539567           0.540114   \n",
       "\n",
       "   split2_test_score  split3_test_score  split4_test_score  mean_test_score  \\\n",
       "0           0.583553           0.585538           0.643766         0.610832   \n",
       "1           0.565375           0.539567           0.551515         0.557183   \n",
       "2           0.563676           0.539567           0.550843         0.559126   \n",
       "3           0.540114           0.513253           0.526221         0.526703   \n",
       "4           0.540114           0.513253           0.525516         0.531713   \n",
       "\n",
       "   std_test_score  rank_test_score  \n",
       "0        0.023746                1  \n",
       "1        0.018629                3  \n",
       "2        0.016928                2  \n",
       "3        0.008498                5  \n",
       "4        0.010789                4  "
      ]
     },
     "execution_count": 25,
     "metadata": {},
     "output_type": "execute_result"
    }
   ],
   "source": [
    "# Summarize the results in a readable format\n",
    "print(\"Best: {0}, using {1}\".format(grid_results.cv_results_['mean_test_score'], grid_results.best_params_))\n",
    "results_df = pd.DataFrame(grid_results.cv_results_)\n",
    "\n",
    "results_df"
   ]
  },
  {
   "cell_type": "code",
   "execution_count": 26,
   "id": "b109be31",
   "metadata": {},
   "outputs": [],
   "source": [
    "# Evaluate model performance\n",
    "model_name = 'KNN'"
   ]
  },
  {
   "cell_type": "code",
   "execution_count": 27,
   "id": "32c5c090",
   "metadata": {},
   "outputs": [
    {
     "name": "stdout",
     "output_type": "stream",
     "text": [
      "              precision    recall  f1-score   support\n",
      "\n",
      "           0       1.00      1.00      1.00     85385\n",
      "           1       0.21      0.48      0.29        58\n",
      "\n",
      "    accuracy                           1.00     85443\n",
      "   macro avg       0.60      0.74      0.64     85443\n",
      "weighted avg       1.00      1.00      1.00     85443\n",
      "\n",
      "f1_score: 64.39%\n"
     ]
    },
    {
     "data": {
      "image/png": "[encoded data removed]",
      "text/plain": [
       "<Figure size 432x288 with 2 Axes>"
      ]
     },
     "metadata": {
      "needs_background": "light"
     },
     "output_type": "display_data"
    }
   ],
   "source": [
    "best_model = grid_results.best_estimator_\n",
    "map_labels = False # if True - maps 1 to 0 and -1 to 1 - set to False for classification models (e.g., KNN)\n",
    "model_score = measure_performance(best_model, X_test, y_test, map_labels)"
   ]
  },
  {
   "cell_type": "code",
   "execution_count": 28,
   "id": "becfaaea",
   "metadata": {},
   "outputs": [],
   "source": [
    "performance_df = performance_df.append({'model_name':model_name, \n",
    "                                        'f1_score': model_score[0], \n",
    "                                        'precision': model_score[1], \n",
    "                                        'recall': model_score[2]}, ignore_index=True)"
   ]
  },
  {
   "cell_type": "code",
   "execution_count": null,
   "id": "38d1e3c8",
   "metadata": {},
   "outputs": [],
   "source": []
  },
  {
   "cell_type": "markdown",
   "id": "2407a9cc",
   "metadata": {},
   "source": [
    "### Local Outlier Factor"
   ]
  },
  {
   "cell_type": "code",
   "execution_count": 29,
   "id": "da0565dd",
   "metadata": {},
   "outputs": [
    {
     "name": "stdout",
     "output_type": "stream",
     "text": [
      "              precision    recall  f1-score   support\n",
      "\n",
      "           0       1.00      1.00      1.00     85299\n",
      "           1       0.07      0.07      0.07       144\n",
      "\n",
      "    accuracy                           1.00     85443\n",
      "   macro avg       0.54      0.53      0.53     85443\n",
      "weighted avg       1.00      1.00      1.00     85443\n",
      "\n",
      "f1_score: 53.5%\n"
     ]
    },
    {
     "data": {
      "image/png": "[encoded data removed]",
      "text/plain": [
       "<Figure size 432x288 with 2 Axes>"
      ]
     },
     "metadata": {
      "needs_background": "light"
     },
     "output_type": "display_data"
    }
   ],
   "source": [
    "# Train a tuned local outlier factor model\n",
    "model_lof = LocalOutlierFactor(n_neighbors=3, contamination=contamination_rate, novelty=True)\n",
    "model_lof.fit(X_train)\n",
    "\n",
    "# Evaluate model performance\n",
    "model_name = 'Local Outlier Factor'\n",
    "\n",
    "map_labels = True \n",
    "model_score = measure_performance(model_lof, X_test, y_test, map_labels)"
   ]
  },
  {
   "cell_type": "code",
   "execution_count": 30,
   "id": "9d157b33",
   "metadata": {},
   "outputs": [],
   "source": [
    "performance_df = performance_df.append({'model_name':model_name, \n",
    "                                        'f1_score': model_score[0], \n",
    "                                        'precision': model_score[1], \n",
    "                                        'recall': model_score[2]}, ignore_index=True)"
   ]
  },
  {
   "cell_type": "code",
   "execution_count": null,
   "id": "bc352bd7",
   "metadata": {},
   "outputs": [],
   "source": []
  },
  {
   "cell_type": "markdown",
   "id": "0a2ce8d4",
   "metadata": {},
   "source": [
    "### Comparing Model Performance"
   ]
  },
  {
   "cell_type": "code",
   "execution_count": 31,
   "id": "9a5666c2",
   "metadata": {},
   "outputs": [
    {
     "data": {
      "text/html": [
       "<div>\n",
       "<style scoped>\n",
       "    .dataframe tbody tr th:only-of-type {\n",
       "        vertical-align: middle;\n",
       "    }\n",
       "\n",
       "    .dataframe tbody tr th {\n",
       "        vertical-align: top;\n",
       "    }\n",
       "\n",
       "    .dataframe thead th {\n",
       "        text-align: right;\n",
       "    }\n",
       "</style>\n",
       "<table border=\"1\" class=\"dataframe\">\n",
       "  <thead>\n",
       "    <tr style=\"text-align: right;\">\n",
       "      <th></th>\n",
       "      <th>model_name</th>\n",
       "      <th>f1_score</th>\n",
       "      <th>precision</th>\n",
       "      <th>recall</th>\n",
       "    </tr>\n",
       "  </thead>\n",
       "  <tbody>\n",
       "    <tr>\n",
       "      <th>0</th>\n",
       "      <td>Isolation Forest (tuned)</td>\n",
       "      <td>0.679561</td>\n",
       "      <td>0.663920</td>\n",
       "      <td>0.671382</td>\n",
       "    </tr>\n",
       "    <tr>\n",
       "      <th>1</th>\n",
       "      <td>KNN</td>\n",
       "      <td>0.602765</td>\n",
       "      <td>0.740747</td>\n",
       "      <td>0.643926</td>\n",
       "    </tr>\n",
       "    <tr>\n",
       "      <th>2</th>\n",
       "      <td>Local Outlier Factor</td>\n",
       "      <td>0.535979</td>\n",
       "      <td>0.533984</td>\n",
       "      <td>0.534952</td>\n",
       "    </tr>\n",
       "  </tbody>\n",
       "</table>\n",
       "</div>"
      ],
      "text/plain": [
       "                 model_name  f1_score  precision    recall\n",
       "0  Isolation Forest (tuned)  0.679561   0.663920  0.671382\n",
       "1                       KNN  0.602765   0.740747  0.643926\n",
       "2      Local Outlier Factor  0.535979   0.533984  0.534952"
      ]
     },
     "execution_count": 31,
     "metadata": {},
     "output_type": "execute_result"
    }
   ],
   "source": [
    "performance_df"
   ]
  },
  {
   "cell_type": "code",
   "execution_count": 32,
   "id": "604651f8",
   "metadata": {},
   "outputs": [
    {
     "data": {
      "text/plain": [
       "Text(0.5, 1.0, 'Model Outlier Detection Performance (Macro)')"
      ]
     },
     "execution_count": 32,
     "metadata": {},
     "output_type": "execute_result"
    },
    {
     "data": {
      "image/png": "[encoded data removed]",
      "text/plain": [
       "<Figure size 1152x288 with 1 Axes>"
      ]
     },
     "metadata": {
      "needs_background": "light"
     },
     "output_type": "display_data"
    }
   ],
   "source": [
    "performance_df = performance_df.sort_values('model_name')\n",
    "\n",
    "fig, ax = plt.subplots(figsize=(16, 4))\n",
    "tidy = performance_df.melt(id_vars='model_name').rename(columns=str.title)\n",
    "sns.barplot(y='Model_Name', x='Value', hue='Variable', data=tidy, ax=ax, palette='nipy_spectral', linewidth=1, edgecolor=\"w\")\n",
    "plt.title('Model Outlier Detection Performance (Macro)')"
   ]
  },
  {
   "cell_type": "code",
   "execution_count": null,
   "id": "f46ded82",
   "metadata": {},
   "outputs": [],
   "source": []
  },
  {
   "cell_type": "code",
   "execution_count": null,
   "id": "7f7ffcf0",
   "metadata": {},
   "outputs": [],
   "source": []
  }
 ],
 "metadata": {
  "kernelspec": {
   "display_name": "work",
   "language": "python",
   "name": "work"
  },
  "language_info": {
   "codemirror_mode": {
    "name": "ipython",
    "version": 3
   },
   "file_extension": ".py",
   "mimetype": "text/x-python",
   "name": "python",
   "nbconvert_exporter": "python",
   "pygments_lexer": "ipython3",
   "version": "3.9.7"
  }
 },
 "nbformat": 4,
 "nbformat_minor": 5
}
