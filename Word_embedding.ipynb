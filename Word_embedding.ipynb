{
 "cells": [
  {
   "cell_type": "markdown",
   "id": "22559a78",
   "metadata": {},
   "source": [
    "# Learning Embeddings from scratch"
   ]
  },
  {
   "cell_type": "code",
   "execution_count": 23,
   "id": "34c40b2b",
   "metadata": {},
   "outputs": [],
   "source": [
    "#importing libraries\n",
    "import pandas as pd\n",
    "import numpy as np\n",
    "\n",
    "from keras.preprocessing.text import Tokenizer\n",
    "from keras.preprocessing.sequence import pad_sequences\n",
    "\n",
    "from keras.models import *\n",
    "from keras.layers import *\n",
    "from keras.callbacks import *"
   ]
  },
  {
   "cell_type": "code",
   "execution_count": 24,
   "id": "4ea4b6eb",
   "metadata": {},
   "outputs": [],
   "source": [
    "# dataset available - https://www.kaggle.com/columbine/imdb-dataset-sentiment-analysis-in-csv-format/\n",
    "#reading csv files\n",
    "train = pd.read_csv('../IMDB_Train.csv')\n",
    "valid = pd.read_csv('../IMDB_Valid.csv') "
   ]
  },
  {
   "cell_type": "code",
   "execution_count": 25,
   "id": "b5f06855",
   "metadata": {},
   "outputs": [],
   "source": [
    "#train_test split\n",
    "x_train, y_train = train['text'].values, train['label'].values\n",
    "x_val, y_val = valid['text'].values, valid['label'].values"
   ]
  },
  {
   "cell_type": "code",
   "execution_count": 26,
   "id": "d5d43f2f",
   "metadata": {},
   "outputs": [],
   "source": [
    "#Tokenize the sentences\n",
    "tokenizer = Tokenizer()"
   ]
  },
  {
   "cell_type": "code",
   "execution_count": 27,
   "id": "19dc3659",
   "metadata": {},
   "outputs": [],
   "source": [
    "#preparing vocabulary\n",
    "tokenizer.fit_on_texts(list(x_train))"
   ]
  },
  {
   "cell_type": "code",
   "execution_count": 28,
   "id": "08bbb229",
   "metadata": {},
   "outputs": [],
   "source": [
    "#converting text into integer sequences\n",
    "x_train_seq  = tokenizer.texts_to_sequences(x_train)\n",
    "x_val_seq = tokenizer.texts_to_sequences(x_val)"
   ]
  },
  {
   "cell_type": "code",
   "execution_count": 54,
   "id": "ef7325bd",
   "metadata": {
    "scrolled": true
   },
   "outputs": [
    {
     "data": {
      "text/plain": [
       "array([[  477,     5,    63, ...,  5988,     4,  5890],\n",
       "       [  232,    25, 65084, ...,    20,  6238,   240],\n",
       "       [38401,   669,   273, ...,    19,  2293,  5475],\n",
       "       ...,\n",
       "       [    1,  1376, 33722, ...,  4706,   785,    31],\n",
       "       [  140,     5,   114, ...,     7,   733,   154],\n",
       "       [  174,     5,   412, ...,    57,   943,  6779]])"
      ]
     },
     "execution_count": 54,
     "metadata": {},
     "output_type": "execute_result"
    }
   ],
   "source": [
    "x_train_seq"
   ]
  },
  {
   "cell_type": "code",
   "execution_count": 55,
   "id": "26a31626",
   "metadata": {},
   "outputs": [
    {
     "data": {
      "text/plain": [
       "array([[ 111,   93,   50, ...,   11,  339,  154],\n",
       "       [1018,   11,  821, ...,  710,    4, 7856],\n",
       "       [   0,    0,    0, ...,    8,   11,   19],\n",
       "       ...,\n",
       "       [8609,   42,    4, ...,  126,  104, 1493],\n",
       "       [1313, 2044, 8480, ...,   63,    1,  182],\n",
       "       [   3,  114,    4, ...,    2, 1297,  498]])"
      ]
     },
     "execution_count": 55,
     "metadata": {},
     "output_type": "execute_result"
    }
   ],
   "source": [
    "x_val_seq"
   ]
  },
  {
   "cell_type": "code",
   "execution_count": 31,
   "id": "233195d4",
   "metadata": {},
   "outputs": [],
   "source": [
    "#padding to prepare sequences of same length\n",
    "x_train_seq  = pad_sequences(x_train_seq, maxlen=100)\n",
    "x_val_seq = pad_sequences(x_val_seq, maxlen=100)"
   ]
  },
  {
   "cell_type": "code",
   "execution_count": 32,
   "id": "61692408",
   "metadata": {
    "scrolled": true
   },
   "outputs": [
    {
     "data": {
      "text/plain": [
       "array([[  477,     5,    63, ...,  5988,     4,  5890],\n",
       "       [  232,    25, 65084, ...,    20,  6238,   240],\n",
       "       [38401,   669,   273, ...,    19,  2293,  5475],\n",
       "       ...,\n",
       "       [    1,  1376, 33722, ...,  4706,   785,    31],\n",
       "       [  140,     5,   114, ...,     7,   733,   154],\n",
       "       [  174,     5,   412, ...,    57,   943,  6779]])"
      ]
     },
     "execution_count": 32,
     "metadata": {},
     "output_type": "execute_result"
    }
   ],
   "source": [
    "x_train_seq"
   ]
  },
  {
   "cell_type": "code",
   "execution_count": 33,
   "id": "4c3bcc93",
   "metadata": {},
   "outputs": [
    {
     "data": {
      "text/plain": [
       "array([[ 111,   93,   50, ...,   11,  339,  154],\n",
       "       [1018,   11,  821, ...,  710,    4, 7856],\n",
       "       [   0,    0,    0, ...,    8,   11,   19],\n",
       "       ...,\n",
       "       [8609,   42,    4, ...,  126,  104, 1493],\n",
       "       [1313, 2044, 8480, ...,   63,    1,  182],\n",
       "       [   3,  114,    4, ...,    2, 1297,  498]])"
      ]
     },
     "execution_count": 33,
     "metadata": {},
     "output_type": "execute_result"
    }
   ],
   "source": [
    "x_val_seq"
   ]
  },
  {
   "cell_type": "code",
   "execution_count": 34,
   "id": "21d6f91a",
   "metadata": {},
   "outputs": [],
   "source": [
    "# build model\n",
    "model=Sequential()\n",
    "\n",
    "size_of_vocabulary=len(tokenizer.word_index) + 1 #+1 for padding\n",
    "\n",
    "#embedding layer\n",
    "model.add(Embedding(size_of_vocabulary,300,input_length=100,trainable=True))"
   ]
  },
  {
   "cell_type": "code",
   "execution_count": 35,
   "id": "49ae5553",
   "metadata": {},
   "outputs": [],
   "source": [
    "#lstm layer\n",
    "model.add(LSTM(128,return_sequences=True,dropout=0.2))\n",
    "\n",
    "#Global Maxpooling\n",
    "model.add(GlobalMaxPooling1D())\n",
    "\n",
    "#Dense Layer\n",
    "model.add(Dense(64,activation='relu')) \n",
    "model.add(Dense(1,activation='sigmoid'))\n",
    "\n",
    "#Add loss function, metrics, optimizer\n",
    "model.compile(optimizer='adam', loss='binary_crossentropy', metrics=[\"acc\"]) "
   ]
  },
  {
   "cell_type": "code",
   "execution_count": 36,
   "id": "f4a07899",
   "metadata": {},
   "outputs": [],
   "source": [
    "#Adding callbacks\n",
    "es = EarlyStopping(monitor='val_loss', mode='min', verbose=1,patience=3)  \n",
    "mc = ModelCheckpoint('best_model.h5', monitor='val_acc', mode='max', save_best_only=True,verbose=1)  "
   ]
  },
  {
   "cell_type": "code",
   "execution_count": 37,
   "id": "f11aab4e",
   "metadata": {},
   "outputs": [
    {
     "name": "stdout",
     "output_type": "stream",
     "text": [
      "Model: \"sequential_2\"\n",
      "_________________________________________________________________\n",
      " Layer (type)                Output Shape              Param #   \n",
      "=================================================================\n",
      " embedding_1 (Embedding)     (None, 100, 300)          33661200  \n",
      "                                                                 \n",
      " lstm_1 (LSTM)               (None, 100, 128)          219648    \n",
      "                                                                 \n",
      " global_max_pooling1d_1 (Glo  (None, 128)              0         \n",
      " balMaxPooling1D)                                                \n",
      "                                                                 \n",
      " dense_2 (Dense)             (None, 64)                8256      \n",
      "                                                                 \n",
      " dense_3 (Dense)             (None, 1)                 65        \n",
      "                                                                 \n",
      "=================================================================\n",
      "Total params: 33,889,169\n",
      "Trainable params: 33,889,169\n",
      "Non-trainable params: 0\n",
      "_________________________________________________________________\n",
      "None\n"
     ]
    }
   ],
   "source": [
    "# summary of model\n",
    "print(model.summary())"
   ]
  },
  {
   "cell_type": "code",
   "execution_count": 38,
   "id": "dc95c1df",
   "metadata": {},
   "outputs": [
    {
     "name": "stdout",
     "output_type": "stream",
     "text": [
      "Epoch 1/10\n",
      "313/313 [==============================] - ETA: 0s - loss: 0.4107 - acc: 0.8080\n",
      "Epoch 00001: val_acc improved from -inf to 0.86420, saving model to best_model.h5\n",
      "313/313 [==============================] - 211s 667ms/step - loss: 0.4107 - acc: 0.8080 - val_loss: 0.3125 - val_acc: 0.8642\n",
      "Epoch 2/10\n",
      "313/313 [==============================] - ETA: 0s - loss: 0.2106 - acc: 0.9180\n",
      "Epoch 00002: val_acc did not improve from 0.86420\n",
      "313/313 [==============================] - 210s 669ms/step - loss: 0.2106 - acc: 0.9180 - val_loss: 0.3397 - val_acc: 0.8632\n",
      "Epoch 3/10\n",
      "313/313 [==============================] - ETA: 0s - loss: 0.1031 - acc: 0.9633\n",
      "Epoch 00003: val_acc did not improve from 0.86420\n",
      "313/313 [==============================] - 212s 677ms/step - loss: 0.1031 - acc: 0.9633 - val_loss: 0.4335 - val_acc: 0.8566\n",
      "Epoch 4/10\n",
      "313/313 [==============================] - ETA: 0s - loss: 0.0460 - acc: 0.9847\n",
      "Epoch 00004: val_acc did not improve from 0.86420\n",
      "313/313 [==============================] - 216s 690ms/step - loss: 0.0460 - acc: 0.9847 - val_loss: 0.5200 - val_acc: 0.8552\n",
      "Epoch 00004: early stopping\n"
     ]
    }
   ],
   "source": [
    "# train the model\n",
    "history = model.fit(np.array(x_train_seq),np.array(y_train), \n",
    "                    batch_size=128, \n",
    "                    epochs=10,\n",
    "                    validation_data=(np.array(x_val_seq),np.array(y_val)),\n",
    "                    verbose=1,\n",
    "                    callbacks=[es,mc])"
   ]
  },
  {
   "cell_type": "code",
   "execution_count": 39,
   "id": "4becd8b6",
   "metadata": {},
   "outputs": [],
   "source": [
    "#loading best model\n",
    "from keras.models import load_model\n",
    "model = load_model('best_model.h5')"
   ]
  },
  {
   "cell_type": "code",
   "execution_count": 41,
   "id": "5208d18a",
   "metadata": {},
   "outputs": [
    {
     "name": "stdout",
     "output_type": "stream",
     "text": [
      "40/40 [==============================] - 6s 128ms/step - loss: 0.3125 - acc: 0.8642\n",
      "Validation Accuracy:  0.8641999959945679\n"
     ]
    }
   ],
   "source": [
    "#evaluation \n",
    "_,val_acc = model.evaluate(x_val_seq, y_val, batch_size=128)\n",
    "print('Validation Accuracy: ', val_acc)"
   ]
  },
  {
   "cell_type": "code",
   "execution_count": null,
   "id": "a90454e6",
   "metadata": {},
   "outputs": [],
   "source": []
  },
  {
   "cell_type": "markdown",
   "id": "8957b70e",
   "metadata": {},
   "source": [
    "# Learning Embeddings using GloVe pretrained word embeddings"
   ]
  },
  {
   "cell_type": "code",
   "execution_count": 46,
   "id": "184d910f",
   "metadata": {},
   "outputs": [
    {
     "name": "stdout",
     "output_type": "stream",
     "text": [
      "Loaded 400000 word vectors.\n"
     ]
    }
   ],
   "source": [
    "embeddings_index = dict()\n",
    "f = open('../Glove/glove.6B.300d.txt', encoding=\"utf8\") # download glove embeddings from nlp.stanford.edu/data/glove.6B.zip\n",
    "\n",
    "for line in f:\n",
    "    values = line.split()\n",
    "    word = values[0]\n",
    "    coefs = np.asarray(values[1:], dtype='float32')\n",
    "    embeddings_index[word] = coefs\n",
    "\n",
    "f.close()\n",
    "print('Loaded %s word vectors.' % len(embeddings_index))"
   ]
  },
  {
   "cell_type": "code",
   "execution_count": 47,
   "id": "76174d0f",
   "metadata": {},
   "outputs": [],
   "source": [
    "# create a weight matrix for words in training docs\n",
    "embedding_matrix = np.zeros((size_of_vocabulary, 300))\n",
    "\n",
    "for word, i in tokenizer.word_index.items():\n",
    "    embedding_vector = embeddings_index.get(word)\n",
    "    if embedding_vector is not None:\n",
    "        embedding_matrix[i] = embedding_vector"
   ]
  },
  {
   "cell_type": "code",
   "execution_count": 48,
   "id": "decfbb34",
   "metadata": {},
   "outputs": [],
   "source": [
    "model=Sequential()\n",
    "\n",
    "#embedding layer\n",
    "model.add(Embedding(size_of_vocabulary,300,weights=[embedding_matrix],input_length=100,trainable=False)) \n",
    "\n",
    "#lstm layer\n",
    "model.add(LSTM(128,return_sequences=True,dropout=0.2))\n",
    "\n",
    "#Global Maxpooling\n",
    "model.add(GlobalMaxPooling1D())\n",
    "\n",
    "#Dense Layer\n",
    "model.add(Dense(64,activation='relu')) \n",
    "model.add(Dense(1,activation='sigmoid')) \n",
    "\n",
    "#Add loss function, metrics, optimizer\n",
    "model.compile(optimizer='adam', loss='binary_crossentropy',metrics=[\"acc\"]) "
   ]
  },
  {
   "cell_type": "code",
   "execution_count": 49,
   "id": "e32461fa",
   "metadata": {},
   "outputs": [
    {
     "name": "stdout",
     "output_type": "stream",
     "text": [
      "Model: \"sequential_3\"\n",
      "_________________________________________________________________\n",
      " Layer (type)                Output Shape              Param #   \n",
      "=================================================================\n",
      " embedding_2 (Embedding)     (None, 100, 300)          33661200  \n",
      "                                                                 \n",
      " lstm_2 (LSTM)               (None, 100, 128)          219648    \n",
      "                                                                 \n",
      " global_max_pooling1d_2 (Glo  (None, 128)              0         \n",
      " balMaxPooling1D)                                                \n",
      "                                                                 \n",
      " dense_4 (Dense)             (None, 64)                8256      \n",
      "                                                                 \n",
      " dense_5 (Dense)             (None, 1)                 65        \n",
      "                                                                 \n",
      "=================================================================\n",
      "Total params: 33,889,169\n",
      "Trainable params: 227,969\n",
      "Non-trainable params: 33,661,200\n",
      "_________________________________________________________________\n",
      "None\n"
     ]
    }
   ],
   "source": [
    "#Adding callbacks\n",
    "es = EarlyStopping(monitor='val_loss', mode='min', verbose=1,patience=3)  \n",
    "mc=ModelCheckpoint('best_model_pretrain.h5', monitor='val_acc', mode='max', save_best_only=True,verbose=1)\n",
    "\n",
    "#summary of model\n",
    "print(model.summary())"
   ]
  },
  {
   "cell_type": "code",
   "execution_count": 50,
   "id": "f0bb5c34",
   "metadata": {},
   "outputs": [
    {
     "name": "stdout",
     "output_type": "stream",
     "text": [
      "Epoch 1/10\n",
      "313/313 [==============================] - ETA: 0s - loss: 0.4449 - acc: 0.7849\n",
      "Epoch 00001: val_acc improved from -inf to 0.84880, saving model to best_model.h5\n",
      "313/313 [==============================] - 179s 567ms/step - loss: 0.4449 - acc: 0.7849 - val_loss: 0.3509 - val_acc: 0.8488\n",
      "Epoch 2/10\n",
      "313/313 [==============================] - ETA: 0s - loss: 0.3426 - acc: 0.8478\n",
      "Epoch 00002: val_acc improved from 0.84880 to 0.85900, saving model to best_model.h5\n",
      "313/313 [==============================] - 181s 579ms/step - loss: 0.3426 - acc: 0.8478 - val_loss: 0.3199 - val_acc: 0.8590\n",
      "Epoch 3/10\n",
      "313/313 [==============================] - ETA: 0s - loss: 0.3046 - acc: 0.8695\n",
      "Epoch 00003: val_acc improved from 0.85900 to 0.86380, saving model to best_model.h5\n",
      "313/313 [==============================] - 180s 577ms/step - loss: 0.3046 - acc: 0.8695 - val_loss: 0.3161 - val_acc: 0.8638\n",
      "Epoch 4/10\n",
      "313/313 [==============================] - ETA: 0s - loss: 0.2670 - acc: 0.8881\n",
      "Epoch 00004: val_acc improved from 0.86380 to 0.86760, saving model to best_model.h5\n",
      "313/313 [==============================] - 180s 576ms/step - loss: 0.2670 - acc: 0.8881 - val_loss: 0.3079 - val_acc: 0.8676\n",
      "Epoch 5/10\n",
      "313/313 [==============================] - ETA: 0s - loss: 0.2355 - acc: 0.9021\n",
      "Epoch 00005: val_acc improved from 0.86760 to 0.87780, saving model to best_model.h5\n",
      "313/313 [==============================] - 179s 571ms/step - loss: 0.2355 - acc: 0.9021 - val_loss: 0.2899 - val_acc: 0.8778\n",
      "Epoch 6/10\n",
      "313/313 [==============================] - ETA: 0s - loss: 0.2106 - acc: 0.9145\n",
      "Epoch 00006: val_acc did not improve from 0.87780\n",
      "313/313 [==============================] - 179s 573ms/step - loss: 0.2106 - acc: 0.9145 - val_loss: 0.2919 - val_acc: 0.8776\n",
      "Epoch 7/10\n",
      "313/313 [==============================] - ETA: 0s - loss: 0.1848 - acc: 0.9247\n",
      "Epoch 00007: val_acc did not improve from 0.87780\n",
      "313/313 [==============================] - 180s 576ms/step - loss: 0.1848 - acc: 0.9247 - val_loss: 0.3250 - val_acc: 0.8676\n",
      "Epoch 8/10\n",
      "313/313 [==============================] - ETA: 0s - loss: 0.1619 - acc: 0.9366\n",
      "Epoch 00008: val_acc did not improve from 0.87780\n",
      "313/313 [==============================] - 181s 577ms/step - loss: 0.1619 - acc: 0.9366 - val_loss: 0.3387 - val_acc: 0.8744\n",
      "Epoch 00008: early stopping\n"
     ]
    }
   ],
   "source": [
    "# train the model\n",
    "history = model.fit(np.array(x_train_seq),np.array(y_train), \n",
    "                    batch_size=128,\n",
    "                    epochs=10,\n",
    "                    validation_data=(np.array(x_val_seq),np.array(y_val)),\n",
    "                    verbose=1,\n",
    "                    callbacks=[es,mc])"
   ]
  },
  {
   "cell_type": "code",
   "execution_count": 52,
   "id": "971e968c",
   "metadata": {},
   "outputs": [],
   "source": [
    "#loading best model\n",
    "from keras.models import load_model\n",
    "model = load_model('best_model_pretrain.h5')"
   ]
  },
  {
   "cell_type": "code",
   "execution_count": 53,
   "id": "2166cdab",
   "metadata": {},
   "outputs": [
    {
     "name": "stdout",
     "output_type": "stream",
     "text": [
      "40/40 [==============================] - 9s 207ms/step - loss: 0.2899 - acc: 0.8778\n",
      "Validation Accuracy:  0.8777999877929688\n"
     ]
    }
   ],
   "source": [
    "#evaluation \n",
    "_,val_acc = model.evaluate(x_val_seq,y_val, batch_size=128)\n",
    "print('Validation Accuracy: ', val_acc)"
   ]
  },
  {
   "cell_type": "code",
   "execution_count": null,
   "id": "bcf0443c",
   "metadata": {},
   "outputs": [],
   "source": []
  }
 ],
 "metadata": {
  "kernelspec": {
   "display_name": "work",
   "language": "python",
   "name": "work"
  },
  "language_info": {
   "codemirror_mode": {
    "name": "ipython",
    "version": 3
   },
   "file_extension": ".py",
   "mimetype": "text/x-python",
   "name": "python",
   "nbconvert_exporter": "python",
   "pygments_lexer": "ipython3",
   "version": "3.9.7"
  }
 },
 "nbformat": 4,
 "nbformat_minor": 5
}
