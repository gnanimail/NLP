{
  "nbformat": 4,
  "nbformat_minor": 0,
  "metadata": {
    "colab": {
      "name": "LSTM_Image_Classification.ipynb",
      "provenance": [],
      "collapsed_sections": [],
      "include_colab_link": true
    },
    "kernelspec": {
      "name": "python3",
      "display_name": "Python 3"
    }
  },
  "cells": [
    {
      "cell_type": "markdown",
      "metadata": {
        "id": "view-in-github",
        "colab_type": "text"
      },
      "source": [
        "<a href=\"https://colab.research.google.com/github/gnanimail/NLP/blob/master/LSTM_Image_Classification.ipynb\" target=\"_parent\"><img src=\"https://colab.research.google.com/assets/colab-badge.svg\" alt=\"Open In Colab\"/></a>"
      ]
    },
    {
      "cell_type": "code",
      "metadata": {
        "id": "A2hCqgNUcLd7",
        "colab_type": "code",
        "colab": {}
      },
      "source": [
        "from keras.models import Sequential\n",
        "from keras.layers import LSTM, Dense, Dropout\n",
        "from keras.datasets import mnist\n",
        "from keras.utils import np_utils\n",
        "from keras import initializers"
      ],
      "execution_count": 2,
      "outputs": []
    },
    {
      "cell_type": "code",
      "metadata": {
        "id": "h2kp2dICdCLf",
        "colab_type": "code",
        "colab": {}
      },
      "source": [
        "# Hyper_parameters\n",
        "batch_size = 128\n",
        "nb_epoch = 5"
      ],
      "execution_count": 3,
      "outputs": []
    },
    {
      "cell_type": "code",
      "metadata": {
        "id": "z1dX4z1LdNib",
        "colab_type": "code",
        "colab": {}
      },
      "source": [
        "# parameters for mnist dataset\n",
        "img_rows, img_cols = 28, 28\n",
        "nb_classes = 10"
      ],
      "execution_count": 4,
      "outputs": []
    },
    {
      "cell_type": "code",
      "metadata": {
        "id": "KeEFP5njdWXa",
        "colab_type": "code",
        "colab": {}
      },
      "source": [
        "# Parameters for LSTM network\n",
        "nb_lstm_outputs = 30\n",
        "nb_time_steps = img_rows\n",
        "dim_input_vector = img_cols"
      ],
      "execution_count": 5,
      "outputs": []
    },
    {
      "cell_type": "code",
      "metadata": {
        "id": "DqjbW2EIdYYO",
        "colab_type": "code",
        "colab": {
          "base_uri": "https://localhost:8080/",
          "height": 54
        },
        "outputId": "67308eb6-4213-4ab0-a2fc-ea018bfb48cd"
      },
      "source": [
        "# Load MNIST dataset\n",
        "(X_train, y_train), (X_test, y_test) = mnist.load_data()\n",
        "input_shape = (nb_time_steps,dim_input_vector)"
      ],
      "execution_count": 6,
      "outputs": [
        {
          "output_type": "stream",
          "text": [
            "Downloading data from https://s3.amazonaws.com/img-datasets/mnist.npz\n",
            "11493376/11490434 [==============================] - 2s 0us/step\n"
          ],
          "name": "stdout"
        }
      ]
    },
    {
      "cell_type": "code",
      "metadata": {
        "id": "53aJOxAxd0Ev",
        "colab_type": "code",
        "colab": {
          "base_uri": "https://localhost:8080/",
          "height": 73
        },
        "outputId": "dbd31d0e-8bf9-474a-c785-a50062d2ee9c"
      },
      "source": [
        "X_train = X_train.astype('float32') / 255.\n",
        "X_test = X_test.astype('float32') / 255.\n",
        "\n",
        "y_train = np_utils.to_categorical(y_train, nb_classes)\n",
        "y_test = np_utils.to_categorical(y_test, nb_classes)\n",
        "\n",
        "print('X_train shape:', X_train.shape)\n",
        "print(X_train.shape[0], 'train samples')\n",
        "print(X_test.shape[0], 'test samples')"
      ],
      "execution_count": 7,
      "outputs": [
        {
          "output_type": "stream",
          "text": [
            "X_train shape: (60000, 28, 28)\n",
            "60000 train samples\n",
            "10000 test samples\n"
          ],
          "name": "stdout"
        }
      ]
    },
    {
      "cell_type": "code",
      "metadata": {
        "id": "vMDb4LV_f4C3",
        "colab_type": "code",
        "colab": {
          "base_uri": "https://localhost:8080/",
          "height": 425
        },
        "outputId": "3ea26c78-db81-40e3-fdb8-e18fed7e11d8"
      },
      "source": [
        "# bulid model\n",
        "model = Sequential()\n",
        "model.add(LSTM(128, input_shape=(X_train.shape[1:]), activation='relu', return_sequences=True))\n",
        "model.add(Dropout(0.2))\n",
        "\n",
        "model.add(LSTM(128, activation='relu'))\n",
        "model.add(Dropout(0.2))\n",
        "\n",
        "model.add(Dense(32, activation='relu'))\n",
        "model.add(Dropout(0.2))\n",
        "\n",
        "model.add(Dense(10, activation='softmax'))\n",
        "\n",
        "model.compile(optimizer='rmsprop', loss='categorical_crossentropy', metrics=['accuracy'])\n",
        "model.summary()"
      ],
      "execution_count": 14,
      "outputs": [
        {
          "output_type": "stream",
          "text": [
            "Model: \"sequential_4\"\n",
            "_________________________________________________________________\n",
            "Layer (type)                 Output Shape              Param #   \n",
            "=================================================================\n",
            "lstm_7 (LSTM)                (None, 28, 128)           80384     \n",
            "_________________________________________________________________\n",
            "dropout_10 (Dropout)         (None, 28, 128)           0         \n",
            "_________________________________________________________________\n",
            "lstm_8 (LSTM)                (None, 128)               131584    \n",
            "_________________________________________________________________\n",
            "dropout_11 (Dropout)         (None, 128)               0         \n",
            "_________________________________________________________________\n",
            "dense_7 (Dense)              (None, 32)                4128      \n",
            "_________________________________________________________________\n",
            "dropout_12 (Dropout)         (None, 32)                0         \n",
            "_________________________________________________________________\n",
            "dense_8 (Dense)              (None, 10)                330       \n",
            "=================================================================\n",
            "Total params: 216,426\n",
            "Trainable params: 216,426\n",
            "Non-trainable params: 0\n",
            "_________________________________________________________________\n"
          ],
          "name": "stdout"
        }
      ]
    },
    {
      "cell_type": "code",
      "metadata": {
        "id": "ZskmsmRrjTjr",
        "colab_type": "code",
        "colab": {
          "base_uri": "https://localhost:8080/",
          "height": 221
        },
        "outputId": "f4949edc-ebf0-44b9-a591-541f8314ca1a"
      },
      "source": [
        "# Training the model\n",
        "lstm_model = model.fit(X_train, y_train, \n",
        "                        epochs=nb_epoch, \n",
        "                        batch_size=batch_size, \n",
        "                        shuffle=True,\n",
        "                        validation_data=(X_test, y_test),\n",
        "                        verbose=1)"
      ],
      "execution_count": 15,
      "outputs": [
        {
          "output_type": "stream",
          "text": [
            "Train on 60000 samples, validate on 10000 samples\n",
            "Epoch 1/5\n",
            "60000/60000 [==============================] - 114s 2ms/step - loss: 1.0673 - accuracy: 0.6440 - val_loss: 0.2628 - val_accuracy: 0.9179\n",
            "Epoch 2/5\n",
            "60000/60000 [==============================] - 113s 2ms/step - loss: 0.2897 - accuracy: 0.9190 - val_loss: 0.1400 - val_accuracy: 0.9603\n",
            "Epoch 3/5\n",
            "60000/60000 [==============================] - 114s 2ms/step - loss: 0.1713 - accuracy: 0.9543 - val_loss: 0.0968 - val_accuracy: 0.9733\n",
            "Epoch 4/5\n",
            "60000/60000 [==============================] - 113s 2ms/step - loss: 0.1298 - accuracy: 0.9661 - val_loss: 0.2600 - val_accuracy: 0.9462\n",
            "Epoch 5/5\n",
            "60000/60000 [==============================] - 114s 2ms/step - loss: 0.1028 - accuracy: 0.9737 - val_loss: 0.1641 - val_accuracy: 0.9656\n"
          ],
          "name": "stdout"
        }
      ]
    },
    {
      "cell_type": "code",
      "metadata": {
        "id": "hq_Ov1Fgl1O2",
        "colab_type": "code",
        "colab": {
          "base_uri": "https://localhost:8080/",
          "height": 54
        },
        "outputId": "2c728315-31ec-437c-c63c-5219e85415a8"
      },
      "source": [
        "# Evaluation\n",
        "evaluation = model.evaluate(X_test, y_test, batch_size=batch_size, verbose=1)\n",
        "print('Summary: Loss over the test dataset: %.2f, Accuracy: %.2f' % (evaluation[0], evaluation[1]))"
      ],
      "execution_count": 16,
      "outputs": [
        {
          "output_type": "stream",
          "text": [
            "10000/10000 [==============================] - 5s 475us/step\n",
            "Summary: Loss over the test dataset: 0.16, Accuracy: 0.97\n"
          ],
          "name": "stdout"
        }
      ]
    },
    {
      "cell_type": "code",
      "metadata": {
        "id": "49qyRgBXrum7",
        "colab_type": "code",
        "colab": {
          "base_uri": "https://localhost:8080/",
          "height": 577
        },
        "outputId": "1365dfb4-c51d-4650-e648-1dd42c260da6"
      },
      "source": [
        "import matplotlib.pyplot as plt\n",
        "\n",
        "# plotting the metrics\n",
        "fig = plt.figure()\n",
        "plt.subplot(2,1,1)\n",
        "plt.plot(lstm_model.history['accuracy'])\n",
        "plt.plot(lstm_model.history['val_accuracy'])\n",
        "plt.title('model accuracy')\n",
        "plt.ylabel('accuracy')\n",
        "plt.xlabel('epoch')\n",
        "plt.legend(['train', 'test'], loc='lower right')\n",
        "\n",
        "plt.subplot(2,1,2)\n",
        "plt.plot(lstm_model.history['loss'])\n",
        "plt.plot(lstm_model.history['val_loss'])\n",
        "plt.title('model loss')\n",
        "plt.ylabel('loss')\n",
        "plt.xlabel('epoch')\n",
        "plt.legend(['train', 'test'], loc='upper right')\n",
        "\n",
        "plt.tight_layout()\n",
        "\n",
        "fig"
      ],
      "execution_count": 17,
      "outputs": [
        {
          "output_type": "execute_result",
          "data": {
            "image/png": "[encoded data removed]",
            "text/plain": [
              "<Figure size 432x288 with 2 Axes>"
            ]
          },
          "metadata": {
            "tags": []
          },
          "execution_count": 17
        },
        {
          "output_type": "display_data",
          "data": {
            "image/png": "[encoded data removed]",
            "text/plain": [
              "<Figure size 432x288 with 2 Axes>"
            ]
          },
          "metadata": {
            "tags": [],
            "needs_background": "light"
          }
        }
      ]
    },
    {
      "cell_type": "code",
      "metadata": {
        "id": "2R2gIDeM7ABA",
        "colab_type": "code",
        "colab": {
          "base_uri": "https://localhost:8080/",
          "height": 287
        },
        "outputId": "7c0b36c5-17ce-40bf-c207-9f4ad712c41d"
      },
      "source": [
        "plt.imshow(X_test[1].reshape(28,28), cmap='gray', interpolation='none')\n",
        "plt.title(\"Actual\")\n",
        "plt.xticks([])\n",
        "plt.yticks([])"
      ],
      "execution_count": 25,
      "outputs": [
        {
          "output_type": "execute_result",
          "data": {
            "text/plain": [
              "([], <a list of 0 Text major ticklabel objects>)"
            ]
          },
          "metadata": {
            "tags": []
          },
          "execution_count": 25
        },
        {
          "output_type": "display_data",
          "data": {
            "image/png": "[encoded data removed]",
            "text/plain": [
              "<Figure size 432x288 with 1 Axes>"
            ]
          },
          "metadata": {
            "tags": []
          }
        }
      ]
    },
    {
      "cell_type": "code",
      "metadata": {
        "id": "-SdUQ65P6gRq",
        "colab_type": "code",
        "colab": {
          "base_uri": "https://localhost:8080/",
          "height": 36
        },
        "outputId": "ff7364bf-19a5-413c-a454-160f8282b208"
      },
      "source": [
        "#Prediction\n",
        "x = X_test[1].reshape(28,28)\n",
        "x = np.expand_dims(x, axis=0)\n",
        "preds = model.predict_classes(x)\n",
        "print(preds[0])"
      ],
      "execution_count": 36,
      "outputs": [
        {
          "output_type": "stream",
          "text": [
            "2\n"
          ],
          "name": "stdout"
        }
      ]
    },
    {
      "cell_type": "code",
      "metadata": {
        "id": "eZf3G-dcuLb3",
        "colab_type": "code",
        "colab": {}
      },
      "source": [
        ""
      ],
      "execution_count": null,
      "outputs": []
    }
  ]
}